{
 "cells": [
  {
   "cell_type": "code",
   "execution_count": 1,
   "metadata": {},
   "outputs": [],
   "source": [
    "from functions import *"
   ]
  },
  {
   "cell_type": "markdown",
   "metadata": {},
   "source": [
    "# ITU Data to TSV"
   ]
  },
  {
   "cell_type": "code",
   "execution_count": 2,
   "metadata": {},
   "outputs": [
    {
     "data": {
      "text/html": [
       "<div>\n",
       "<style scoped>\n",
       "    .dataframe tbody tr th:only-of-type {\n",
       "        vertical-align: middle;\n",
       "    }\n",
       "\n",
       "    .dataframe tbody tr th {\n",
       "        vertical-align: top;\n",
       "    }\n",
       "\n",
       "    .dataframe thead th {\n",
       "        text-align: right;\n",
       "    }\n",
       "</style>\n",
       "<table border=\"1\" class=\"dataframe\">\n",
       "  <thead>\n",
       "    <tr style=\"text-align: right;\">\n",
       "      <th></th>\n",
       "      <th>language</th>\n",
       "      <th>sentence</th>\n",
       "      <th>tokenized_sentence</th>\n",
       "      <th>expression</th>\n",
       "      <th>category</th>\n",
       "      <th>indices</th>\n",
       "    </tr>\n",
       "    <tr>\n",
       "      <th>id</th>\n",
       "      <th></th>\n",
       "      <th></th>\n",
       "      <th></th>\n",
       "      <th></th>\n",
       "      <th></th>\n",
       "      <th></th>\n",
       "    </tr>\n",
       "  </thead>\n",
       "  <tbody>\n",
       "    <tr>\n",
       "      <th>1</th>\n",
       "      <td>tr</td>\n",
       "      <td>Ödevler, Sınavlar, Evet yaşanması gereken zama...</td>\n",
       "      <td>['Ödevler', ',', 'Sınavlar', ',', 'Evet', 'yaş...</td>\n",
       "      <td>zaman öldürmek</td>\n",
       "      <td>idiomatic</td>\n",
       "      <td>[7, 8]</td>\n",
       "    </tr>\n",
       "    <tr>\n",
       "      <th>2</th>\n",
       "      <td>tr</td>\n",
       "      <td>Belediye bugün yolları açtı.</td>\n",
       "      <td>['Belediye', 'bugün', 'yolları', 'açtı', '.']</td>\n",
       "      <td>yol açmak</td>\n",
       "      <td>literal</td>\n",
       "      <td>[-1]</td>\n",
       "    </tr>\n",
       "    <tr>\n",
       "      <th>3</th>\n",
       "      <td>tr</td>\n",
       "      <td>Planı ortaya çıkmasın diye elinden geleni yapmış.</td>\n",
       "      <td>['Planı', 'ortaya', 'çıkmasın', 'diye', 'elind...</td>\n",
       "      <td>ortaya çıkmak</td>\n",
       "      <td>idiomatic</td>\n",
       "      <td>[1, 2]</td>\n",
       "    </tr>\n",
       "    <tr>\n",
       "      <th>4</th>\n",
       "      <td>tr</td>\n",
       "      <td>Aldığın bunca tedbire rağmen halen üstüne geli...</td>\n",
       "      <td>['Aldığın', 'bunca', 'tedbire', 'rağmen', 'hal...</td>\n",
       "      <td>üstüne almak</td>\n",
       "      <td>literal</td>\n",
       "      <td>[-1]</td>\n",
       "    </tr>\n",
       "    <tr>\n",
       "      <th>5</th>\n",
       "      <td>tr</td>\n",
       "      <td>Yazdıkların yanlış olmuş, istersen defterden s...</td>\n",
       "      <td>['Yazdıkların', 'yanlış', 'olmuş', ',', 'ister...</td>\n",
       "      <td>defterden silmek</td>\n",
       "      <td>literal</td>\n",
       "      <td>[-1]</td>\n",
       "    </tr>\n",
       "  </tbody>\n",
       "</table>\n",
       "</div>"
      ],
      "text/plain": [
       "   language                                           sentence   \n",
       "id                                                               \n",
       "1        tr  Ödevler, Sınavlar, Evet yaşanması gereken zama...  \\\n",
       "2        tr                       Belediye bugün yolları açtı.   \n",
       "3        tr  Planı ortaya çıkmasın diye elinden geleni yapmış.   \n",
       "4        tr  Aldığın bunca tedbire rağmen halen üstüne geli...   \n",
       "5        tr  Yazdıkların yanlış olmuş, istersen defterden s...   \n",
       "\n",
       "                                   tokenized_sentence        expression   \n",
       "id                                                                        \n",
       "1   ['Ödevler', ',', 'Sınavlar', ',', 'Evet', 'yaş...    zaman öldürmek  \\\n",
       "2       ['Belediye', 'bugün', 'yolları', 'açtı', '.']         yol açmak   \n",
       "3   ['Planı', 'ortaya', 'çıkmasın', 'diye', 'elind...     ortaya çıkmak   \n",
       "4   ['Aldığın', 'bunca', 'tedbire', 'rağmen', 'hal...      üstüne almak   \n",
       "5   ['Yazdıkların', 'yanlış', 'olmuş', ',', 'ister...  defterden silmek   \n",
       "\n",
       "     category indices  \n",
       "id                     \n",
       "1   idiomatic  [7, 8]  \n",
       "2     literal    [-1]  \n",
       "3   idiomatic  [1, 2]  \n",
       "4     literal    [-1]  \n",
       "5     literal    [-1]  "
      ]
     },
     "execution_count": 2,
     "metadata": {},
     "output_type": "execute_result"
    }
   ],
   "source": [
    "itu_df = pd.read_csv(r\"../data/public_data/train.csv\", index_col=\"id\")\n",
    "itu_df.head()"
   ]
  },
  {
   "cell_type": "code",
   "execution_count": 3,
   "metadata": {},
   "outputs": [],
   "source": [
    "train_path = r\"../data/public_data/train.csv\"\n",
    "dev_path = r\"../data/public_data/eval.csv\"\n",
    "test_path = r\"../data/public_data/test.csv\"\n",
    "\n",
    "itu_to_tsv(train_path, r\"./ITU/train.tsv\")\n",
    "itu_to_tsv(dev_path, r\"./ITU/dev.tsv\")\n",
    "\n",
    "itu_to_tsv_test(test_path, r\"./ITU/test.tsv\")\n",
    "\n",
    "\n"
   ]
  },
  {
   "cell_type": "markdown",
   "metadata": {},
   "source": [
    "# PARSEME Data to TSV"
   ]
  },
  {
   "cell_type": "code",
   "execution_count": 4,
   "metadata": {},
   "outputs": [
    {
     "name": "stdout",
     "output_type": "stream",
     "text": [
      "('Türkiye', False)\n",
      "(\"'de\", False)\n",
      "('bankaların', False)\n",
      "('bir', False)\n",
      "('siyasi', False)\n",
      "('gücü', False)\n",
      "('de', False)\n",
      "('var', False)\n",
      "(',', False)\n",
      "('bu', False)\n",
      "('nedenle', False)\n",
      "('ilerde', False)\n",
      "('örgütlenmeye', False)\n",
      "('de', False)\n",
      "('yardımcı', False)\n",
      "('olabilirler', False)\n",
      "('.', False)\n"
     ]
    }
   ],
   "source": [
    "cupt_data = parse_cupt(r\"../data/PARSEME 1.1 data/sharedtask-1.1-TR/train.cupt\")\n",
    "for word in cupt_data[1]:\n",
    "    print(word)"
   ]
  },
  {
   "cell_type": "code",
   "execution_count": 5,
   "metadata": {},
   "outputs": [],
   "source": [
    "# Ensure output folders exist\n",
    "tr_out_path = r\"../data/PARSEME 1.1 data/transformed-TR/\"\n",
    "it_out_path = r\"../data/PARSEME 1.1 data/transformed-IT/\"\n",
    "os.makedirs(tr_out_path, exist_ok=True)\n",
    "os.makedirs(it_out_path, exist_ok=True)\n",
    "\n",
    "tr_in_path = r\"../data/PARSEME 1.1 data/sharedtask-1.1-TR/\"\n",
    "it_in_path = r\"../data/PARSEME 1.1 data/sharedtask-1.1-IT/\"\n",
    "\n",
    "# Transform Turkish\n",
    "transform_cupt_to_tsv(tr_in_path+\"train.cupt\", tr_out_path+\"train.tsv\", \"tr\")\n",
    "transform_cupt_to_tsv(tr_in_path+\"dev.cupt\", tr_out_path+\"dev.tsv\", \"tr\")\n",
    "transform_cupt_to_tsv(tr_in_path+\"test.cupt\", tr_out_path+\"test.tsv\", \"tr\")\n",
    "\n",
    "# Transform Italian\n",
    "transform_cupt_to_tsv(it_in_path+\"train.cupt\", it_out_path+\"train.tsv\", \"it\")\n",
    "transform_cupt_to_tsv(it_in_path+\"dev.cupt\", it_out_path+\"dev.tsv\", \"it\")\n",
    "transform_cupt_to_tsv(it_in_path+\"test.cupt\", it_out_path+\"test.tsv\", \"it\")"
   ]
  },
  {
   "cell_type": "code",
   "execution_count": 6,
   "metadata": {},
   "outputs": [],
   "source": [
    "# Create output folder\n",
    "parseme_output_path = r\"./PARSEME/\"\n",
    "os.makedirs(parseme_output_path, exist_ok=True)\n",
    "\n",
    "# Combine train, dev, test TSVs\n",
    "combine_tsv_files(tr_out_path+\"train.tsv\", it_out_path+\"train.tsv\", parseme_output_path+\"train.tsv\")\n",
    "combine_tsv_files(tr_out_path+\"dev.tsv\", it_out_path+\"dev.tsv\", parseme_output_path+\"dev.tsv\")\n",
    "combine_tsv_files(tr_out_path+\"test.tsv\", it_out_path+\"test.tsv\", parseme_output_path+\"test.tsv\")"
   ]
  },
  {
   "cell_type": "markdown",
   "metadata": {},
   "source": [
    "# ID10M\n",
    "\n",
    "ID10M is alredy in tsv format we need to add language."
   ]
  },
  {
   "cell_type": "code",
   "execution_count": 7,
   "metadata": {},
   "outputs": [],
   "source": [
    "id_input_path = r\"../data/ID10M/\"\n",
    "# check outpath\n",
    "out_path = r\"./ID10M/\"\n",
    "os.makedirs(out_path, exist_ok=True)\n",
    "# Add language to ID10M files\n",
    "add_language(id_input_path+\"train.tsv\", out_path+\"train.tsv\", \"it\")\n",
    "add_language(id_input_path+\"dev.tsv\", out_path+\"dev.tsv\", \"it\")\n",
    "add_language(id_input_path+\"test.tsv\", out_path+\"test.tsv\", \"it\")"
   ]
  },
  {
   "cell_type": "markdown",
   "metadata": {},
   "source": [
    "# combine all datasets"
   ]
  },
  {
   "cell_type": "code",
   "execution_count": 8,
   "metadata": {},
   "outputs": [],
   "source": [
    "# Create output folder for combined dataset\n",
    "combined_output_path = r\"./COMBINED/\"\n",
    "\n",
    "os.makedirs(combined_output_path,exist_ok=True)\n",
    "\n",
    "# Combine all train files into a single combined.tsv file\n",
    "combine_all_tsv_files(r\"./ITU/train.tsv\",r\"./PARSEME/train.tsv\",r\"./ID10M/train.tsv\",combined_output_path+\"train.tsv\")\n"
   ]
  }
 ],
 "metadata": {
  "kernelspec": {
   "display_name": "nlp",
   "language": "python",
   "name": "python3"
  },
  "language_info": {
   "codemirror_mode": {
    "name": "ipython",
    "version": 3
   },
   "file_extension": ".py",
   "mimetype": "text/x-python",
   "name": "python",
   "nbconvert_exporter": "python",
   "pygments_lexer": "ipython3",
   "version": "3.10.16"
  }
 },
 "nbformat": 4,
 "nbformat_minor": 2
}
