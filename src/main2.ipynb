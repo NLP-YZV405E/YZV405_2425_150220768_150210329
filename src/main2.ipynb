{
 "cells": [
  {
   "cell_type": "code",
   "execution_count": 1,
   "metadata": {},
   "outputs": [
    {
     "name": "stderr",
     "output_type": "stream",
     "text": [
      "2025-05-10 21:06:39 INFO: Checking for updates to resources.json in case models have been updated.  Note: this behavior can be turned off with download_method=None or download_method=DownloadMethod.REUSE_RESOURCES\n"
     ]
    },
    {
     "name": "stdout",
     "output_type": "stream",
     "text": [
      "Initializing Stanza pipelines...\n"
     ]
    },
    {
     "data": {
      "application/vnd.jupyter.widget-view+json": {
       "model_id": "781dc957d131466287c0967da2631366",
       "version_major": 2,
       "version_minor": 0
      },
      "text/plain": [
       "Downloading https://raw.githubusercontent.com/stanfordnlp/stanza-resources/main/resources_1.10.0.json:   0%|  …"
      ]
     },
     "metadata": {},
     "output_type": "display_data"
    },
    {
     "name": "stderr",
     "output_type": "stream",
     "text": [
      "2025-05-10 21:06:39 INFO: Downloaded file to C:\\Users\\krbyk\\stanza_resources\\resources.json\n",
      "2025-05-10 21:06:39 INFO: Loading these models for language: tr (Turkish):\n",
      "=============================\n",
      "| Processor | Package       |\n",
      "-----------------------------\n",
      "| tokenize  | imst          |\n",
      "| mwt       | imst          |\n",
      "| lemma     | imst_nocharlm |\n",
      "=============================\n",
      "\n",
      "2025-05-10 21:06:39 INFO: Using device: cuda\n",
      "2025-05-10 21:06:39 INFO: Loading: tokenize\n",
      "2025-05-10 21:06:39 INFO: Loading: mwt\n",
      "2025-05-10 21:06:40 INFO: Loading: lemma\n",
      "2025-05-10 21:06:40 INFO: Done loading processors!\n",
      "2025-05-10 21:06:40 INFO: Checking for updates to resources.json in case models have been updated.  Note: this behavior can be turned off with download_method=None or download_method=DownloadMethod.REUSE_RESOURCES\n"
     ]
    },
    {
     "data": {
      "application/vnd.jupyter.widget-view+json": {
       "model_id": "3b4087b35c1c40b8bb2a08ba63b5f292",
       "version_major": 2,
       "version_minor": 0
      },
      "text/plain": [
       "Downloading https://raw.githubusercontent.com/stanfordnlp/stanza-resources/main/resources_1.10.0.json:   0%|  …"
      ]
     },
     "metadata": {},
     "output_type": "display_data"
    },
    {
     "name": "stderr",
     "output_type": "stream",
     "text": [
      "2025-05-10 21:06:41 INFO: Downloaded file to C:\\Users\\krbyk\\stanza_resources\\resources.json\n",
      "2025-05-10 21:06:41 INFO: Loading these models for language: it (Italian):\n",
      "=================================\n",
      "| Processor | Package           |\n",
      "---------------------------------\n",
      "| tokenize  | combined          |\n",
      "| mwt       | combined          |\n",
      "| lemma     | combined_nocharlm |\n",
      "=================================\n",
      "\n",
      "2025-05-10 21:06:41 INFO: Using device: cuda\n",
      "2025-05-10 21:06:41 INFO: Loading: tokenize\n",
      "2025-05-10 21:06:41 INFO: Loading: mwt\n",
      "2025-05-10 21:06:41 INFO: Loading: lemma\n",
      "2025-05-10 21:06:42 INFO: Done loading processors!\n"
     ]
    },
    {
     "name": "stdout",
     "output_type": "stream",
     "text": [
      "Stanza pipelines initialized.\n",
      "--------------------------------------------------\n",
      "\n",
      "Reading dataset...\n",
      "\n"
     ]
    },
    {
     "name": "stderr",
     "output_type": "stream",
     "text": [
      "1544468it [00:01, 1067563.58it/s]\n"
     ]
    },
    {
     "name": "stdout",
     "output_type": "stream",
     "text": [
      "Dataset read.\n",
      "\n",
      "--------------------------------------------------\n",
      "\n",
      "Encoding data...\n",
      "\n"
     ]
    },
    {
     "name": "stderr",
     "output_type": "stream",
     "text": [
      "100%|██████████| 68153/68153 [00:03<00:00, 20051.80it/s]\n"
     ]
    },
    {
     "name": "stdout",
     "output_type": "stream",
     "text": [
      "Data encoded.\n",
      "\n",
      "--------------------------------------------------\n",
      "\n",
      "Reading dataset...\n",
      "\n"
     ]
    },
    {
     "name": "stderr",
     "output_type": "stream",
     "text": [
      "15311it [00:00, 944813.72it/s]\n"
     ]
    },
    {
     "name": "stdout",
     "output_type": "stream",
     "text": [
      "Dataset read.\n",
      "\n",
      "--------------------------------------------------\n",
      "\n",
      "Encoding data...\n",
      "\n"
     ]
    },
    {
     "name": "stderr",
     "output_type": "stream",
     "text": [
      "100%|██████████| 1437/1437 [00:00<00:00, 34965.51it/s]\n"
     ]
    },
    {
     "name": "stdout",
     "output_type": "stream",
     "text": [
      "Data encoded.\n",
      "\n",
      "--------------------------------------------------\n",
      "\n",
      "train sentences: 68153\n",
      "dev sentences: 1437\n",
      "--------------------------------------------------\n",
      "\n",
      "length of train dataloader: 4260\n",
      "length of dev dataloader: 90\n",
      "<hparams.HParams object at 0x000001F4EC8EED40>\n",
      "BERT model parameters have been frozen.\n",
      "<hparams.HParams object at 0x000001F4EC8EED40>\n",
      "BERT model parameters have been frozen.\n"
     ]
    }
   ],
   "source": [
    "from __init__ import *\n",
    "from dataset import IdiomDataset\n",
    "from collate import collate\n",
    "from model import IdiomExtractor\n",
    "from bert_embedder import BERTEmbedder\n",
    "from hparams import HParams\n",
    "from trainer import Trainer\n",
    "from utils import *\n",
    "\n",
    "SEED = 2\n",
    "# set seeds to get reproducible results\n",
    "random.seed(SEED)\n",
    "np.random.seed(SEED)\n",
    "torch.manual_seed(SEED)\n",
    "torch.cuda.manual_seed(SEED)\n",
    "# gpuda bazen randomluk olabiliyormuş onu kaldırmak için\n",
    "torch.backends.cudnn.deterministic = True\n",
    "\n",
    "# create bert\n",
    "it_model_name = 'bert-base-multilingual-cased'\n",
    "# output hidden states -> it helps to get hidden states from bert\n",
    "it_config = BertConfig.from_pretrained(it_model_name, output_hidden_states=True)\n",
    "it_tokenizer = BertTokenizer.from_pretrained(it_model_name)\n",
    "# get bert weights\n",
    "hf_it_model = BertModel.from_pretrained(it_model_name, config=it_config)\n",
    "\n",
    "\n",
    "# Türkçe BERT\n",
    "tr_model_name = \"dbmdz/bert-base-turkish-128k-cased\"\n",
    "tr_config = BertConfig.from_pretrained(tr_model_name, output_hidden_states=True)\n",
    "tr_tokenizer = BertTokenizer.from_pretrained(tr_model_name)\n",
    "hf_tr_model = BertModel.from_pretrained(tr_model_name, config=tr_config)\n",
    "\n",
    "# train, update or test mode selection\n",
    "#mode = input(\"Do you want to train or test the model? (train, update, test): \").strip().lower()\n",
    "mode = \"train\"\n",
    "assert mode in ['train', 'update', 'test'], \"Mode must be one of train, update, test\"\n",
    "# select the dataset\n",
    "#dataset_selection = input(\"Select the dataset (ID10M, ITU, PARSEME, ALL_COMBINED): \").strip().upper()\n",
    "dataset_selection = \"COMBINED\"\n",
    "assert dataset_selection in ['ID10M', 'ITU', 'PARSEME', 'COMBINED'], \"Dataset must be one of ID10M, ITU, PARSEME, COMBINED\"\n",
    "\n",
    "# check dataset path\n",
    "tr_path = r\"./src/checkpoints/tr/\"\n",
    "it_path = r\"./src/checkpoints/it/\"\n",
    "os.makedirs(tr_path, exist_ok=True)\n",
    "os.makedirs(it_path, exist_ok=True)\n",
    "\n",
    "if mode in [\"test\",\"update\"]:\n",
    "    # list available checkpoints\n",
    "    print(\"Available tr checkpoints:\")\n",
    "    checkpoints = os.listdir(tr_path)\n",
    "    for i, checkpoint in enumerate(checkpoints):\n",
    "        print(f\"{i+1}. {checkpoint}\")\n",
    "    print(\"none\")\n",
    "    # load the model\n",
    "    checkpoint = input(\"Enter the checkpoint (without .pt): \").strip()\n",
    "    if checkpoint == \"none\":\n",
    "        tr_path = None\n",
    "    else:\n",
    "        tr_path = tr_path + checkpoint + \".pt\"\n",
    "        assert os.path.exists(tr_path), \"Model path does not exist\"\n",
    "\n",
    "    print(\"\\n\")\n",
    "\n",
    "    print(\"Available it checkpoints:\")\n",
    "    checkpoints = os.listdir(it_path)\n",
    "    for i, checkpoint in enumerate(checkpoints):\n",
    "        print(f\"{i+1}. {checkpoint}\")\n",
    "    print(\"none\")\n",
    "    # load the model\n",
    "    checkpoint = input(\"Enter the checkpoint (without .pt): \").strip()\n",
    "    if checkpoint == \"none\":\n",
    "        it_path = None\n",
    "    else:\n",
    "        it_path = it_path + checkpoint + \".pt\"\n",
    "        assert os.path.exists(it_path), \"Model path does not exist\"\n",
    "\n",
    "model_name = None\n",
    "if mode in [\"train\", \"update\"]:\n",
    "    #model_name = input(\"Enter the model name (without .pt): \").strip()\n",
    "    model_name = \"deneme_combined_lstm\"\n",
    "\n",
    "elif mode == \"test\":\n",
    "    model_name = checkpoint\n",
    "\n",
    "# get stanza tagger for both languages\n",
    "tagger_dict = initialize(use_gpu=True)\n",
    "\n",
    "# get the path for the dataset\n",
    "main_path = r\"../resources/\"+dataset_selection+\"/\"\n",
    "train_file = main_path + \"train.tsv\"\n",
    "dev_file = main_path + \"dev.tsv\"\n",
    "test_file = main_path + \"test.tsv\"\n",
    "\n",
    "labels_vocab = {\"<pad>\":0, \"B-IDIOM\":1, \"I-IDIOM\":2, \"O\":3}\n",
    "\n",
    "# initialize the dataset\n",
    "train_dataset, dev_dataset, test_dataset = None, None, None\n",
    "if mode in [\"train\", \"update\"]:\n",
    "    train_dataset = IdiomDataset(train_file, labels_vocab, tagger_dict)\n",
    "    dev_dataset = IdiomDataset(dev_file, labels_vocab, tagger_dict)\n",
    "    print(f\"train sentences: {len(train_dataset)}\")\n",
    "    print(f\"dev sentences: {len(dev_dataset)}\")\n",
    "    print(\"-\" * 50 + \"\\n\")\n",
    "else:\n",
    "    test_dataset = IdiomDataset(test_file, labels_vocab, tagger_dict) \n",
    "    print(f\"test sentences: {len(test_dataset)}\")\n",
    "    print(\"-\" * 50 + \"\\n\")\n",
    "\n",
    "#dataloader\n",
    "\n",
    "if mode in [\"train\", \"update\"]:\n",
    "    train_dataloader = DataLoader(train_dataset, batch_size=16, shuffle=True, collate_fn=collate)\n",
    "    dev_dataloader = DataLoader(dev_dataset, batch_size=16, collate_fn=collate)\n",
    "    print(f\"length of train dataloader: {len(train_dataloader)}\")\n",
    "    print(f\"length of dev dataloader: {len(dev_dataloader)}\")\n",
    "else:\n",
    "    test_dataloader = DataLoader(test_dataset, batch_size=1, collate_fn=collate)\n",
    "    print(f\"length of test dataloader: {len(test_dataloader)}\")\n",
    "\n",
    "\n",
    "#instantiate the hyperparameters\n",
    "params = HParams()\n",
    "\n",
    "DEVICE = torch.device(\"cuda\" if torch.cuda.is_available() else \"cpu\")\n",
    "\n",
    "#instantiate the model\n",
    "it_model = IdiomExtractor(hf_it_model,\n",
    "                    params).cuda()\n",
    "\n",
    "it_model.freeze_bert()\n",
    "\n",
    "tr_model = IdiomExtractor(hf_tr_model,\n",
    "                    params).cuda()\n",
    "\n",
    "tr_model.freeze_bert()\n",
    "\n",
    "device = torch.device(\"cuda\" if torch.cuda.is_available() else \"cpu\")\n",
    "\n",
    "it_embedder =  BERTEmbedder(hf_it_model, it_tokenizer, device)\n",
    "tr_embedder =  BERTEmbedder(hf_tr_model, tr_tokenizer, device)\n"
   ]
  },
  {
   "cell_type": "code",
   "execution_count": 2,
   "metadata": {},
   "outputs": [],
   "source": [
    "example_sentence = next(iter(train_dataloader))"
   ]
  },
  {
   "cell_type": "code",
   "execution_count": 3,
   "metadata": {},
   "outputs": [
    {
     "name": "stdout",
     "output_type": "stream",
     "text": [
      "shape of words: 16, example: ['Le', 'differenti', 'strategie', 'riguardo', 'i', 'rifornimenti', 'portano', 'a', 'vari', 'cambi', 'di', 'posizione', 'da', 'cui', 'emergono', 'Räikkönen', 'e', 'Alonso', 'dietro', 'a', 'Fisichella', 'e', 'davanti', 'a', 'Mark', 'Webber', 'su', 'Williams', 'e', 'Jenson', 'Button', 'su', 'BAR', '.']\n",
      "shape of labels: 16, example: tensor([3, 3, 3, 3, 3, 3, 1, 2, 3, 3, 3, 3, 3, 3, 3, 3, 3, 3, 3, 3, 3, 3, 3, 3,\n",
      "        3, 3, 3, 3, 3, 3, 3, 3, 3, 3, 0, 0, 0, 0, 0, 0, 0, 0, 0, 0, 0, 0, 0, 0,\n",
      "        0, 0, 0, 0, 0, 0, 0, 0, 0, 0, 0, 0, 0, 0, 0, 0, 0, 0, 0, 0, 0, 0, 0, 0,\n",
      "        0, 0, 0], device='cuda:0')\n",
      "shape of langs: 16, example: tensor([1, 0, 1, 1, 1, 1, 0, 1, 1, 0, 0, 1, 1, 0, 1, 1], device='cuda:0')\n",
      "75\n"
     ]
    }
   ],
   "source": [
    "words, labels, langs = example_sentence\n",
    "\n",
    "# embedding'i aynı size a getirmek için lazım\n",
    "# labellar beraber padleniyor embeddingler ayrı\n",
    "# yani en uzun tr cümle 14, it cümle 12 uzunluğundaysa\n",
    "# it label 14, it embedding 12 boyutunda oluyor hata veriyor.\n",
    "global_max = labels.size(1)\n",
    "\n",
    "print(f\"shape of words: {len(words)}, example: {words[0]}\")\n",
    "print(f\"shape of labels: {len(labels)}, example: {labels[0]}\")\n",
    "print(f\"shape of langs: {len(langs)}, example: {langs}\")\n",
    "print(global_max)"
   ]
  },
  {
   "cell_type": "code",
   "execution_count": 4,
   "metadata": {},
   "outputs": [
    {
     "name": "stdout",
     "output_type": "stream",
     "text": [
      "tr_indices: tensor([ 1,  6,  9, 10, 13], device='cuda:0')\n",
      "it_indices: tensor([ 0,  2,  3,  4,  5,  7,  8, 11, 12, 14, 15], device='cuda:0')\n"
     ]
    }
   ],
   "source": [
    "tr_indices = (langs == 0).nonzero(as_tuple=True)[0]\n",
    "it_indices = (langs == 1).nonzero(as_tuple=True)[0]\n",
    "print(f\"tr_indices: {tr_indices}\")\n",
    "print(f\"it_indices: {it_indices}\")"
   ]
  },
  {
   "cell_type": "code",
   "execution_count": 5,
   "metadata": {},
   "outputs": [
    {
     "name": "stdout",
     "output_type": "stream",
     "text": [
      "labels: tensor([[3, 3, 3,  ..., 0, 0, 0],\n",
      "        [3, 3, 3,  ..., 0, 0, 0],\n",
      "        [3, 3, 3,  ..., 0, 0, 0],\n",
      "        ...,\n",
      "        [3, 3, 3,  ..., 0, 0, 0],\n",
      "        [3, 1, 2,  ..., 0, 0, 0],\n",
      "        [3, 3, 3,  ..., 0, 0, 0]], device='cuda:0')\n"
     ]
    }
   ],
   "source": [
    "print(f\"labels: {labels}\")"
   ]
  },
  {
   "cell_type": "code",
   "execution_count": 6,
   "metadata": {},
   "outputs": [
    {
     "name": "stdout",
     "output_type": "stream",
     "text": [
      "length of tr_words: 5, example: ['Büro', 'amirim', 'de', 'göndermiş', '.']\n",
      "shape of tr_labels: torch.Size([5, 75]), example: tensor([[3, 3, 3, 3, 3, 0, 0, 0, 0, 0, 0, 0, 0, 0, 0, 0, 0, 0, 0, 0, 0, 0, 0, 0,\n",
      "         0, 0, 0, 0, 0, 0, 0, 0, 0, 0, 0, 0, 0, 0, 0, 0, 0, 0, 0, 0, 0, 0, 0, 0,\n",
      "         0, 0, 0, 0, 0, 0, 0, 0, 0, 0, 0, 0, 0, 0, 0, 0, 0, 0, 0, 0, 0, 0, 0, 0,\n",
      "         0, 0, 0],\n",
      "        [3, 3, 3, 3, 3, 3, 3, 3, 3, 3, 3, 3, 3, 3, 3, 0, 0, 0, 0, 0, 0, 0, 0, 0,\n",
      "         0, 0, 0, 0, 0, 0, 0, 0, 0, 0, 0, 0, 0, 0, 0, 0, 0, 0, 0, 0, 0, 0, 0, 0,\n",
      "         0, 0, 0, 0, 0, 0, 0, 0, 0, 0, 0, 0, 0, 0, 0, 0, 0, 0, 0, 0, 0, 0, 0, 0,\n",
      "         0, 0, 0],\n",
      "        [3, 3, 3, 0, 0, 0, 0, 0, 0, 0, 0, 0, 0, 0, 0, 0, 0, 0, 0, 0, 0, 0, 0, 0,\n",
      "         0, 0, 0, 0, 0, 0, 0, 0, 0, 0, 0, 0, 0, 0, 0, 0, 0, 0, 0, 0, 0, 0, 0, 0,\n",
      "         0, 0, 0, 0, 0, 0, 0, 0, 0, 0, 0, 0, 0, 0, 0, 0, 0, 0, 0, 0, 0, 0, 0, 0,\n",
      "         0, 0, 0],\n",
      "        [3, 3, 3, 3, 3, 1, 2, 3, 3, 3, 0, 0, 0, 0, 0, 0, 0, 0, 0, 0, 0, 0, 0, 0,\n",
      "         0, 0, 0, 0, 0, 0, 0, 0, 0, 0, 0, 0, 0, 0, 0, 0, 0, 0, 0, 0, 0, 0, 0, 0,\n",
      "         0, 0, 0, 0, 0, 0, 0, 0, 0, 0, 0, 0, 0, 0, 0, 0, 0, 0, 0, 0, 0, 0, 0, 0,\n",
      "         0, 0, 0],\n",
      "        [3, 3, 3, 3, 3, 3, 3, 3, 3, 3, 3, 3, 3, 3, 3, 3, 3, 3, 3, 3, 3, 3, 3, 3,\n",
      "         3, 3, 3, 0, 0, 0, 0, 0, 0, 0, 0, 0, 0, 0, 0, 0, 0, 0, 0, 0, 0, 0, 0, 0,\n",
      "         0, 0, 0, 0, 0, 0, 0, 0, 0, 0, 0, 0, 0, 0, 0, 0, 0, 0, 0, 0, 0, 0, 0, 0,\n",
      "         0, 0, 0]], device='cuda:0')\n"
     ]
    }
   ],
   "source": [
    "tr_words = [words[i] for i in tr_indices.cpu().numpy()]\n",
    "tr_labels = labels[tr_indices] # 0 1 5 7 10 11 12. labellar tr dilinin labelları\n",
    "\n",
    "print(f\"length of tr_words: {len(tr_words)}, example: {tr_words[0]}\")\n",
    "print(f\"shape of tr_labels: {tr_labels.shape}, example: {tr_labels}\")"
   ]
  },
  {
   "cell_type": "code",
   "execution_count": 7,
   "metadata": {},
   "outputs": [
    {
     "name": "stdout",
     "output_type": "stream",
     "text": [
      "shape of embedded_tr: 5, example: torch.Size([4, 768])\n",
      "shape of embedded_tr: 5, example: torch.Size([14, 768])\n"
     ]
    }
   ],
   "source": [
    "# embed tr list of embeddings herbirisi 10,seq_length,768 -> [tr_batch_size, seq_length, 768]\n",
    "tr_embedded = tr_embedder.embed_sentences(tr_words)\n",
    "print(f\"shape of embedded_tr: {len(tr_embedded)}, example: {tr_embedded[0].shape}\")\n",
    "print(f\"shape of embedded_tr: {len(tr_embedded)}, example: {tr_embedded[1].shape}\")"
   ]
  },
  {
   "cell_type": "code",
   "execution_count": 8,
   "metadata": {},
   "outputs": [
    {
     "name": "stdout",
     "output_type": "stream",
     "text": [
      "shape of tr_embs: torch.Size([5, 75, 768]), example: tensor([[ 0.0342,  0.1330, -1.0200,  ...,  2.9643,  2.1837, -2.9831],\n",
      "        [ 1.3881, -0.9751, -1.8090,  ...,  4.8396,  3.2179,  0.6546],\n",
      "        [ 2.7253, -1.0878, -1.7679,  ...,  3.0010,  3.9376,  2.5786],\n",
      "        ...,\n",
      "        [ 0.0000,  0.0000,  0.0000,  ...,  0.0000,  0.0000,  0.0000],\n",
      "        [ 0.0000,  0.0000,  0.0000,  ...,  0.0000,  0.0000,  0.0000],\n",
      "        [ 0.0000,  0.0000,  0.0000,  ...,  0.0000,  0.0000,  0.0000]],\n",
      "       device='cuda:0')\n"
     ]
    }
   ],
   "source": [
    "# tr embedded'i -1le padleyerek seq_lengthi eşitliyoruz. -> [tr_batch_size, max_seq_length, 768]\n",
    "tr_embs = pad_sequence(tr_embedded, batch_first=True, padding_value=0).to(device)\n",
    "\n",
    "# check embedding size to match the labels\n",
    "if tr_embs.size(1) < global_max:\n",
    "    # ekstra pad lazım\n",
    "    pad_size = global_max - tr_embs.size(1)\n",
    "\n",
    "    tr_embs = F.pad(tr_embs, (0, 0, 0, pad_size), \"constant\", 0)\n",
    "\n",
    "\n",
    "print(f\"shape of tr_embs: {tr_embs.shape}, example: {tr_embs[0]}\")"
   ]
  },
  {
   "cell_type": "code",
   "execution_count": 9,
   "metadata": {},
   "outputs": [
    {
     "name": "stdout",
     "output_type": "stream",
     "text": [
      "shape of it_labels: torch.Size([11, 75]), example: tensor([[3, 3, 3, 3, 3, 3, 1, 2, 3, 3, 3, 3, 3, 3, 3, 3, 3, 3, 3, 3, 3, 3, 3, 3,\n",
      "         3, 3, 3, 3, 3, 3, 3, 3, 3, 3, 0, 0, 0, 0, 0, 0, 0, 0, 0, 0, 0, 0, 0, 0,\n",
      "         0, 0, 0, 0, 0, 0, 0, 0, 0, 0, 0, 0, 0, 0, 0, 0, 0, 0, 0, 0, 0, 0, 0, 0,\n",
      "         0, 0, 0],\n",
      "        [3, 3, 3, 3, 3, 3, 1, 2, 2, 3, 3, 3, 3, 3, 3, 0, 0, 0, 0, 0, 0, 0, 0, 0,\n",
      "         0, 0, 0, 0, 0, 0, 0, 0, 0, 0, 0, 0, 0, 0, 0, 0, 0, 0, 0, 0, 0, 0, 0, 0,\n",
      "         0, 0, 0, 0, 0, 0, 0, 0, 0, 0, 0, 0, 0, 0, 0, 0, 0, 0, 0, 0, 0, 0, 0, 0,\n",
      "         0, 0, 0],\n",
      "        [3, 3, 3, 3, 3, 3, 3, 3, 3, 3, 3, 3, 3, 3, 3, 3, 3, 3, 3, 3, 3, 3, 3, 3,\n",
      "         3, 3, 3, 3, 3, 3, 3, 3, 3, 3, 3, 3, 3, 3, 3, 3, 3, 3, 3, 3, 3, 3, 3, 3,\n",
      "         3, 3, 3, 3, 3, 3, 3, 3, 3, 3, 3, 3, 3, 3, 3, 3, 3, 3, 3, 3, 3, 3, 3, 3,\n",
      "         3, 3, 3],\n",
      "        [3, 3, 3, 3, 3, 3, 3, 3, 3, 3, 3, 3, 3, 3, 3, 3, 3, 3, 0, 0, 0, 0, 0, 0,\n",
      "         0, 0, 0, 0, 0, 0, 0, 0, 0, 0, 0, 0, 0, 0, 0, 0, 0, 0, 0, 0, 0, 0, 0, 0,\n",
      "         0, 0, 0, 0, 0, 0, 0, 0, 0, 0, 0, 0, 0, 0, 0, 0, 0, 0, 0, 0, 0, 0, 0, 0,\n",
      "         0, 0, 0],\n",
      "        [3, 3, 3, 3, 3, 3, 3, 3, 3, 3, 3, 3, 3, 3, 3, 3, 3, 3, 3, 3, 3, 3, 3, 3,\n",
      "         3, 3, 3, 3, 3, 3, 3, 3, 3, 3, 3, 3, 3, 3, 0, 0, 0, 0, 0, 0, 0, 0, 0, 0,\n",
      "         0, 0, 0, 0, 0, 0, 0, 0, 0, 0, 0, 0, 0, 0, 0, 0, 0, 0, 0, 0, 0, 0, 0, 0,\n",
      "         0, 0, 0],\n",
      "        [3, 3, 3, 3, 3, 3, 3, 3, 3, 3, 3, 3, 3, 3, 3, 3, 3, 3, 3, 3, 3, 3, 3, 3,\n",
      "         3, 3, 3, 3, 3, 0, 0, 0, 0, 0, 0, 0, 0, 0, 0, 0, 0, 0, 0, 0, 0, 0, 0, 0,\n",
      "         0, 0, 0, 0, 0, 0, 0, 0, 0, 0, 0, 0, 0, 0, 0, 0, 0, 0, 0, 0, 0, 0, 0, 0,\n",
      "         0, 0, 0],\n",
      "        [3, 0, 0, 0, 0, 0, 0, 0, 0, 0, 0, 0, 0, 0, 0, 0, 0, 0, 0, 0, 0, 0, 0, 0,\n",
      "         0, 0, 0, 0, 0, 0, 0, 0, 0, 0, 0, 0, 0, 0, 0, 0, 0, 0, 0, 0, 0, 0, 0, 0,\n",
      "         0, 0, 0, 0, 0, 0, 0, 0, 0, 0, 0, 0, 0, 0, 0, 0, 0, 0, 0, 0, 0, 0, 0, 0,\n",
      "         0, 0, 0],\n",
      "        [3, 3, 3, 3, 3, 3, 3, 3, 3, 3, 3, 3, 3, 3, 3, 3, 3, 3, 3, 3, 3, 3, 3, 3,\n",
      "         3, 3, 3, 3, 3, 0, 0, 0, 0, 0, 0, 0, 0, 0, 0, 0, 0, 0, 0, 0, 0, 0, 0, 0,\n",
      "         0, 0, 0, 0, 0, 0, 0, 0, 0, 0, 0, 0, 0, 0, 0, 0, 0, 0, 0, 0, 0, 0, 0, 0,\n",
      "         0, 0, 0],\n",
      "        [3, 3, 3, 3, 3, 3, 3, 3, 3, 3, 3, 3, 3, 3, 3, 3, 3, 3, 3, 3, 3, 3, 3, 3,\n",
      "         3, 3, 3, 3, 3, 3, 3, 3, 3, 3, 3, 3, 3, 3, 3, 3, 3, 0, 0, 0, 0, 0, 0, 0,\n",
      "         0, 0, 0, 0, 0, 0, 0, 0, 0, 0, 0, 0, 0, 0, 0, 0, 0, 0, 0, 0, 0, 0, 0, 0,\n",
      "         0, 0, 0],\n",
      "        [3, 1, 2, 2, 3, 3, 3, 3, 3, 3, 0, 0, 0, 0, 0, 0, 0, 0, 0, 0, 0, 0, 0, 0,\n",
      "         0, 0, 0, 0, 0, 0, 0, 0, 0, 0, 0, 0, 0, 0, 0, 0, 0, 0, 0, 0, 0, 0, 0, 0,\n",
      "         0, 0, 0, 0, 0, 0, 0, 0, 0, 0, 0, 0, 0, 0, 0, 0, 0, 0, 0, 0, 0, 0, 0, 0,\n",
      "         0, 0, 0],\n",
      "        [3, 3, 3, 3, 3, 3, 3, 3, 3, 3, 3, 3, 3, 3, 3, 3, 3, 3, 3, 3, 3, 3, 1, 2,\n",
      "         3, 3, 3, 3, 3, 3, 0, 0, 0, 0, 0, 0, 0, 0, 0, 0, 0, 0, 0, 0, 0, 0, 0, 0,\n",
      "         0, 0, 0, 0, 0, 0, 0, 0, 0, 0, 0, 0, 0, 0, 0, 0, 0, 0, 0, 0, 0, 0, 0, 0,\n",
      "         0, 0, 0]], device='cuda:0')\n",
      "shape of it_words: 11, example: ['Le', 'differenti', 'strategie', 'riguardo', 'i', 'rifornimenti', 'portano', 'a', 'vari', 'cambi', 'di', 'posizione', 'da', 'cui', 'emergono', 'Räikkönen', 'e', 'Alonso', 'dietro', 'a', 'Fisichella', 'e', 'davanti', 'a', 'Mark', 'Webber', 'su', 'Williams', 'e', 'Jenson', 'Button', 'su', 'BAR', '.']\n"
     ]
    }
   ],
   "source": [
    "it_words = [words[i] for i in it_indices.cpu().numpy()]\n",
    "it_labels = labels[it_indices]\n",
    "\n",
    "print(f\"shape of it_labels: {it_labels.shape}, example: {it_labels}\")\n",
    "print(f\"shape of it_words: {len(it_words)}, example: {it_words[0]}\")"
   ]
  },
  {
   "cell_type": "code",
   "execution_count": 10,
   "metadata": {},
   "outputs": [
    {
     "name": "stdout",
     "output_type": "stream",
     "text": [
      "shape of embedded_it: 11, example: torch.Size([33, 768])\n",
      "shape of embedded_it: 11, example: torch.Size([14, 768])\n"
     ]
    }
   ],
   "source": [
    "# embed tr list of embeddings herbirisi 10,seq_length,768 -> [tr_batch_size, seq_length, 768]\n",
    "it_embedded = it_embedder.embed_sentences(it_words)\n",
    "print(f\"shape of embedded_it: {len(it_embedded)}, example: {it_embedded[0].shape}\")\n",
    "print(f\"shape of embedded_it: {len(it_embedded)}, example: {it_embedded[1].shape}\")"
   ]
  },
  {
   "cell_type": "code",
   "execution_count": 11,
   "metadata": {},
   "outputs": [
    {
     "name": "stdout",
     "output_type": "stream",
     "text": [
      "shape of it_embs: torch.Size([11, 75, 768]), example: tensor([[-2.9175, -2.8953,  2.5226,  ...,  0.1959,  2.0889,  1.5841],\n",
      "        [-1.7234, -0.0500, -0.0436,  ...,  1.4306,  1.7430,  0.4612],\n",
      "        [-6.1008,  1.6713,  4.7920,  ..., -2.6665,  0.9332,  0.7428],\n",
      "        ...,\n",
      "        [ 0.0000,  0.0000,  0.0000,  ...,  0.0000,  0.0000,  0.0000],\n",
      "        [ 0.0000,  0.0000,  0.0000,  ...,  0.0000,  0.0000,  0.0000],\n",
      "        [ 0.0000,  0.0000,  0.0000,  ...,  0.0000,  0.0000,  0.0000]],\n",
      "       device='cuda:0')\n"
     ]
    }
   ],
   "source": [
    "it_embs = pad_sequence(it_embedded, batch_first=True, padding_value=0).to(device)\n",
    "\n",
    "# check embedding size to match the labels\n",
    "if it_embs.size(1) < global_max:\n",
    "    # ekstra pad lazım\n",
    "    pad_size = global_max - it_embs.size(1)\n",
    "\n",
    "    it_embs = F.pad(it_embs, (0, 0, 0, pad_size), \"constant\", 0)\n",
    "\n",
    "print(f\"shape of it_embs: {it_embs.shape}, example: {it_embs[0]}\")"
   ]
  },
  {
   "cell_type": "code",
   "execution_count": 12,
   "metadata": {},
   "outputs": [
    {
     "name": "stdout",
     "output_type": "stream",
     "text": [
      "tr_NLL: 95.6654052734375\n",
      "it_NLL: 563.3499145507812\n",
      "loss: 659.0153198242188\n"
     ]
    }
   ],
   "source": [
    "tr_LL, _ = tr_model(tr_embs, tr_labels)\n",
    "tr_NLL = -tr_LL\n",
    "\n",
    "it_LL,_ = it_model(it_embs, it_labels)\n",
    "it_NLL = -it_LL\n",
    "\n",
    "print(f\"tr_NLL: {tr_NLL}\")\n",
    "print(f\"it_NLL: {it_NLL}\")\n",
    "loss = tr_NLL + it_NLL\n",
    "print(f\"loss: {loss}\")\n",
    "\n",
    "tr_optimizer = optim.Adam(tr_model.parameters(), lr=0.0001)\n",
    "it_optimizer = optim.Adam(it_model.parameters(), lr=0.0001)\n",
    "\n",
    "# Optimizer step\n",
    "tr_optimizer.zero_grad()\n",
    "it_optimizer.zero_grad()\n",
    "loss.backward()\n",
    "torch.nn.utils.clip_grad_norm_(tr_model.parameters(), 1)\n",
    "torch.nn.utils.clip_grad_norm_(it_model.parameters(), 1)\n",
    "tr_optimizer.step()\n",
    "it_optimizer.step()\n"
   ]
  },
  {
   "cell_type": "code",
   "execution_count": 13,
   "metadata": {},
   "outputs": [
    {
     "name": "stdout",
     "output_type": "stream",
     "text": [
      "tr_decode: [[3, 2, 3, 0, 3, 2, 0, 0, 3, 2, 3, 2, 3, 2, 3, 1, 2, 2], [2, 2, 3, 2, 3, 2, 0, 3, 0, 3, 0, 0, 0, 3, 2, 3, 0, 2], [1, 3, 1, 1, 2, 2, 3, 2, 1, 3, 0, 0, 3, 0, 0, 0, 3, 0], [2, 0, 3, 3, 3, 2, 3, 2, 3, 2, 3, 3, 2, 0, 3, 2, 3, 1], [3, 0, 3, 3, 0, 3, 0, 3, 0, 3, 3, 0, 1, 2, 2, 2, 3, 3], [0, 3, 2, 0, 1, 3, 1, 3, 0, 3, 0, 0, 0, 0, 0, 0, 3, 3], [2, 2, 0, 1, 3, 2, 3, 0, 1, 0, 3, 0, 3, 3, 2, 3, 2, 0], [2, 0, 0, 0, 0, 2, 2, 0, 3, 2, 0, 2, 3, 3, 3, 0, 0, 0], [3, 0, 0, 2, 2, 0, 0, 0, 3, 0, 2, 0, 0, 3, 2, 3, 0, 3], [0, 0, 1, 0, 3, 1, 1, 3, 2, 1, 3, 0, 2, 3, 2, 0, 3, 0], [1, 2, 2, 3, 0, 3, 2, 0, 1, 0, 0, 3, 0, 0, 0, 0, 0, 0], [3, 0, 3, 0, 2, 2, 2, 3, 1, 0, 0, 0, 3, 0, 0, 3, 0, 3], [0, 2, 3, 2, 0, 0, 0, 1, 1, 3, 3, 0, 3, 0, 1, 2, 3, 3], [1, 3, 1, 1, 0, 2, 3, 1, 0, 0, 0, 0, 3, 2, 0, 1, 2, 2], [2, 0, 0, 3, 0, 0, 0, 1, 1, 3, 0, 1, 0, 3, 3, 0, 0, 2], [1, 2, 0, 0, 0, 0, 0, 1, 2, 0, 0, 2, 0, 0, 0, 3, 0, 3]]\n",
      "Token‐seviye accuracy: 0.3299\n",
      "Sentence‐seviye accuracy: 0.0000\n"
     ]
    }
   ],
   "source": [
    "# get one batch from dev set\n",
    "eval_data = next(iter(dev_dataloader))\n",
    "words, labels, langs = eval_data\n",
    "\n",
    "# tr ve it nin indexlerini ayıkla\n",
    "tr_indices = (langs == 0).nonzero(as_tuple=True)[0]\n",
    "it_indices = (langs == 1).nonzero(as_tuple=True)[0]\n",
    "\n",
    "batch_size, seq_len = labels.shape\n",
    "device = labels.device\n",
    "global_max = seq_len\n",
    "\n",
    "hidden_size = tr_embedder.bert_model.config.hidden_size\n",
    "\n",
    "# TR cümleleri ayıkla, embeddle ve petle\n",
    "tr_words  = [words[i] for i in tr_indices.cpu().numpy()]\n",
    "tr_labels = labels[tr_indices]\n",
    "# türkçe cümle gelmiş mi kontrolü\n",
    "if len(tr_words) > 0:\n",
    "    tr_embedded = tr_embedder.embed_sentences(tr_words)\n",
    "    tr_embs     = pad_sequence(tr_embedded, batch_first=True, padding_value=0).to(device)\n",
    "    if tr_embs.size(1) < global_max:\n",
    "        # ekstra pad lazım\n",
    "        pad_size = global_max - tr_embs.size(1)\n",
    "        tr_embs  = F.pad(tr_embs, (0, 0, 0, pad_size), \"constant\", 0)\n",
    "else:\n",
    "    # hiç TR cümlesi yoksa boş batch oluştur\n",
    "    tr_embs = torch.zeros((0, global_max, hidden_size), device=device)\n",
    "\n",
    "# IT cümleleri ayıkla, embeddle ve petle\n",
    "it_words    = [words[i] for i in it_indices.cpu().numpy()]\n",
    "it_labels   = labels[it_indices]\n",
    "if len(it_words) > 0:\n",
    "    it_embedded = it_embedder.embed_sentences(it_words)\n",
    "    it_embs     = pad_sequence(it_embedded, batch_first=True, padding_value=0).to(device)\n",
    "    if it_embs.size(1) < global_max:\n",
    "        # ekstra pad lazım\n",
    "        pad_size = global_max - it_embs.size(1)\n",
    "        it_embs  = F.pad(it_embs, (0, 0, 0, pad_size), \"constant\", 0)\n",
    "else:\n",
    "    # hiç IT cümlesi yoksa boş batch oluştur\n",
    "    it_embs = torch.zeros((0, global_max, hidden_size), device=device)\n",
    "\n",
    "# take predictions\n",
    "tr_decode = tr_model(tr_embs, None)\n",
    "print(f\"tr_decode: {tr_decode}\")\n",
    "it_decode = it_model(it_embs, None)\n",
    "\n",
    "# alt kısım GPT bakmak lazım \n",
    "\n",
    "def decode_to_tensor(decode_out, seq_len, device):\n",
    "    # 1) list of lists → list of 1D tensors\n",
    "    token_tensors = [torch.tensor(seq, dtype=torch.long, device=device)\n",
    "                     for seq in decode_out]\n",
    "    # 2) hiç prediction yoksa boş tensor\n",
    "    if not token_tensors:\n",
    "        return torch.zeros((0, seq_len), dtype=torch.long, device=device)\n",
    "    # 3) pad_sequence ile batch_first ve padding_value=-1\n",
    "    padded = pad_sequence(token_tensors, batch_first=True, padding_value=-1)\n",
    "    # 4) eğer hâlâ seq_len’den kısa ise sağa pad et\n",
    "    if padded.size(1) < seq_len:\n",
    "        pad_amt = seq_len - padded.size(1)\n",
    "        padded = F.pad(padded, (0, pad_amt), value=-1)\n",
    "    return padded\n",
    "\n",
    "# kullanım:\n",
    "tr_pred = decode_to_tensor(tr_decode, seq_len, device)\n",
    "it_pred = decode_to_tensor(it_decode, seq_len, device)\n",
    "\n",
    "\n",
    "# list of lists → tensor’a çevir\n",
    "if len(tr_decode) > 0:\n",
    "    tr_pred = torch.full((len(tr_decode), seq_len),\n",
    "                         fill_value=-1, dtype=torch.long, device=device)\n",
    "    for i, seq in enumerate(tr_decode):\n",
    "        tr_pred[i, :len(seq)] = torch.tensor(seq, device=device)\n",
    "else:\n",
    "    tr_pred = torch.zeros((0, seq_len), dtype=torch.long, device=device)\n",
    "\n",
    "if len(it_decode) > 0:\n",
    "    it_pred = torch.full((len(it_decode), seq_len),\n",
    "                         fill_value=-1, dtype=torch.long, device=device)\n",
    "    for i, seq in enumerate(it_decode):\n",
    "        it_pred[i, :len(seq)] = torch.tensor(seq, device=device)\n",
    "else:\n",
    "    it_pred = torch.zeros((0, seq_len), dtype=torch.long, device=device)\n",
    "\n",
    "# 1) Tam batch için pred tensor’ü oluştur\n",
    "all_pred = torch.full(\n",
    "    (batch_size, seq_len),\n",
    "    fill_value=-1,                # pad bölgelerde -1 kalsın\n",
    "    dtype=torch.long,\n",
    "    device=device\n",
    ")\n",
    "\n",
    "# 2) TR ve IT tahminlerini ilgili index’lere yerleştir\n",
    "all_pred[tr_indices] = tr_pred\n",
    "all_pred[it_indices] = it_pred\n",
    "\n",
    "# 3) Sadece gerçek token’lar üzerinde doğru/yanlış kontrolü\n",
    "valid_mask   = labels.ne(-1)        # True olan yerler gerçek token\n",
    "correct_mask = (all_pred == labels) & valid_mask\n",
    "\n",
    "# 4) İsterseniz token‐seviye accuracy\n",
    "token_accuracy = correct_mask.sum().float() / valid_mask.sum().float()\n",
    "print(f\"Token‐seviye accuracy: {token_accuracy:.4f}\")\n",
    "\n",
    "# 5) Veya örnek‐seviye (sentence‐seviye) doğru karar:\n",
    "#    her cümlenin tüm token’ları doğru mu?\n",
    "sent_correct     = correct_mask.all(dim=1) & valid_mask.any(dim=1)\n",
    "# valid_mask.any(dim=1) ile “tamamen pad’li” örnekleri atlıyoruz\n",
    "sentence_accuracy = sent_correct.sum().float() / sent_correct.numel()\n",
    "print(f\"Sentence‐seviye accuracy: {sentence_accuracy:.4f}\")\n",
    "\n",
    "# all_pred şimdi (batch_size, seq_len) shape’inde, \n",
    "# her satır orijinal sırasıyla tahminleri içeriyor.\n"
   ]
  },
  {
   "cell_type": "code",
   "execution_count": 14,
   "metadata": {},
   "outputs": [
    {
     "name": "stdout",
     "output_type": "stream",
     "text": [
      "\n",
      "Training...\n",
      " Epoch 001, patience: 10\n"
     ]
    },
    {
     "name": "stderr",
     "output_type": "stream",
     "text": [
      "Epoch 1:  75%|███████▍  | 3194/4260 [24:00<08:00,  2.22it/s]  \n"
     ]
    },
    {
     "ename": "KeyboardInterrupt",
     "evalue": "",
     "output_type": "error",
     "traceback": [
      "\u001b[1;31m---------------------------------------------------------------------------\u001b[0m",
      "\u001b[1;31mKeyboardInterrupt\u001b[0m                         Traceback (most recent call last)",
      "Cell \u001b[1;32mIn[14], line 9\u001b[0m\n\u001b[0;32m      1\u001b[0m trainer \u001b[38;5;241m=\u001b[39m Trainer(tr_model \u001b[38;5;241m=\u001b[39m tr_model, it_model \u001b[38;5;241m=\u001b[39m it_model,\n\u001b[0;32m      2\u001b[0m                 tr_optimizer \u001b[38;5;241m=\u001b[39m optim\u001b[38;5;241m.\u001b[39mAdam(tr_model\u001b[38;5;241m.\u001b[39mparameters(), lr\u001b[38;5;241m=\u001b[39m\u001b[38;5;241m0.0001\u001b[39m),\n\u001b[0;32m      3\u001b[0m                 it_optimizer \u001b[38;5;241m=\u001b[39m optim\u001b[38;5;241m.\u001b[39mAdam(it_model\u001b[38;5;241m.\u001b[39mparameters(), lr\u001b[38;5;241m=\u001b[39m\u001b[38;5;241m0.0001\u001b[39m),\n\u001b[1;32m   (...)\u001b[0m\n\u001b[0;32m      6\u001b[0m                 modelname \u001b[38;5;241m=\u001b[39m model_name,\n\u001b[0;32m      7\u001b[0m                 labels_vocab\u001b[38;5;241m=\u001b[39mlabels_vocab)\n\u001b[1;32m----> 9\u001b[0m \u001b[43mtrainer\u001b[49m\u001b[38;5;241;43m.\u001b[39;49m\u001b[43mtrain\u001b[49m\u001b[43m(\u001b[49m\u001b[43mtrain_dataloader\u001b[49m\u001b[43m,\u001b[49m\u001b[43m \u001b[49m\u001b[43mdev_dataloader\u001b[49m\u001b[43m,\u001b[49m\u001b[43m \u001b[49m\u001b[38;5;241;43m50\u001b[39;49m\u001b[43m,\u001b[49m\u001b[43m \u001b[49m\u001b[43mpatience\u001b[49m\u001b[38;5;241;43m=\u001b[39;49m\u001b[38;5;241;43m10\u001b[39;49m\u001b[43m)\u001b[49m\n",
      "File \u001b[1;32mc:\\Users\\krbyk\\Documents\\GitHub\\YZV405_2425_150220768_150210329\\src\\trainer.py:80\u001b[0m, in \u001b[0;36mTrainer.train\u001b[1;34m(self, train_loader, valid_loader, epochs, patience)\u001b[0m\n\u001b[0;32m     78\u001b[0m tr_sents \u001b[38;5;241m=\u001b[39m [words[i] \u001b[38;5;28;01mfor\u001b[39;00m i \u001b[38;5;129;01min\u001b[39;00m tr_indices\u001b[38;5;241m.\u001b[39mcpu()\u001b[38;5;241m.\u001b[39mnumpy()]\n\u001b[0;32m     79\u001b[0m \u001b[38;5;66;03m# cümleleri embed et\u001b[39;00m\n\u001b[1;32m---> 80\u001b[0m tr_embeds \u001b[38;5;241m=\u001b[39m \u001b[38;5;28;43mself\u001b[39;49m\u001b[38;5;241;43m.\u001b[39;49m\u001b[43mtr_embedder\u001b[49m\u001b[38;5;241;43m.\u001b[39;49m\u001b[43membed_sentences\u001b[49m\u001b[43m(\u001b[49m\u001b[43mtr_sents\u001b[49m\u001b[43m)\u001b[49m\n\u001b[0;32m     81\u001b[0m \u001b[38;5;66;03m# cümleleri paddingle\u001b[39;00m\n\u001b[0;32m     82\u001b[0m tr_embs \u001b[38;5;241m=\u001b[39m pad_sequence(tr_embeds, batch_first\u001b[38;5;241m=\u001b[39m\u001b[38;5;28;01mTrue\u001b[39;00m, padding_value\u001b[38;5;241m=\u001b[39m\u001b[38;5;241m0\u001b[39m)\u001b[38;5;241m.\u001b[39mto(device)\n",
      "File \u001b[1;32mc:\\Users\\krbyk\\Documents\\GitHub\\YZV405_2425_150220768_150210329\\src\\bert_embedder.py:126\u001b[0m, in \u001b[0;36mBERTEmbedder.embed_sentences\u001b[1;34m(self, sentences)\u001b[0m\n\u001b[0;32m    123\u001b[0m   summed_layers \u001b[38;5;241m=\u001b[39m torch\u001b[38;5;241m.\u001b[39msum(layers_to_sum, dim\u001b[38;5;241m=\u001b[39m\u001b[38;5;241m0\u001b[39m)\n\u001b[0;32m    125\u001b[0m   \u001b[38;5;66;03m# collapse subtoken pieces back to per-word embeddings\u001b[39;00m\n\u001b[1;32m--> 126\u001b[0m   merged_output \u001b[38;5;241m=\u001b[39m \u001b[38;5;28;43mself\u001b[39;49m\u001b[38;5;241;43m.\u001b[39;49m\u001b[43m_merge_embeddings\u001b[49m\u001b[43m(\u001b[49m\u001b[43msummed_layers\u001b[49m\u001b[43m,\u001b[49m\u001b[43m \u001b[49m\u001b[43mto_merge_wordpieces\u001b[49m\u001b[43m)\u001b[49m\n\u001b[0;32m    128\u001b[0m \u001b[38;5;28;01mreturn\u001b[39;00m merged_output\n",
      "File \u001b[1;32mc:\\Users\\krbyk\\Documents\\GitHub\\YZV405_2425_150220768_150210329\\src\\bert_embedder.py:150\u001b[0m, in \u001b[0;36mBERTEmbedder._merge_embeddings\u001b[1;34m(self, aggregated_layers, to_merge_wordpieces)\u001b[0m\n\u001b[0;32m    148\u001b[0m     \u001b[38;5;66;03m# Artık valid tümüyle 0 ≤ i < sent_embs.size(0) aralığında\u001b[39;00m\n\u001b[0;32m    149\u001b[0m     piece_vecs \u001b[38;5;241m=\u001b[39m sent_embs[valid]         \u001b[38;5;66;03m# (num_subtokens, hidden)\u001b[39;00m\n\u001b[1;32m--> 150\u001b[0m     word_vectors\u001b[38;5;241m.\u001b[39mappend(\u001b[43mpiece_vecs\u001b[49m\u001b[38;5;241;43m.\u001b[39;49m\u001b[43mmean\u001b[49m\u001b[43m(\u001b[49m\u001b[38;5;241;43m0\u001b[39;49m\u001b[43m)\u001b[49m)\n\u001b[0;32m    151\u001b[0m \u001b[38;5;28;01mif\u001b[39;00m word_vectors:\n\u001b[0;32m    152\u001b[0m     merged_output\u001b[38;5;241m.\u001b[39mappend(torch\u001b[38;5;241m.\u001b[39mstack(word_vectors)\u001b[38;5;241m.\u001b[39mto(\u001b[38;5;28mself\u001b[39m\u001b[38;5;241m.\u001b[39mdevice))\n",
      "\u001b[1;31mKeyboardInterrupt\u001b[0m: "
     ]
    }
   ],
   "source": [
    "trainer = Trainer(tr_model = tr_model, it_model = it_model,\n",
    "                tr_optimizer = optim.Adam(tr_model.parameters(), lr=0.0001),\n",
    "                it_optimizer = optim.Adam(it_model.parameters(), lr=0.0001),\n",
    "                tr_embedder= tr_embedder,\n",
    "                it_embedder= it_embedder,\n",
    "                modelname = model_name,\n",
    "                labels_vocab=labels_vocab)\n",
    "\n",
    "trainer.train(train_dataloader, dev_dataloader, 50, patience=10)\n"
   ]
  }
 ],
 "metadata": {
  "kernelspec": {
   "display_name": "nlp",
   "language": "python",
   "name": "python3"
  },
  "language_info": {
   "codemirror_mode": {
    "name": "ipython",
    "version": 3
   },
   "file_extension": ".py",
   "mimetype": "text/x-python",
   "name": "python",
   "nbconvert_exporter": "python",
   "pygments_lexer": "ipython3",
   "version": "3.10.16"
  }
 },
 "nbformat": 4,
 "nbformat_minor": 2
}
