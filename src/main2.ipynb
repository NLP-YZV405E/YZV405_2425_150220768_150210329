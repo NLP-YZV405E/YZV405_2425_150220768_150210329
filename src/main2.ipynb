{
 "cells": [
  {
   "cell_type": "code",
   "execution_count": 1,
   "metadata": {},
   "outputs": [
    {
     "name": "stderr",
     "output_type": "stream",
     "text": [
      "2025-05-09 16:15:55 INFO: Checking for updates to resources.json in case models have been updated.  Note: this behavior can be turned off with download_method=None or download_method=DownloadMethod.REUSE_RESOURCES\n"
     ]
    },
    {
     "name": "stdout",
     "output_type": "stream",
     "text": [
      "Initializing Stanza pipelines...\n"
     ]
    },
    {
     "data": {
      "application/vnd.jupyter.widget-view+json": {
       "model_id": "f885703f1ffe408da1123318672a2f3a",
       "version_major": 2,
       "version_minor": 0
      },
      "text/plain": [
       "Downloading https://raw.githubusercontent.com/stanfordnlp/stanza-resources/main/resources_1.10.0.json:   0%|  …"
      ]
     },
     "metadata": {},
     "output_type": "display_data"
    },
    {
     "name": "stderr",
     "output_type": "stream",
     "text": [
      "2025-05-09 16:15:55 INFO: Downloaded file to C:\\Users\\krbyk\\stanza_resources\\resources.json\n",
      "2025-05-09 16:15:55 INFO: Loading these models for language: tr (Turkish):\n",
      "=============================\n",
      "| Processor | Package       |\n",
      "-----------------------------\n",
      "| tokenize  | imst          |\n",
      "| mwt       | imst          |\n",
      "| lemma     | imst_nocharlm |\n",
      "=============================\n",
      "\n",
      "2025-05-09 16:15:56 INFO: Using device: cuda\n",
      "2025-05-09 16:15:56 INFO: Loading: tokenize\n",
      "2025-05-09 16:15:56 INFO: Loading: mwt\n",
      "2025-05-09 16:15:56 INFO: Loading: lemma\n",
      "2025-05-09 16:15:57 INFO: Done loading processors!\n",
      "2025-05-09 16:15:57 INFO: Checking for updates to resources.json in case models have been updated.  Note: this behavior can be turned off with download_method=None or download_method=DownloadMethod.REUSE_RESOURCES\n"
     ]
    },
    {
     "data": {
      "application/vnd.jupyter.widget-view+json": {
       "model_id": "b5da1918d98c4dd39dbb760a0daf261c",
       "version_major": 2,
       "version_minor": 0
      },
      "text/plain": [
       "Downloading https://raw.githubusercontent.com/stanfordnlp/stanza-resources/main/resources_1.10.0.json:   0%|  …"
      ]
     },
     "metadata": {},
     "output_type": "display_data"
    },
    {
     "name": "stderr",
     "output_type": "stream",
     "text": [
      "2025-05-09 16:15:57 INFO: Downloaded file to C:\\Users\\krbyk\\stanza_resources\\resources.json\n",
      "2025-05-09 16:15:57 INFO: Loading these models for language: it (Italian):\n",
      "=================================\n",
      "| Processor | Package           |\n",
      "---------------------------------\n",
      "| tokenize  | combined          |\n",
      "| mwt       | combined          |\n",
      "| lemma     | combined_nocharlm |\n",
      "=================================\n",
      "\n",
      "2025-05-09 16:15:57 INFO: Using device: cuda\n",
      "2025-05-09 16:15:57 INFO: Loading: tokenize\n",
      "2025-05-09 16:15:57 INFO: Loading: mwt\n",
      "2025-05-09 16:15:57 INFO: Loading: lemma\n",
      "2025-05-09 16:15:58 INFO: Done loading processors!\n"
     ]
    },
    {
     "name": "stdout",
     "output_type": "stream",
     "text": [
      "Stanza pipelines initialized.\n",
      "--------------------------------------------------\n",
      "\n",
      "Reading dataset...\n",
      "\n"
     ]
    },
    {
     "name": "stderr",
     "output_type": "stream",
     "text": [
      "124561it [00:00, 1022500.64it/s]\n"
     ]
    },
    {
     "name": "stdout",
     "output_type": "stream",
     "text": [
      "Dataset read.\n",
      "\n",
      "--------------------------------------------------\n",
      "\n",
      "Encoding data...\n",
      "\n"
     ]
    },
    {
     "name": "stderr",
     "output_type": "stream",
     "text": [
      "100%|██████████| 11514/11514 [00:00<00:00, 26933.54it/s]\n"
     ]
    },
    {
     "name": "stdout",
     "output_type": "stream",
     "text": [
      "Data encoded.\n",
      "\n",
      "--------------------------------------------------\n",
      "\n",
      "Reading dataset...\n",
      "\n"
     ]
    },
    {
     "name": "stderr",
     "output_type": "stream",
     "text": [
      "15311it [00:00, 1591548.66it/s]\n"
     ]
    },
    {
     "name": "stdout",
     "output_type": "stream",
     "text": [
      "Dataset read.\n",
      "\n",
      "--------------------------------------------------\n",
      "\n",
      "Encoding data...\n",
      "\n"
     ]
    },
    {
     "name": "stderr",
     "output_type": "stream",
     "text": [
      "100%|██████████| 1437/1437 [00:00<00:00, 23669.74it/s]\n"
     ]
    },
    {
     "name": "stdout",
     "output_type": "stream",
     "text": [
      "Data encoded.\n",
      "\n",
      "--------------------------------------------------\n",
      "\n",
      "train sentences: 11514\n",
      "dev sentences: 1437\n",
      "--------------------------------------------------\n",
      "\n",
      "length of train dataloader: 720\n",
      "length of dev dataloader: 90\n",
      "<hparams.HParams object at 0x0000022B9BD1FE20>\n",
      "BERT model parameters have been frozen.\n",
      "<hparams.HParams object at 0x0000022B9BD1FE20>\n",
      "BERT model parameters have been frozen.\n"
     ]
    }
   ],
   "source": [
    "from __init__ import *\n",
    "from dataset import IdiomDataset\n",
    "from collate import collate\n",
    "from model import IdiomExtractor\n",
    "from bert_embedder import BERTEmbedder\n",
    "from hparams import HParams\n",
    "from trainer import Trainer\n",
    "from utils import *\n",
    "import torch.nn.functional as F\n",
    "\n",
    "\n",
    "SEED = 2\n",
    "# set seeds to get reproducible results\n",
    "random.seed(SEED)\n",
    "np.random.seed(SEED)\n",
    "torch.manual_seed(SEED)\n",
    "torch.cuda.manual_seed(SEED)\n",
    "# gpuda bazen randomluk olabiliyormuş onu kaldırmak için\n",
    "torch.backends.cudnn.deterministic = True\n",
    "\n",
    "# create bert\n",
    "it_model_name = 'bert-base-multilingual-cased'\n",
    "# output hidden states -> it helps to get hidden states from bert\n",
    "it_config = BertConfig.from_pretrained(it_model_name, output_hidden_states=True)\n",
    "it_tokenizer = BertTokenizer.from_pretrained(it_model_name)\n",
    "# get bert weights\n",
    "hf_it_model = BertModel.from_pretrained(it_model_name, config=it_config)\n",
    "\n",
    "\n",
    "# Türkçe BERT\n",
    "tr_model_name = \"dbmdz/bert-base-turkish-128k-cased\"\n",
    "tr_config = BertConfig.from_pretrained(tr_model_name, output_hidden_states=True)\n",
    "tr_tokenizer = BertTokenizer.from_pretrained(tr_model_name)\n",
    "hf_tr_model = BertModel.from_pretrained(tr_model_name, config=tr_config)\n",
    "\n",
    "# train, update or test mode selection\n",
    "#mode = input(\"Do you want to train or test the model? (train, update, test): \").strip().lower()\n",
    "mode = \"train\"\n",
    "assert mode in ['train', 'update', 'test'], \"Mode must be one of train, update, test\"\n",
    "# select the dataset\n",
    "#dataset_selection = input(\"Select the dataset (ID10M, ITU, PARSEME, ALL_COMBINED): \").strip().upper()\n",
    "dataset_selection = \"ITU\"\n",
    "assert dataset_selection in ['ID10M', 'ITU', 'PARSEME', 'COMBINED'], \"Dataset must be one of ID10M, ITU, PARSEME, COMBINED\"\n",
    "\n",
    "# check dataset path\n",
    "tr_path = r\"./src/checkpoints/tr/\"\n",
    "it_path = r\"./src/checkpoints/it/\"\n",
    "os.makedirs(tr_path, exist_ok=True)\n",
    "os.makedirs(it_path, exist_ok=True)\n",
    "\n",
    "if mode in [\"test\",\"update\"]:\n",
    "    # list available checkpoints\n",
    "    print(\"Available tr checkpoints:\")\n",
    "    checkpoints = os.listdir(tr_path)\n",
    "    for i, checkpoint in enumerate(checkpoints):\n",
    "        print(f\"{i+1}. {checkpoint}\")\n",
    "    print(\"none\")\n",
    "    # load the model\n",
    "    checkpoint = input(\"Enter the checkpoint (without .pt): \").strip()\n",
    "    if checkpoint == \"none\":\n",
    "        tr_path = None\n",
    "    else:\n",
    "        tr_path = tr_path + checkpoint + \".pt\"\n",
    "        assert os.path.exists(tr_path), \"Model path does not exist\"\n",
    "\n",
    "    print(\"\\n\")\n",
    "\n",
    "    print(\"Available it checkpoints:\")\n",
    "    checkpoints = os.listdir(it_path)\n",
    "    for i, checkpoint in enumerate(checkpoints):\n",
    "        print(f\"{i+1}. {checkpoint}\")\n",
    "    print(\"none\")\n",
    "    # load the model\n",
    "    checkpoint = input(\"Enter the checkpoint (without .pt): \").strip()\n",
    "    if checkpoint == \"none\":\n",
    "        it_path = None\n",
    "    else:\n",
    "        it_path = it_path + checkpoint + \".pt\"\n",
    "        assert os.path.exists(it_path), \"Model path does not exist\"\n",
    "\n",
    "model_name = None\n",
    "if mode in [\"train\", \"update\"]:\n",
    "    #model_name = input(\"Enter the model name (without .pt): \").strip()\n",
    "    model_name = \"deneme\"\n",
    "\n",
    "elif mode == \"test\":\n",
    "    model_name = checkpoint\n",
    "\n",
    "# get stanza tagger for both languages\n",
    "tagger_dict = initialize(use_gpu=True)\n",
    "\n",
    "# get the path for the dataset\n",
    "main_path = r\"../resources/\"+dataset_selection+\"/\"\n",
    "train_file = main_path + \"train.tsv\"\n",
    "dev_file = main_path + \"dev.tsv\"\n",
    "test_file = main_path + \"test.tsv\"\n",
    "\n",
    "labels_vocab = {\"<pad>\":0, \"B-IDIOM\":1, \"I-IDIOM\":2, \"O\":3}\n",
    "\n",
    "# initialize the dataset\n",
    "train_dataset, dev_dataset, test_dataset = None, None, None\n",
    "if mode in [\"train\", \"update\"]:\n",
    "    train_dataset = IdiomDataset(train_file, labels_vocab, tagger_dict)\n",
    "    dev_dataset = IdiomDataset(dev_file, labels_vocab, tagger_dict)\n",
    "    print(f\"train sentences: {len(train_dataset)}\")\n",
    "    print(f\"dev sentences: {len(dev_dataset)}\")\n",
    "    print(\"-\" * 50 + \"\\n\")\n",
    "else:\n",
    "    test_dataset = IdiomDataset(test_file, labels_vocab, tagger_dict) \n",
    "    print(f\"test sentences: {len(test_dataset)}\")\n",
    "    print(\"-\" * 50 + \"\\n\")\n",
    "\n",
    "#dataloader\n",
    "\n",
    "if mode in [\"train\", \"update\"]:\n",
    "    train_dataloader = DataLoader(train_dataset, batch_size=16, shuffle=True, collate_fn=collate)\n",
    "    dev_dataloader = DataLoader(dev_dataset, batch_size=16, collate_fn=collate)\n",
    "    print(f\"length of train dataloader: {len(train_dataloader)}\")\n",
    "    print(f\"length of dev dataloader: {len(dev_dataloader)}\")\n",
    "else:\n",
    "    test_dataloader = DataLoader(test_dataset, batch_size=1, collate_fn=collate)\n",
    "    print(f\"length of test dataloader: {len(test_dataloader)}\")\n",
    "\n",
    "\n",
    "#instantiate the hyperparameters\n",
    "params = HParams()\n",
    "\n",
    "DEVICE = torch.device(\"cuda\" if torch.cuda.is_available() else \"cpu\")\n",
    "\n",
    "#instantiate the model\n",
    "it_model = IdiomExtractor(hf_it_model,\n",
    "                    it_config,\n",
    "                    params,\n",
    "                    DEVICE,\n",
    "                    useLSTM=False).cuda()\n",
    "\n",
    "it_model.freeze_bert()\n",
    "\n",
    "tr_model = IdiomExtractor(hf_tr_model,\n",
    "                    tr_config,\n",
    "                    params,\n",
    "                    DEVICE,\n",
    "                    useLSTM=False).cuda()\n",
    "\n",
    "tr_model.freeze_bert()\n",
    "\n",
    "device = torch.device(\"cuda\" if torch.cuda.is_available() else \"cpu\")\n",
    "\n",
    "it_embedder =  BERTEmbedder(hf_it_model, it_tokenizer, device)\n",
    "tr_embedder =  BERTEmbedder(hf_tr_model, tr_tokenizer, device)\n"
   ]
  },
  {
   "cell_type": "code",
   "execution_count": 2,
   "metadata": {},
   "outputs": [],
   "source": [
    "example_sentence = next(iter(train_dataloader))"
   ]
  },
  {
   "cell_type": "code",
   "execution_count": 3,
   "metadata": {},
   "outputs": [
    {
     "name": "stdout",
     "output_type": "stream",
     "text": [
      "shape of words: 16, example: ['Zaman', 'kazanmak', 'için', 'yaptığın', 'entrikalar', 'seni', 'kurtarmayacak', ',', 'eninde', 'sonunda', 'yakalayacak', 'seni', 'polis', '!']\n",
      "shape of labels: 16, example: tensor([3, 3, 3, 3, 3, 3, 3, 3, 3, 3, 3, 3, 3, 3], device='cuda:0')\n",
      "shape of langs: 16, example: tensor([0, 0, 1, 1, 1, 0, 1, 0, 1, 1, 0, 0, 0, 1, 1, 1], device='cuda:0')\n",
      "14\n"
     ]
    }
   ],
   "source": [
    "words, labels, langs = example_sentence\n",
    "\n",
    "# embedding'i aynı size a getirmek için lazım\n",
    "# labellar beraber padleniyor embeddingler ayrı\n",
    "# yani en uzun tr cümle 14, it cümle 12 uzunluğundaysa\n",
    "# it label 14, it embedding 12 boyutunda oluyor hata veriyor.\n",
    "global_max = labels.size(1)\n",
    "\n",
    "print(f\"shape of words: {len(words)}, example: {words[0]}\")\n",
    "print(f\"shape of labels: {len(labels)}, example: {labels[0]}\")\n",
    "print(f\"shape of langs: {len(langs)}, example: {langs}\")\n",
    "print(global_max)"
   ]
  },
  {
   "cell_type": "code",
   "execution_count": 5,
   "metadata": {},
   "outputs": [
    {
     "name": "stdout",
     "output_type": "stream",
     "text": [
      "tr_indices: tensor([ 0,  1,  5,  7, 10, 11, 12], device='cuda:0')\n",
      "it_indices: tensor([ 2,  3,  4,  6,  8,  9, 13, 14, 15], device='cuda:0')\n"
     ]
    }
   ],
   "source": [
    "tr_indices = (langs == 0).nonzero(as_tuple=True)[0]\n",
    "it_indices = (langs == 1).nonzero(as_tuple=True)[0]\n",
    "print(f\"tr_indices: {tr_indices}\")\n",
    "print(f\"it_indices: {it_indices}\")"
   ]
  },
  {
   "cell_type": "code",
   "execution_count": 6,
   "metadata": {},
   "outputs": [
    {
     "name": "stdout",
     "output_type": "stream",
     "text": [
      "labels: tensor([[3, 3, 3, 3, 3, 3, 3, 3, 3, 3, 3, 3, 3, 3],\n",
      "        [3, 3, 3, 3, 3, 3, 3, 3, 3, 3, 0, 0, 0, 0],\n",
      "        [1, 2, 2, 2, 3, 3, 3, 3, 3, 3, 3, 0, 0, 0],\n",
      "        [3, 3, 3, 3, 3, 3, 3, 3, 3, 0, 0, 0, 0, 0],\n",
      "        [3, 3, 3, 3, 3, 3, 3, 3, 3, 3, 3, 3, 0, 0],\n",
      "        [2, 3, 1, 3, 3, 0, 0, 0, 0, 0, 0, 0, 0, 0],\n",
      "        [3, 1, 2, 2, 3, 3, 3, 3, 3, 0, 0, 0, 0, 0],\n",
      "        [3, 3, 3, 3, 3, 1, 2, 3, 0, 0, 0, 0, 0, 0],\n",
      "        [3, 3, 3, 3, 3, 3, 3, 3, 3, 0, 0, 0, 0, 0],\n",
      "        [3, 3, 3, 3, 3, 3, 3, 3, 3, 3, 3, 3, 0, 0],\n",
      "        [3, 3, 3, 3, 3, 3, 0, 0, 0, 0, 0, 0, 0, 0],\n",
      "        [3, 3, 3, 3, 3, 3, 0, 0, 0, 0, 0, 0, 0, 0],\n",
      "        [3, 3, 3, 3, 3, 3, 3, 3, 3, 3, 3, 3, 3, 0],\n",
      "        [3, 3, 3, 1, 3, 2, 2, 2, 0, 0, 0, 0, 0, 0],\n",
      "        [3, 3, 3, 3, 3, 3, 3, 3, 3, 3, 3, 3, 0, 0],\n",
      "        [3, 3, 3, 3, 3, 3, 3, 3, 1, 2, 2, 0, 0, 0]], device='cuda:0')\n"
     ]
    }
   ],
   "source": [
    "print(f\"labels: {labels}\")"
   ]
  },
  {
   "cell_type": "code",
   "execution_count": 7,
   "metadata": {},
   "outputs": [
    {
     "name": "stdout",
     "output_type": "stream",
     "text": [
      "length of tr_words: 7, example: ['Zaman', 'kazanmak', 'için', 'yaptığın', 'entrikalar', 'seni', 'kurtarmayacak', ',', 'eninde', 'sonunda', 'yakalayacak', 'seni', 'polis', '!']\n",
      "shape of tr_labels: torch.Size([7, 14]), example: tensor([[3, 3, 3, 3, 3, 3, 3, 3, 3, 3, 3, 3, 3, 3],\n",
      "        [3, 3, 3, 3, 3, 3, 3, 3, 3, 3, 0, 0, 0, 0],\n",
      "        [2, 3, 1, 3, 3, 0, 0, 0, 0, 0, 0, 0, 0, 0],\n",
      "        [3, 3, 3, 3, 3, 1, 2, 3, 0, 0, 0, 0, 0, 0],\n",
      "        [3, 3, 3, 3, 3, 3, 0, 0, 0, 0, 0, 0, 0, 0],\n",
      "        [3, 3, 3, 3, 3, 3, 0, 0, 0, 0, 0, 0, 0, 0],\n",
      "        [3, 3, 3, 3, 3, 3, 3, 3, 3, 3, 3, 3, 3, 0]], device='cuda:0')\n"
     ]
    }
   ],
   "source": [
    "tr_words = [words[i] for i in tr_indices.cpu().numpy()]\n",
    "tr_labels = labels[tr_indices] # 0 1 5 7 10 11 12. labellar tr dilinin labelları\n",
    "\n",
    "print(f\"length of tr_words: {len(tr_words)}, example: {tr_words[0]}\")\n",
    "print(f\"shape of tr_labels: {tr_labels.shape}, example: {tr_labels}\")"
   ]
  },
  {
   "cell_type": "code",
   "execution_count": 8,
   "metadata": {},
   "outputs": [
    {
     "name": "stdout",
     "output_type": "stream",
     "text": [
      "shape of embedded_tr: 7, example: torch.Size([14, 768])\n",
      "shape of embedded_tr: 7, example: torch.Size([10, 768])\n"
     ]
    }
   ],
   "source": [
    "# embed tr list of embeddings herbirisi 10,seq_length,768 -> [tr_batch_size, seq_length, 768]\n",
    "tr_embedded = tr_embedder.embed_sentences(tr_words)\n",
    "print(f\"shape of embedded_tr: {len(tr_embedded)}, example: {tr_embedded[0].shape}\")\n",
    "print(f\"shape of embedded_tr: {len(tr_embedded)}, example: {tr_embedded[1].shape}\")"
   ]
  },
  {
   "cell_type": "code",
   "execution_count": 9,
   "metadata": {},
   "outputs": [
    {
     "name": "stdout",
     "output_type": "stream",
     "text": [
      "shape of tr_embs: torch.Size([7, 14, 768]), example: tensor([[ 0.3040, -1.6375,  0.9913,  ...,  0.6738,  1.7467,  0.5538],\n",
      "        [-0.4647,  0.5055, -0.9381,  ...,  3.0271,  3.8738, -0.3686],\n",
      "        [ 3.6571, -1.3875, -0.9558,  ...,  1.5002,  2.6590,  1.7305],\n",
      "        ...,\n",
      "        [-2.0102, -1.6403, -0.8219,  ..., -1.0591,  1.9849, -4.5420],\n",
      "        [-0.4976, -2.3514,  1.0389,  ...,  1.2063,  2.7370, -4.2313],\n",
      "        [ 0.6042, -0.8540,  0.2265,  ..., -1.0613,  1.4576, -5.0178]],\n",
      "       device='cuda:0')\n"
     ]
    }
   ],
   "source": [
    "# tr embedded'i -1le padleyerek seq_lengthi eşitliyoruz. -> [tr_batch_size, max_seq_length, 768]\n",
    "tr_embs = pad_sequence(tr_embedded, batch_first=True, padding_value=0).to(device)\n",
    "\n",
    "# check embedding size to match the labels\n",
    "if tr_embs.size(1) < global_max:\n",
    "    # ekstra pad lazım\n",
    "    pad_size = global_max - tr_embs.size(1)\n",
    "\n",
    "    tr_embs = F.pad(tr_embs, (0, 0, 0, pad_size), \"constant\", 0)\n",
    "\n",
    "\n",
    "print(f\"shape of tr_embs: {tr_embs.shape}, example: {tr_embs[0]}\")"
   ]
  },
  {
   "cell_type": "code",
   "execution_count": 10,
   "metadata": {},
   "outputs": [
    {
     "name": "stdout",
     "output_type": "stream",
     "text": [
      "shape of it_labels: torch.Size([9, 14]), example: tensor([[1, 2, 2, 2, 3, 3, 3, 3, 3, 3, 3, 0, 0, 0],\n",
      "        [3, 3, 3, 3, 3, 3, 3, 3, 3, 0, 0, 0, 0, 0],\n",
      "        [3, 3, 3, 3, 3, 3, 3, 3, 3, 3, 3, 3, 0, 0],\n",
      "        [3, 1, 2, 2, 3, 3, 3, 3, 3, 0, 0, 0, 0, 0],\n",
      "        [3, 3, 3, 3, 3, 3, 3, 3, 3, 0, 0, 0, 0, 0],\n",
      "        [3, 3, 3, 3, 3, 3, 3, 3, 3, 3, 3, 3, 0, 0],\n",
      "        [3, 3, 3, 1, 3, 2, 2, 2, 0, 0, 0, 0, 0, 0],\n",
      "        [3, 3, 3, 3, 3, 3, 3, 3, 3, 3, 3, 3, 0, 0],\n",
      "        [3, 3, 3, 3, 3, 3, 3, 3, 1, 2, 2, 0, 0, 0]], device='cuda:0')\n",
      "shape of it_words: 9, example: ['Prendi', 'con', 'le', 'pinze', 'quello', 'che', 'non', 'è', 'detto', 'da', 'esperti']\n"
     ]
    }
   ],
   "source": [
    "it_words = [words[i] for i in it_indices.cpu().numpy()]\n",
    "it_labels = labels[it_indices]\n",
    "\n",
    "print(f\"shape of it_labels: {it_labels.shape}, example: {it_labels}\")\n",
    "print(f\"shape of it_words: {len(it_words)}, example: {it_words[0]}\")"
   ]
  },
  {
   "cell_type": "code",
   "execution_count": 11,
   "metadata": {},
   "outputs": [
    {
     "name": "stdout",
     "output_type": "stream",
     "text": [
      "shape of embedded_it: 9, example: torch.Size([11, 768])\n",
      "shape of embedded_it: 9, example: torch.Size([9, 768])\n"
     ]
    }
   ],
   "source": [
    "# embed tr list of embeddings herbirisi 10,seq_length,768 -> [tr_batch_size, seq_length, 768]\n",
    "it_embedded = it_embedder.embed_sentences(it_words)\n",
    "print(f\"shape of embedded_it: {len(it_embedded)}, example: {it_embedded[0].shape}\")\n",
    "print(f\"shape of embedded_it: {len(it_embedded)}, example: {it_embedded[1].shape}\")"
   ]
  },
  {
   "cell_type": "code",
   "execution_count": null,
   "metadata": {},
   "outputs": [
    {
     "name": "stdout",
     "output_type": "stream",
     "text": [
      "shape of it_embs: torch.Size([9, 14, 768]), example: tensor([[ 1.9155,  0.1461, -1.2802,  ...,  0.8907,  0.8552,  0.4204],\n",
      "        [ 1.1491,  3.5726,  0.6087,  ..., -0.1244,  2.5063,  1.2722],\n",
      "        [ 0.5323, -0.2845,  0.3650,  ..., -2.2384,  2.5075,  1.3367],\n",
      "        ...,\n",
      "        [-1.0000, -1.0000, -1.0000,  ..., -1.0000, -1.0000, -1.0000],\n",
      "        [ 0.0000,  0.0000,  0.0000,  ...,  0.0000,  0.0000,  0.0000],\n",
      "        [ 0.0000,  0.0000,  0.0000,  ...,  0.0000,  0.0000,  0.0000]],\n",
      "       device='cuda:0')\n"
     ]
    }
   ],
   "source": [
    "it_embs = pad_sequence(it_embedded, batch_first=True, padding_value=-1).to(device)\n",
    "\n",
    "# check embedding size to match the labels\n",
    "if it_embs.size(1) < global_max:\n",
    "    # ekstra pad lazım\n",
    "    pad_size = global_max - it_embs.size(1)\n",
    "\n",
    "    it_embs = F.pad(it_embs, (0, 0, 0, pad_size), \"constant\", 0)\n",
    "\n",
    "print(f\"shape of it_embs: {it_embs.shape}, example: {it_embs[0]}\")"
   ]
  },
  {
   "cell_type": "code",
   "execution_count": 16,
   "metadata": {},
   "outputs": [
    {
     "name": "stdout",
     "output_type": "stream",
     "text": [
      "tr_NLL: 19.706491470336914\n",
      "it_NLL: 21.31584358215332\n",
      "loss: 41.022335052490234\n"
     ]
    }
   ],
   "source": [
    "tr_LL, _ = tr_model(tr_embs, tr_labels)\n",
    "tr_NLL = -tr_LL.sum() / len(tr_indices)\n",
    "\n",
    "it_LL,_ = it_model(it_embs, it_labels)\n",
    "it_NLL = -it_LL.sum() / len(it_indices)\n",
    "\n",
    "print(f\"tr_NLL: {tr_NLL}\")\n",
    "print(f\"it_NLL: {it_NLL}\")\n",
    "loss = tr_NLL + it_NLL\n",
    "print(f\"loss: {loss}\")\n",
    "\n",
    "\n",
    "\n",
    "tr_optimizer = optim.Adam(tr_model.parameters(), lr=0.0001)\n",
    "it_optimizer = optim.Adam(it_model.parameters(), lr=0.0001)\n",
    "\n",
    "# Optimizer step\n",
    "tr_optimizer.zero_grad()\n",
    "it_optimizer.zero_grad()\n",
    "loss.backward()\n",
    "torch.nn.utils.clip_grad_norm_(tr_model.parameters(), 1)\n",
    "torch.nn.utils.clip_grad_norm_(it_model.parameters(), 1)\n",
    "tr_optimizer.step()\n",
    "it_optimizer.step()\n"
   ]
  },
  {
   "cell_type": "code",
   "execution_count": null,
   "metadata": {},
   "outputs": [],
   "source": []
  },
  {
   "cell_type": "code",
   "execution_count": null,
   "metadata": {},
   "outputs": [],
   "source": [
    "\n",
    "\n",
    "if mode in [\"update\", \"test\"]: \n",
    "\n",
    "    if it_path is not None:\n",
    "        it_state = torch.load(it_path, map_location=device)\n",
    "\n",
    "        # drop the unexpected position_ids buffer\n",
    "        it_state.pop(\"bert_model.embeddings.position_ids\", None)\n",
    "\n",
    "        # rename the old CRF keys to the new names:\n",
    "        it_state[\"CRF.transitions\"]         = it_state.pop(\"CRF.trans_matrix\")\n",
    "        it_state[\"CRF.start_transitions\"]  = it_state.pop(\"CRF.start_trans\")\n",
    "        it_state[\"CRF.end_transitions\"]    = it_state.pop(\"CRF.end_trans\")\n",
    "\n",
    "        # now load cleanly\n",
    "        it_model.load_state_dict(it_state)\n",
    "\n",
    "    if tr_path is not None:\n",
    "        tr_state = torch.load(tr_path, map_location=device)\n",
    "        tr_model.load_state_dict(tr_state)\n",
    "\n",
    "print(\"\\n\")\n",
    "print(\"-\" * 50)\n",
    "print(\"Tr model summary:\")\n",
    "print(tr_model)\n",
    "print(\"-\" * 50 + \"\\n\")\n",
    "print(\"It model summary:\")\n",
    "print(it_model)\n",
    "print(\"-\" * 50 + \"\\n\")\n",
    "\n",
    "#trainer\n",
    "trainer = Trainer(tr_model = tr_model, it_model = it_model,\n",
    "                tr_optimizer = optim.Adam(tr_model.parameters(), lr=0.0001),\n",
    "                it_optimizer = optim.Adam(it_model.parameters(), lr=0.0001),\n",
    "                tr_embedder= tr_embedder,\n",
    "                it_embedder= it_embedder,\n",
    "                labels_vocab=labels_vocab)\n",
    "\n",
    "if mode in [\"train\", \"update\"]:\n",
    "    trainer.train(train_dataloader, dev_dataloader, 100, patience=320, modelname = model_name)\n",
    "\n",
    "else:\n",
    "    trainer.test(test_dataloader)\n",
    "\n"
   ]
  }
 ],
 "metadata": {
  "kernelspec": {
   "display_name": "nlp",
   "language": "python",
   "name": "python3"
  },
  "language_info": {
   "codemirror_mode": {
    "name": "ipython",
    "version": 3
   },
   "file_extension": ".py",
   "mimetype": "text/x-python",
   "name": "python",
   "nbconvert_exporter": "python",
   "pygments_lexer": "ipython3",
   "version": "3.10.16"
  }
 },
 "nbformat": 4,
 "nbformat_minor": 2
}
