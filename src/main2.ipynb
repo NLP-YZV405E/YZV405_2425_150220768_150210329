{
 "cells": [
  {
   "cell_type": "code",
   "execution_count": 1,
   "metadata": {},
   "outputs": [
    {
     "name": "stderr",
     "output_type": "stream",
     "text": [
      "2025-05-11 16:32:56 INFO: Checking for updates to resources.json in case models have been updated.  Note: this behavior can be turned off with download_method=None or download_method=DownloadMethod.REUSE_RESOURCES\n"
     ]
    },
    {
     "name": "stdout",
     "output_type": "stream",
     "text": [
      "Initializing Stanza pipelines...\n"
     ]
    },
    {
     "data": {
      "application/vnd.jupyter.widget-view+json": {
       "model_id": "d960457e94854bbf8addf8689670b01f",
       "version_major": 2,
       "version_minor": 0
      },
      "text/plain": [
       "Downloading https://raw.githubusercontent.com/stanfordnlp/stanza-resources/main/resources_1.10.0.json:   0%|  …"
      ]
     },
     "metadata": {},
     "output_type": "display_data"
    },
    {
     "name": "stderr",
     "output_type": "stream",
     "text": [
      "2025-05-11 16:32:56 INFO: Downloaded file to C:\\Users\\krbyk\\stanza_resources\\resources.json\n",
      "2025-05-11 16:32:56 INFO: Loading these models for language: tr (Turkish):\n",
      "=============================\n",
      "| Processor | Package       |\n",
      "-----------------------------\n",
      "| tokenize  | imst          |\n",
      "| mwt       | imst          |\n",
      "| lemma     | imst_nocharlm |\n",
      "=============================\n",
      "\n",
      "2025-05-11 16:32:56 INFO: Using device: cuda\n",
      "2025-05-11 16:32:56 INFO: Loading: tokenize\n",
      "2025-05-11 16:32:56 INFO: Loading: mwt\n",
      "2025-05-11 16:32:57 INFO: Loading: lemma\n",
      "2025-05-11 16:32:57 INFO: Done loading processors!\n",
      "2025-05-11 16:32:57 INFO: Checking for updates to resources.json in case models have been updated.  Note: this behavior can be turned off with download_method=None or download_method=DownloadMethod.REUSE_RESOURCES\n"
     ]
    },
    {
     "data": {
      "application/vnd.jupyter.widget-view+json": {
       "model_id": "2b847953303f4e388fc720927a21e722",
       "version_major": 2,
       "version_minor": 0
      },
      "text/plain": [
       "Downloading https://raw.githubusercontent.com/stanfordnlp/stanza-resources/main/resources_1.10.0.json:   0%|  …"
      ]
     },
     "metadata": {},
     "output_type": "display_data"
    },
    {
     "name": "stderr",
     "output_type": "stream",
     "text": [
      "2025-05-11 16:32:57 INFO: Downloaded file to C:\\Users\\krbyk\\stanza_resources\\resources.json\n",
      "2025-05-11 16:32:57 INFO: Loading these models for language: it (Italian):\n",
      "=================================\n",
      "| Processor | Package           |\n",
      "---------------------------------\n",
      "| tokenize  | combined          |\n",
      "| mwt       | combined          |\n",
      "| lemma     | combined_nocharlm |\n",
      "=================================\n",
      "\n",
      "2025-05-11 16:32:57 INFO: Using device: cuda\n",
      "2025-05-11 16:32:57 INFO: Loading: tokenize\n",
      "2025-05-11 16:32:57 INFO: Loading: mwt\n",
      "2025-05-11 16:32:57 INFO: Loading: lemma\n",
      "2025-05-11 16:32:59 INFO: Done loading processors!\n"
     ]
    },
    {
     "name": "stdout",
     "output_type": "stream",
     "text": [
      "Stanza pipelines initialized.\n",
      "--------------------------------------------------\n",
      "\n",
      "Reading dataset...\n",
      "\n"
     ]
    },
    {
     "name": "stderr",
     "output_type": "stream",
     "text": [
      "124561it [00:00, 991021.47it/s]\n"
     ]
    },
    {
     "name": "stdout",
     "output_type": "stream",
     "text": [
      "Dataset read.\n",
      "\n",
      "--------------------------------------------------\n",
      "\n",
      "Encoding data...\n",
      "\n"
     ]
    },
    {
     "name": "stderr",
     "output_type": "stream",
     "text": [
      "100%|██████████| 11514/11514 [00:00<00:00, 34630.96it/s]\n"
     ]
    },
    {
     "name": "stdout",
     "output_type": "stream",
     "text": [
      "Data encoded.\n",
      "\n",
      "--------------------------------------------------\n",
      "\n",
      "Reading dataset...\n",
      "\n"
     ]
    },
    {
     "name": "stderr",
     "output_type": "stream",
     "text": [
      "15311it [00:00, 954645.29it/s]\n"
     ]
    },
    {
     "name": "stdout",
     "output_type": "stream",
     "text": [
      "Dataset read.\n",
      "\n",
      "--------------------------------------------------\n",
      "\n",
      "Encoding data...\n",
      "\n"
     ]
    },
    {
     "name": "stderr",
     "output_type": "stream",
     "text": [
      "100%|██████████| 1437/1437 [00:00<00:00, 33847.64it/s]\n"
     ]
    },
    {
     "name": "stdout",
     "output_type": "stream",
     "text": [
      "Data encoded.\n",
      "\n",
      "--------------------------------------------------\n",
      "\n",
      "train sentences: 11514\n",
      "dev sentences: 1437\n",
      "--------------------------------------------------\n",
      "\n",
      "length of train dataloader: 720\n",
      "length of dev dataloader: 90\n",
      "<hparams.HParams object at 0x000001B606F87D60>\n",
      "BERT model parameters have been frozen.\n",
      "<hparams.HParams object at 0x000001B606F87D60>\n",
      "BERT model parameters have been frozen.\n"
     ]
    }
   ],
   "source": [
    "from __init__ import *\n",
    "from dataset import IdiomDataset\n",
    "from collate import collate\n",
    "from model import IdiomExtractor\n",
    "from bert_embedder import BERTEmbedder\n",
    "from hparams import HParams\n",
    "from trainer import Trainer\n",
    "from utils import *\n",
    "\n",
    "SEED = 2\n",
    "# set seeds to get reproducible results\n",
    "random.seed(SEED)\n",
    "np.random.seed(SEED)\n",
    "torch.manual_seed(SEED)\n",
    "torch.cuda.manual_seed(SEED)\n",
    "# gpuda bazen randomluk olabiliyormuş onu kaldırmak için\n",
    "torch.backends.cudnn.deterministic = True\n",
    "\n",
    "# create bert\n",
    "it_model_name = 'bert-base-multilingual-cased'\n",
    "# output hidden states -> it helps to get hidden states from bert\n",
    "it_config = BertConfig.from_pretrained(it_model_name, output_hidden_states=True)\n",
    "it_tokenizer = BertTokenizer.from_pretrained(it_model_name)\n",
    "# get bert weights\n",
    "hf_it_model = BertModel.from_pretrained(it_model_name, config=it_config)\n",
    "\n",
    "\n",
    "# Türkçe BERT\n",
    "tr_model_name = \"dbmdz/bert-base-turkish-128k-cased\"\n",
    "tr_config = BertConfig.from_pretrained(tr_model_name, output_hidden_states=True)\n",
    "tr_tokenizer = BertTokenizer.from_pretrained(tr_model_name)\n",
    "hf_tr_model = BertModel.from_pretrained(tr_model_name, config=tr_config)\n",
    "\n",
    "# train, update or test mode selection\n",
    "#mode = input(\"Do you want to train or test the model? (train, update, test): \").strip().lower()\n",
    "mode = \"train\"\n",
    "assert mode in ['train', 'update', 'test'], \"Mode must be one of train, update, test\"\n",
    "# select the dataset\n",
    "#dataset_selection = input(\"Select the dataset (ID10M, ITU, PARSEME, ALL_COMBINED): \").strip().upper()\n",
    "dataset_selection = \"ITU\"\n",
    "assert dataset_selection in ['ID10M', 'ITU', 'PARSEME', 'COMBINED'], \"Dataset must be one of ID10M, ITU, PARSEME, COMBINED\"\n",
    "\n",
    "# check dataset path\n",
    "tr_path = r\"./src/checkpoints/tr/\"\n",
    "it_path = r\"./src/checkpoints/it/\"\n",
    "os.makedirs(tr_path, exist_ok=True)\n",
    "os.makedirs(it_path, exist_ok=True)\n",
    "\n",
    "if mode in [\"test\",\"update\"]:\n",
    "    # list available checkpoints\n",
    "    print(\"Available tr checkpoints:\")\n",
    "    checkpoints = os.listdir(tr_path)\n",
    "    for i, checkpoint in enumerate(checkpoints):\n",
    "        print(f\"{i+1}. {checkpoint}\")\n",
    "    print(\"none\")\n",
    "    # load the model\n",
    "    checkpoint = input(\"Enter the checkpoint (without .pt): \").strip()\n",
    "    if checkpoint == \"none\":\n",
    "        tr_path = None\n",
    "    else:\n",
    "        tr_path = tr_path + checkpoint + \".pt\"\n",
    "        assert os.path.exists(tr_path), \"Model path does not exist\"\n",
    "\n",
    "    print(\"\\n\")\n",
    "\n",
    "    print(\"Available it checkpoints:\")\n",
    "    checkpoints = os.listdir(it_path)\n",
    "    for i, checkpoint in enumerate(checkpoints):\n",
    "        print(f\"{i+1}. {checkpoint}\")\n",
    "    print(\"none\")\n",
    "    # load the model\n",
    "    checkpoint = input(\"Enter the checkpoint (without .pt): \").strip()\n",
    "    if checkpoint == \"none\":\n",
    "        it_path = None\n",
    "    else:\n",
    "        it_path = it_path + checkpoint + \".pt\"\n",
    "        assert os.path.exists(it_path), \"Model path does not exist\"\n",
    "\n",
    "model_name = None\n",
    "if mode in [\"train\", \"update\"]:\n",
    "    #model_name = input(\"Enter the model name (without .pt): \").strip()\n",
    "    model_name = \"deneme\"\n",
    "\n",
    "elif mode == \"test\":\n",
    "    model_name = checkpoint\n",
    "\n",
    "# get stanza tagger for both languages\n",
    "tagger_dict = initialize(use_gpu=True)\n",
    "\n",
    "# get the path for the dataset\n",
    "main_path = r\"../resources/\"+dataset_selection+\"/\"\n",
    "train_file = main_path + \"train.tsv\"\n",
    "dev_file = main_path + \"dev.tsv\"\n",
    "test_file = main_path + \"test.tsv\"\n",
    "\n",
    "labels_vocab = {\"<pad>\":0, \"B-IDIOM\":1, \"I-IDIOM\":2, \"O\":3}\n",
    "\n",
    "# initialize the dataset\n",
    "train_dataset, dev_dataset, test_dataset = None, None, None\n",
    "if mode in [\"train\", \"update\"]:\n",
    "    train_dataset = IdiomDataset(train_file, labels_vocab, tagger_dict)\n",
    "    dev_dataset = IdiomDataset(dev_file, labels_vocab, tagger_dict)\n",
    "    print(f\"train sentences: {len(train_dataset)}\")\n",
    "    print(f\"dev sentences: {len(dev_dataset)}\")\n",
    "    print(\"-\" * 50 + \"\\n\")\n",
    "else:\n",
    "    test_dataset = IdiomDataset(test_file, labels_vocab, tagger_dict) \n",
    "    print(f\"test sentences: {len(test_dataset)}\")\n",
    "    print(\"-\" * 50 + \"\\n\")\n",
    "\n",
    "#dataloader\n",
    "\n",
    "if mode in [\"train\", \"update\"]:\n",
    "    train_dataloader = DataLoader(train_dataset, batch_size=16, shuffle=True, collate_fn=collate)\n",
    "    dev_dataloader = DataLoader(dev_dataset, batch_size=16, collate_fn=collate)\n",
    "    print(f\"length of train dataloader: {len(train_dataloader)}\")\n",
    "    print(f\"length of dev dataloader: {len(dev_dataloader)}\")\n",
    "else:\n",
    "    test_dataloader = DataLoader(test_dataset, batch_size=1, collate_fn=collate)\n",
    "    print(f\"length of test dataloader: {len(test_dataloader)}\")\n",
    "\n",
    "\n",
    "#instantiate the hyperparameters\n",
    "params = HParams()\n",
    "\n",
    "DEVICE = torch.device(\"cuda\" if torch.cuda.is_available() else \"cpu\")\n",
    "\n",
    "#instantiate the model\n",
    "it_model = IdiomExtractor(hf_it_model,\n",
    "                    params).cuda()\n",
    "\n",
    "it_model.freeze_bert()\n",
    "\n",
    "tr_model = IdiomExtractor(hf_tr_model,\n",
    "                    params).cuda()\n",
    "\n",
    "tr_model.freeze_bert()\n",
    "\n",
    "device = torch.device(\"cuda\" if torch.cuda.is_available() else \"cpu\")\n",
    "\n",
    "it_embedder =  BERTEmbedder(hf_it_model, it_tokenizer, device)\n",
    "tr_embedder =  BERTEmbedder(hf_tr_model, tr_tokenizer, device)\n"
   ]
  },
  {
   "cell_type": "code",
   "execution_count": 2,
   "metadata": {},
   "outputs": [],
   "source": [
    "example_sentence = next(iter(train_dataloader))"
   ]
  },
  {
   "cell_type": "code",
   "execution_count": 3,
   "metadata": {},
   "outputs": [
    {
     "name": "stdout",
     "output_type": "stream",
     "text": [
      "shape of words: 16, example: ['Zaman', 'kazanmak', 'için', 'yaptığın', 'entrikalar', 'seni', 'kurtarmayacak', ',', 'eninde', 'sonunda', 'yakalayacak', 'seni', 'polis', '!']\n",
      "shape of labels: 16, example: tensor([3, 3, 3, 3, 3, 3, 3, 3, 3, 3, 3, 3, 3, 3], device='cuda:0')\n",
      "shape of langs: 16, example: tensor([0, 0, 1, 1, 1, 0, 1, 0, 1, 1, 0, 0, 0, 1, 1, 1], device='cuda:0')\n",
      "14\n"
     ]
    }
   ],
   "source": [
    "words, labels, langs = example_sentence\n",
    "\n",
    "# embedding'i aynı size a getirmek için lazım\n",
    "# labellar beraber padleniyor embeddingler ayrı\n",
    "# yani en uzun tr cümle 14, it cümle 12 uzunluğundaysa\n",
    "# it label 14, it embedding 12 boyutunda oluyor hata veriyor.\n",
    "global_max = labels.size(1)\n",
    "\n",
    "print(f\"shape of words: {len(words)}, example: {words[0]}\")\n",
    "print(f\"shape of labels: {len(labels)}, example: {labels[0]}\")\n",
    "print(f\"shape of langs: {len(langs)}, example: {langs}\")\n",
    "print(global_max)"
   ]
  },
  {
   "cell_type": "code",
   "execution_count": 4,
   "metadata": {},
   "outputs": [
    {
     "name": "stdout",
     "output_type": "stream",
     "text": [
      "tr_indices: tensor([ 0,  1,  5,  7, 10, 11, 12], device='cuda:0')\n",
      "it_indices: tensor([ 2,  3,  4,  6,  8,  9, 13, 14, 15], device='cuda:0')\n"
     ]
    }
   ],
   "source": [
    "tr_indices = (langs == 0).nonzero(as_tuple=True)[0]\n",
    "it_indices = (langs == 1).nonzero(as_tuple=True)[0]\n",
    "print(f\"tr_indices: {tr_indices}\")\n",
    "print(f\"it_indices: {it_indices}\")"
   ]
  },
  {
   "cell_type": "code",
   "execution_count": 5,
   "metadata": {},
   "outputs": [
    {
     "name": "stdout",
     "output_type": "stream",
     "text": [
      "labels: tensor([[3, 3, 3, 3, 3, 3, 3, 3, 3, 3, 3, 3, 3, 3],\n",
      "        [3, 3, 3, 3, 3, 3, 3, 3, 3, 3, 0, 0, 0, 0],\n",
      "        [1, 2, 2, 2, 3, 3, 3, 3, 3, 3, 3, 0, 0, 0],\n",
      "        [3, 3, 3, 3, 3, 3, 3, 3, 3, 0, 0, 0, 0, 0],\n",
      "        [3, 3, 3, 3, 3, 3, 3, 3, 3, 3, 3, 3, 0, 0],\n",
      "        [2, 3, 1, 3, 3, 0, 0, 0, 0, 0, 0, 0, 0, 0],\n",
      "        [3, 1, 2, 2, 3, 3, 3, 3, 3, 0, 0, 0, 0, 0],\n",
      "        [3, 3, 3, 3, 3, 1, 2, 3, 0, 0, 0, 0, 0, 0],\n",
      "        [3, 3, 3, 3, 3, 3, 3, 3, 3, 0, 0, 0, 0, 0],\n",
      "        [3, 3, 3, 3, 3, 3, 3, 3, 3, 3, 3, 3, 0, 0],\n",
      "        [3, 3, 3, 3, 3, 3, 0, 0, 0, 0, 0, 0, 0, 0],\n",
      "        [3, 3, 3, 3, 3, 3, 0, 0, 0, 0, 0, 0, 0, 0],\n",
      "        [3, 3, 3, 3, 3, 3, 3, 3, 3, 3, 3, 3, 3, 0],\n",
      "        [3, 3, 3, 1, 3, 2, 2, 2, 0, 0, 0, 0, 0, 0],\n",
      "        [3, 3, 3, 3, 3, 3, 3, 3, 3, 3, 3, 3, 0, 0],\n",
      "        [3, 3, 3, 3, 3, 3, 3, 3, 1, 2, 2, 0, 0, 0]], device='cuda:0')\n"
     ]
    }
   ],
   "source": [
    "print(f\"labels: {labels}\")"
   ]
  },
  {
   "cell_type": "code",
   "execution_count": 6,
   "metadata": {},
   "outputs": [
    {
     "name": "stdout",
     "output_type": "stream",
     "text": [
      "length of tr_words: 7, example: ['Zaman', 'kazanmak', 'için', 'yaptığın', 'entrikalar', 'seni', 'kurtarmayacak', ',', 'eninde', 'sonunda', 'yakalayacak', 'seni', 'polis', '!']\n",
      "shape of tr_labels: torch.Size([7, 14]), example: tensor([[3, 3, 3, 3, 3, 3, 3, 3, 3, 3, 3, 3, 3, 3],\n",
      "        [3, 3, 3, 3, 3, 3, 3, 3, 3, 3, 0, 0, 0, 0],\n",
      "        [2, 3, 1, 3, 3, 0, 0, 0, 0, 0, 0, 0, 0, 0],\n",
      "        [3, 3, 3, 3, 3, 1, 2, 3, 0, 0, 0, 0, 0, 0],\n",
      "        [3, 3, 3, 3, 3, 3, 0, 0, 0, 0, 0, 0, 0, 0],\n",
      "        [3, 3, 3, 3, 3, 3, 0, 0, 0, 0, 0, 0, 0, 0],\n",
      "        [3, 3, 3, 3, 3, 3, 3, 3, 3, 3, 3, 3, 3, 0]], device='cuda:0')\n"
     ]
    }
   ],
   "source": [
    "tr_words = [words[i] for i in tr_indices.cpu().numpy()]\n",
    "tr_labels = labels[tr_indices] # 0 1 5 7 10 11 12. labellar tr dilinin labelları\n",
    "\n",
    "print(f\"length of tr_words: {len(tr_words)}, example: {tr_words[0]}\")\n",
    "print(f\"shape of tr_labels: {tr_labels.shape}, example: {tr_labels}\")"
   ]
  },
  {
   "cell_type": "code",
   "execution_count": 7,
   "metadata": {},
   "outputs": [
    {
     "name": "stdout",
     "output_type": "stream",
     "text": [
      "shape of embedded_tr: 7, example: torch.Size([13, 768])\n",
      "shape of embedded_tr: 7, example: torch.Size([10, 768])\n"
     ]
    }
   ],
   "source": [
    "# embed tr list of embeddings herbirisi 10,seq_length,768 -> [tr_batch_size, seq_length, 768]\n",
    "tr_embedded = tr_embedder.embed_sentences(tr_words)\n",
    "print(f\"shape of embedded_tr: {len(tr_embedded)}, example: {tr_embedded[0].shape}\")\n",
    "print(f\"shape of embedded_tr: {len(tr_embedded)}, example: {tr_embedded[1].shape}\")"
   ]
  },
  {
   "cell_type": "code",
   "execution_count": 8,
   "metadata": {},
   "outputs": [
    {
     "name": "stdout",
     "output_type": "stream",
     "text": [
      "shape of tr_embs: torch.Size([7, 14, 768]), example: tensor([[ 0.3040, -1.6375,  0.9913,  ...,  0.6738,  1.7467,  0.5538],\n",
      "        [-0.4647,  0.5055, -0.9381,  ...,  3.0271,  3.8738, -0.3686],\n",
      "        [ 3.6571, -1.3875, -0.9558,  ...,  1.5002,  2.6590,  1.7305],\n",
      "        ...,\n",
      "        [-2.0102, -1.6403, -0.8219,  ..., -1.0591,  1.9849, -4.5420],\n",
      "        [-0.4976, -2.3514,  1.0389,  ...,  1.2063,  2.7370, -4.2313],\n",
      "        [ 0.0000,  0.0000,  0.0000,  ...,  0.0000,  0.0000,  0.0000]],\n",
      "       device='cuda:0')\n"
     ]
    }
   ],
   "source": [
    "# tr embedded'i -1le padleyerek seq_lengthi eşitliyoruz. -> [tr_batch_size, max_seq_length, 768]\n",
    "tr_embs = pad_sequence(tr_embedded, batch_first=True, padding_value=0).to(device)\n",
    "\n",
    "# check embedding size to match the labels\n",
    "if tr_embs.size(1) < global_max:\n",
    "    # ekstra pad lazım\n",
    "    pad_size = global_max - tr_embs.size(1)\n",
    "\n",
    "    tr_embs = F.pad(tr_embs, (0, 0, 0, pad_size), \"constant\", 0)\n",
    "\n",
    "\n",
    "print(f\"shape of tr_embs: {tr_embs.shape}, example: {tr_embs[0]}\")"
   ]
  },
  {
   "cell_type": "code",
   "execution_count": 9,
   "metadata": {},
   "outputs": [
    {
     "name": "stdout",
     "output_type": "stream",
     "text": [
      "shape of it_labels: torch.Size([9, 14]), example: tensor([[1, 2, 2, 2, 3, 3, 3, 3, 3, 3, 3, 0, 0, 0],\n",
      "        [3, 3, 3, 3, 3, 3, 3, 3, 3, 0, 0, 0, 0, 0],\n",
      "        [3, 3, 3, 3, 3, 3, 3, 3, 3, 3, 3, 3, 0, 0],\n",
      "        [3, 1, 2, 2, 3, 3, 3, 3, 3, 0, 0, 0, 0, 0],\n",
      "        [3, 3, 3, 3, 3, 3, 3, 3, 3, 0, 0, 0, 0, 0],\n",
      "        [3, 3, 3, 3, 3, 3, 3, 3, 3, 3, 3, 3, 0, 0],\n",
      "        [3, 3, 3, 1, 3, 2, 2, 2, 0, 0, 0, 0, 0, 0],\n",
      "        [3, 3, 3, 3, 3, 3, 3, 3, 3, 3, 3, 3, 0, 0],\n",
      "        [3, 3, 3, 3, 3, 3, 3, 3, 1, 2, 2, 0, 0, 0]], device='cuda:0')\n",
      "shape of it_words: 9, example: ['Prendi', 'con', 'le', 'pinze', 'quello', 'che', 'non', 'è', 'detto', 'da', 'esperti']\n"
     ]
    }
   ],
   "source": [
    "it_words = [words[i] for i in it_indices.cpu().numpy()]\n",
    "it_labels = labels[it_indices]\n",
    "\n",
    "print(f\"shape of it_labels: {it_labels.shape}, example: {it_labels}\")\n",
    "print(f\"shape of it_words: {len(it_words)}, example: {it_words[0]}\")"
   ]
  },
  {
   "cell_type": "code",
   "execution_count": 10,
   "metadata": {},
   "outputs": [
    {
     "name": "stdout",
     "output_type": "stream",
     "text": [
      "shape of embedded_it: 9, example: torch.Size([11, 768])\n",
      "shape of embedded_it: 9, example: torch.Size([9, 768])\n"
     ]
    }
   ],
   "source": [
    "# embed tr list of embeddings herbirisi 10,seq_length,768 -> [tr_batch_size, seq_length, 768]\n",
    "it_embedded = it_embedder.embed_sentences(it_words)\n",
    "print(f\"shape of embedded_it: {len(it_embedded)}, example: {it_embedded[0].shape}\")\n",
    "print(f\"shape of embedded_it: {len(it_embedded)}, example: {it_embedded[1].shape}\")"
   ]
  },
  {
   "cell_type": "code",
   "execution_count": 11,
   "metadata": {},
   "outputs": [
    {
     "name": "stdout",
     "output_type": "stream",
     "text": [
      "shape of it_embs: torch.Size([9, 14, 768]), example: tensor([[ 1.5195,  0.7601, -0.3326,  ..., -1.1507,  1.1400,  1.5811],\n",
      "        [ 2.3115, -0.4679, -2.2278,  ...,  2.9320,  0.5704, -0.7404],\n",
      "        [ 1.1491,  3.5726,  0.6087,  ..., -0.1244,  2.5063,  1.2722],\n",
      "        ...,\n",
      "        [ 0.0000,  0.0000,  0.0000,  ...,  0.0000,  0.0000,  0.0000],\n",
      "        [ 0.0000,  0.0000,  0.0000,  ...,  0.0000,  0.0000,  0.0000],\n",
      "        [ 0.0000,  0.0000,  0.0000,  ...,  0.0000,  0.0000,  0.0000]],\n",
      "       device='cuda:0')\n"
     ]
    }
   ],
   "source": [
    "it_embs = pad_sequence(it_embedded, batch_first=True, padding_value=0).to(device)\n",
    "\n",
    "# check embedding size to match the labels\n",
    "if it_embs.size(1) < global_max:\n",
    "    # ekstra pad lazım\n",
    "    pad_size = global_max - it_embs.size(1)\n",
    "\n",
    "    it_embs = F.pad(it_embs, (0, 0, 0, pad_size), \"constant\", 0)\n",
    "\n",
    "print(f\"shape of it_embs: {it_embs.shape}, example: {it_embs[0]}\")"
   ]
  },
  {
   "cell_type": "code",
   "execution_count": 12,
   "metadata": {},
   "outputs": [
    {
     "name": "stdout",
     "output_type": "stream",
     "text": [
      "tr_NLL: 106.00544738769531\n",
      "it_NLL: 156.24530029296875\n",
      "loss: 262.250732421875\n"
     ]
    }
   ],
   "source": [
    "tr_LL, _ = tr_model(tr_embs, tr_labels)\n",
    "tr_NLL = -tr_LL\n",
    "\n",
    "it_LL,_ = it_model(it_embs, it_labels)\n",
    "it_NLL = -it_LL\n",
    "\n",
    "print(f\"tr_NLL: {tr_NLL}\")\n",
    "print(f\"it_NLL: {it_NLL}\")\n",
    "loss = tr_NLL + it_NLL\n",
    "print(f\"loss: {loss}\")\n",
    "\n",
    "tr_optimizer = optim.Adam(tr_model.parameters(), lr=0.0001)\n",
    "it_optimizer = optim.Adam(it_model.parameters(), lr=0.0001)\n",
    "\n",
    "# Optimizer step\n",
    "tr_optimizer.zero_grad()\n",
    "it_optimizer.zero_grad()\n",
    "loss.backward()\n",
    "torch.nn.utils.clip_grad_norm_(tr_model.parameters(), 1)\n",
    "torch.nn.utils.clip_grad_norm_(it_model.parameters(), 1)\n",
    "tr_optimizer.step()\n",
    "it_optimizer.step()\n"
   ]
  },
  {
   "cell_type": "code",
   "execution_count": 13,
   "metadata": {},
   "outputs": [
    {
     "name": "stdout",
     "output_type": "stream",
     "text": [
      "tr_decode: [[3, 3, 0, 0, 3, 0, 0, 0, 0, 1, 0, 2, 3, 2, 3, 2, 3, 3], [0, 0, 1, 0, 1, 0, 0, 0, 2, 2, 2, 3, 2, 3, 2, 3, 2, 0], [2, 3, 2, 0, 1, 0, 2, 3, 0, 2, 2, 3, 1, 3, 2, 0, 3, 1], [2, 3, 0, 1, 1, 3, 0, 1, 1, 2, 3, 2, 0, 0, 0, 0, 3, 0], [1, 0, 3, 2, 3, 2, 2, 0, 0, 0, 3, 3, 0, 0, 0, 1, 1, 2], [3, 3, 0, 1, 2, 3, 0, 2, 1, 3, 0, 1, 3, 2, 3, 0, 2, 0], [3, 0, 2, 0, 0, 0, 0, 1, 3, 0, 3, 1, 2, 2, 3, 0, 0, 3], [1, 1, 0, 1, 0, 1, 3, 3, 0, 1, 3, 1, 0, 1, 0, 2, 0, 2], [2, 2, 0, 0, 0, 2, 0, 0, 3, 0, 1, 1, 0, 3, 2, 3, 2, 0], [3, 0, 0, 3, 0, 2, 2, 3, 0, 0, 2, 0, 0, 2, 2, 0, 2, 0], [3, 1, 3, 2, 2, 3, 2, 0, 3, 0, 3, 0, 0, 1, 3, 0, 3, 2], [0, 0, 2, 3, 3, 2, 2, 0, 3, 0, 3, 0, 3, 2, 3, 0, 0, 1], [3, 3, 2, 0, 3, 3, 1, 0, 2, 0, 0, 0, 0, 1, 2, 3, 3, 3], [0, 0, 1, 0, 3, 1, 0, 3, 3, 0, 2, 3, 0, 3, 0, 1, 3, 3], [0, 2, 3, 0, 3, 3, 0, 2, 3, 0, 0, 0, 0, 0, 2, 3, 0, 0], [2, 1, 3, 3, 0, 2, 0, 1, 0, 0, 3, 3, 0, 0, 0, 3, 3, 0]]\n",
      "Token‐seviye accuracy: 0.3472\n",
      "Sentence‐seviye accuracy: 0.0000\n"
     ]
    }
   ],
   "source": [
    "# get one batch from dev set\n",
    "eval_data = next(iter(dev_dataloader))\n",
    "words, labels, langs = eval_data\n",
    "\n",
    "# tr ve it nin indexlerini ayıkla\n",
    "tr_indices = (langs == 0).nonzero(as_tuple=True)[0]\n",
    "it_indices = (langs == 1).nonzero(as_tuple=True)[0]\n",
    "\n",
    "batch_size, seq_len = labels.shape\n",
    "device = labels.device\n",
    "global_max = seq_len\n",
    "\n",
    "hidden_size = tr_embedder.bert_model.config.hidden_size\n",
    "\n",
    "# TR cümleleri ayıkla, embeddle ve petle\n",
    "tr_words  = [words[i] for i in tr_indices.cpu().numpy()]\n",
    "tr_labels = labels[tr_indices]\n",
    "# türkçe cümle gelmiş mi kontrolü\n",
    "if len(tr_words) > 0:\n",
    "    tr_embedded = tr_embedder.embed_sentences(tr_words)\n",
    "    tr_embs     = pad_sequence(tr_embedded, batch_first=True, padding_value=0).to(device)\n",
    "    if tr_embs.size(1) < global_max:\n",
    "        # ekstra pad lazım\n",
    "        pad_size = global_max - tr_embs.size(1)\n",
    "        tr_embs  = F.pad(tr_embs, (0, 0, 0, pad_size), \"constant\", 0)\n",
    "else:\n",
    "    # hiç TR cümlesi yoksa boş batch oluştur\n",
    "    tr_embs = torch.zeros((0, global_max, hidden_size), device=device)\n",
    "\n",
    "# IT cümleleri ayıkla, embeddle ve petle\n",
    "it_words    = [words[i] for i in it_indices.cpu().numpy()]\n",
    "it_labels   = labels[it_indices]\n",
    "if len(it_words) > 0:\n",
    "    it_embedded = it_embedder.embed_sentences(it_words)\n",
    "    it_embs     = pad_sequence(it_embedded, batch_first=True, padding_value=0).to(device)\n",
    "    if it_embs.size(1) < global_max:\n",
    "        # ekstra pad lazım\n",
    "        pad_size = global_max - it_embs.size(1)\n",
    "        it_embs  = F.pad(it_embs, (0, 0, 0, pad_size), \"constant\", 0)\n",
    "else:\n",
    "    # hiç IT cümlesi yoksa boş batch oluştur\n",
    "    it_embs = torch.zeros((0, global_max, hidden_size), device=device)\n",
    "\n",
    "# take predictions\n",
    "tr_decode = tr_model(tr_embs, None)\n",
    "print(f\"tr_decode: {tr_decode}\")\n",
    "it_decode = it_model(it_embs, None)\n",
    "\n",
    "# alt kısım GPT bakmak lazım \n",
    "\n",
    "def decode_to_tensor(decode_out, seq_len, device):\n",
    "    # 1) list of lists → list of 1D tensors\n",
    "    token_tensors = [torch.tensor(seq, dtype=torch.long, device=device)\n",
    "                     for seq in decode_out]\n",
    "    # 2) hiç prediction yoksa boş tensor\n",
    "    if not token_tensors:\n",
    "        return torch.zeros((0, seq_len), dtype=torch.long, device=device)\n",
    "    # 3) pad_sequence ile batch_first ve padding_value=-1\n",
    "    padded = pad_sequence(token_tensors, batch_first=True, padding_value=-1)\n",
    "    # 4) eğer hâlâ seq_len’den kısa ise sağa pad et\n",
    "    if padded.size(1) < seq_len:\n",
    "        pad_amt = seq_len - padded.size(1)\n",
    "        padded = F.pad(padded, (0, pad_amt), value=-1)\n",
    "    return padded\n",
    "\n",
    "# kullanım:\n",
    "tr_pred = decode_to_tensor(tr_decode, seq_len, device)\n",
    "it_pred = decode_to_tensor(it_decode, seq_len, device)\n",
    "\n",
    "\n",
    "# list of lists → tensor’a çevir\n",
    "if len(tr_decode) > 0:\n",
    "    tr_pred = torch.full((len(tr_decode), seq_len),\n",
    "                         fill_value=-1, dtype=torch.long, device=device)\n",
    "    for i, seq in enumerate(tr_decode):\n",
    "        tr_pred[i, :len(seq)] = torch.tensor(seq, device=device)\n",
    "else:\n",
    "    tr_pred = torch.zeros((0, seq_len), dtype=torch.long, device=device)\n",
    "\n",
    "if len(it_decode) > 0:\n",
    "    it_pred = torch.full((len(it_decode), seq_len),\n",
    "                         fill_value=-1, dtype=torch.long, device=device)\n",
    "    for i, seq in enumerate(it_decode):\n",
    "        it_pred[i, :len(seq)] = torch.tensor(seq, device=device)\n",
    "else:\n",
    "    it_pred = torch.zeros((0, seq_len), dtype=torch.long, device=device)\n",
    "\n",
    "# 1) Tam batch için pred tensor’ü oluştur\n",
    "all_pred = torch.full(\n",
    "    (batch_size, seq_len),\n",
    "    fill_value=-1,                # pad bölgelerde -1 kalsın\n",
    "    dtype=torch.long,\n",
    "    device=device\n",
    ")\n",
    "\n",
    "# 2) TR ve IT tahminlerini ilgili index’lere yerleştir\n",
    "all_pred[tr_indices] = tr_pred\n",
    "all_pred[it_indices] = it_pred\n",
    "\n",
    "# 3) Sadece gerçek token’lar üzerinde doğru/yanlış kontrolü\n",
    "valid_mask   = labels.ne(-1)        # True olan yerler gerçek token\n",
    "correct_mask = (all_pred == labels) & valid_mask\n",
    "\n",
    "# 4) İsterseniz token‐seviye accuracy\n",
    "token_accuracy = correct_mask.sum().float() / valid_mask.sum().float()\n",
    "print(f\"Token‐seviye accuracy: {token_accuracy:.4f}\")\n",
    "\n",
    "# 5) Veya örnek‐seviye (sentence‐seviye) doğru karar:\n",
    "#    her cümlenin tüm token’ları doğru mu?\n",
    "sent_correct     = correct_mask.all(dim=1) & valid_mask.any(dim=1)\n",
    "# valid_mask.any(dim=1) ile “tamamen pad’li” örnekleri atlıyoruz\n",
    "sentence_accuracy = sent_correct.sum().float() / sent_correct.numel()\n",
    "print(f\"Sentence‐seviye accuracy: {sentence_accuracy:.4f}\")\n",
    "\n",
    "# all_pred şimdi (batch_size, seq_len) shape’inde, \n",
    "# her satır orijinal sırasıyla tahminleri içeriyor.\n"
   ]
  },
  {
   "cell_type": "code",
   "execution_count": 14,
   "metadata": {},
   "outputs": [
    {
     "name": "stdout",
     "output_type": "stream",
     "text": [
      "\n",
      "Training...\n",
      " Epoch 001, patience: 15\n"
     ]
    },
    {
     "name": "stderr",
     "output_type": "stream",
     "text": [
      "Epoch 1: 100%|██████████| 720/720 [01:32<00:00,  7.81it/s]\n"
     ]
    },
    {
     "name": "stdout",
     "output_type": "stream",
     "text": [
      "[E:01] train tr_loss=27.8593, it_loss=48.8413, total=76.7006\n"
     ]
    },
    {
     "name": "stderr",
     "output_type": "stream",
     "text": [
      "Evaluating: 100%|██████████| 90/90 [00:07<00:00, 12.28it/s]\n"
     ]
    },
    {
     "name": "stdout",
     "output_type": "stream",
     "text": [
      "TR F1: 0.5432, IT F1: 0.5701, Full F1: 0.5932\n",
      " Epoch 002, patience: 15\n"
     ]
    },
    {
     "name": "stderr",
     "output_type": "stream",
     "text": [
      "Epoch 2: 100%|██████████| 720/720 [01:23<00:00,  8.62it/s]\n"
     ]
    },
    {
     "name": "stdout",
     "output_type": "stream",
     "text": [
      "[E:02] train tr_loss=19.0174, it_loss=34.0168, total=53.0343\n"
     ]
    },
    {
     "name": "stderr",
     "output_type": "stream",
     "text": [
      "Evaluating: 100%|██████████| 90/90 [00:06<00:00, 13.93it/s]\n"
     ]
    },
    {
     "name": "stdout",
     "output_type": "stream",
     "text": [
      "TR F1: 0.7323, IT F1: 0.6718, Full F1: 0.7043\n",
      " Epoch 003, patience: 15\n"
     ]
    },
    {
     "name": "stderr",
     "output_type": "stream",
     "text": [
      "Epoch 3: 100%|██████████| 720/720 [01:32<00:00,  7.78it/s]\n"
     ]
    },
    {
     "name": "stdout",
     "output_type": "stream",
     "text": [
      "[E:03] train tr_loss=15.4190, it_loss=30.0480, total=45.4670\n"
     ]
    },
    {
     "name": "stderr",
     "output_type": "stream",
     "text": [
      "Evaluating: 100%|██████████| 90/90 [00:08<00:00, 11.19it/s]\n"
     ]
    },
    {
     "name": "stdout",
     "output_type": "stream",
     "text": [
      "TR F1: 0.7722, IT F1: 0.7343, Full F1: 0.7528\n",
      " Epoch 004, patience: 15\n"
     ]
    },
    {
     "name": "stderr",
     "output_type": "stream",
     "text": [
      "Epoch 4: 100%|██████████| 720/720 [01:51<00:00,  6.43it/s]\n"
     ]
    },
    {
     "name": "stdout",
     "output_type": "stream",
     "text": [
      "[E:04] train tr_loss=13.8606, it_loss=27.5012, total=41.3618\n"
     ]
    },
    {
     "name": "stderr",
     "output_type": "stream",
     "text": [
      "Evaluating: 100%|██████████| 90/90 [00:07<00:00, 12.06it/s]\n"
     ]
    },
    {
     "name": "stdout",
     "output_type": "stream",
     "text": [
      "TR F1: 0.7849, IT F1: 0.7575, Full F1: 0.7716\n",
      "...Done!\n"
     ]
    },
    {
     "data": {
      "text/plain": [
       "([76.7005844116211, 53.03425598144531, 45.46696090698242, 41.36180114746094],\n",
       " [0.8673057517658931,\n",
       "  0.8952717312959493,\n",
       "  0.8998846763730719,\n",
       "  0.9121378117341791],\n",
       " [0.5932067890872558,\n",
       "  0.7042827887750978,\n",
       "  0.752836574942902,\n",
       "  0.7716366741017872])"
      ]
     },
     "execution_count": 14,
     "metadata": {},
     "output_type": "execute_result"
    }
   ],
   "source": [
    "trainer = Trainer(tr_model = tr_model, it_model = it_model,\n",
    "                tr_optimizer = optim.Adam(tr_model.parameters(), lr=0.0001),\n",
    "                it_optimizer = optim.Adam(it_model.parameters(), lr=0.0001),\n",
    "                tr_embedder= tr_embedder,\n",
    "                it_embedder= it_embedder,\n",
    "                modelname = model_name,\n",
    "                labels_vocab=labels_vocab)\n",
    "\n",
    "trainer.train(train_dataloader, dev_dataloader, 4, patience=15)\n",
    "\n"
   ]
  },
  {
   "cell_type": "code",
   "execution_count": 15,
   "metadata": {},
   "outputs": [
    {
     "name": "stdout",
     "output_type": "stream",
     "text": [
      "Reading dataset...\n",
      "\n"
     ]
    },
    {
     "name": "stderr",
     "output_type": "stream",
     "text": [
      "15670it [00:00, 664927.35it/s]\n"
     ]
    },
    {
     "name": "stdout",
     "output_type": "stream",
     "text": [
      "Dataset read.\n",
      "\n",
      "--------------------------------------------------\n",
      "\n",
      "Encoding data...\n",
      "\n"
     ]
    },
    {
     "name": "stderr",
     "output_type": "stream",
     "text": [
      "100%|██████████| 1435/1435 [00:00<00:00, 27772.75it/s]"
     ]
    },
    {
     "name": "stdout",
     "output_type": "stream",
     "text": [
      "Data encoded.\n",
      "\n",
      "--------------------------------------------------\n",
      "\n"
     ]
    },
    {
     "name": "stderr",
     "output_type": "stream",
     "text": [
      "\n"
     ]
    }
   ],
   "source": [
    "test_dataset = IdiomDataset(test_file, labels_vocab, tagger_dict, is_test = True) \n",
    "test_dataloader = DataLoader(test_dataset, batch_size=1, collate_fn=collate)"
   ]
  },
  {
   "cell_type": "code",
   "execution_count": 16,
   "metadata": {},
   "outputs": [
    {
     "name": "stderr",
     "output_type": "stream",
     "text": [
      "Evaluating: 100%|██████████| 1435/1435 [00:38<00:00, 36.83it/s]"
     ]
    },
    {
     "name": "stdout",
     "output_type": "stream",
     "text": [
      "Predictions saved to ../results/deneme//test/predictions.csv\n"
     ]
    },
    {
     "name": "stderr",
     "output_type": "stream",
     "text": [
      "\n"
     ]
    }
   ],
   "source": [
    "trainer.test(test_dataloader)"
   ]
  }
 ],
 "metadata": {
  "kernelspec": {
   "display_name": "nlp",
   "language": "python",
   "name": "python3"
  },
  "language_info": {
   "codemirror_mode": {
    "name": "ipython",
    "version": 3
   },
   "file_extension": ".py",
   "mimetype": "text/x-python",
   "name": "python",
   "nbconvert_exporter": "python",
   "pygments_lexer": "ipython3",
   "version": "3.10.16"
  }
 },
 "nbformat": 4,
 "nbformat_minor": 2
}
