{
 "cells": [
  {
   "cell_type": "code",
   "execution_count": 1,
   "metadata": {},
   "outputs": [
    {
     "name": "stderr",
     "output_type": "stream",
     "text": [
      "2025-05-10 12:15:48 INFO: Checking for updates to resources.json in case models have been updated.  Note: this behavior can be turned off with download_method=None or download_method=DownloadMethod.REUSE_RESOURCES\n"
     ]
    },
    {
     "name": "stdout",
     "output_type": "stream",
     "text": [
      "Initializing Stanza pipelines...\n"
     ]
    },
    {
     "data": {
      "application/vnd.jupyter.widget-view+json": {
       "model_id": "4048b957798741448aa951e5c807f194",
       "version_major": 2,
       "version_minor": 0
      },
      "text/plain": [
       "Downloading https://raw.githubusercontent.com/stanfordnlp/stanza-resources/main/resources_1.10.0.json:   0%|  …"
      ]
     },
     "metadata": {},
     "output_type": "display_data"
    },
    {
     "name": "stderr",
     "output_type": "stream",
     "text": [
      "2025-05-10 12:15:49 INFO: Downloaded file to C:\\Users\\krbyk\\stanza_resources\\resources.json\n",
      "2025-05-10 12:15:50 INFO: Loading these models for language: tr (Turkish):\n",
      "=============================\n",
      "| Processor | Package       |\n",
      "-----------------------------\n",
      "| tokenize  | imst          |\n",
      "| mwt       | imst          |\n",
      "| lemma     | imst_nocharlm |\n",
      "=============================\n",
      "\n",
      "2025-05-10 12:15:50 INFO: Using device: cuda\n",
      "2025-05-10 12:15:50 INFO: Loading: tokenize\n",
      "2025-05-10 12:15:50 INFO: Loading: mwt\n",
      "2025-05-10 12:15:50 INFO: Loading: lemma\n",
      "2025-05-10 12:15:51 INFO: Done loading processors!\n",
      "2025-05-10 12:15:51 INFO: Checking for updates to resources.json in case models have been updated.  Note: this behavior can be turned off with download_method=None or download_method=DownloadMethod.REUSE_RESOURCES\n"
     ]
    },
    {
     "data": {
      "application/vnd.jupyter.widget-view+json": {
       "model_id": "dc683f6facd246d4a10c35323eb1e6c9",
       "version_major": 2,
       "version_minor": 0
      },
      "text/plain": [
       "Downloading https://raw.githubusercontent.com/stanfordnlp/stanza-resources/main/resources_1.10.0.json:   0%|  …"
      ]
     },
     "metadata": {},
     "output_type": "display_data"
    },
    {
     "name": "stderr",
     "output_type": "stream",
     "text": [
      "2025-05-10 12:15:51 INFO: Downloaded file to C:\\Users\\krbyk\\stanza_resources\\resources.json\n",
      "2025-05-10 12:15:51 INFO: Loading these models for language: it (Italian):\n",
      "=================================\n",
      "| Processor | Package           |\n",
      "---------------------------------\n",
      "| tokenize  | combined          |\n",
      "| mwt       | combined          |\n",
      "| lemma     | combined_nocharlm |\n",
      "=================================\n",
      "\n",
      "2025-05-10 12:15:51 INFO: Using device: cuda\n",
      "2025-05-10 12:15:51 INFO: Loading: tokenize\n",
      "2025-05-10 12:15:51 INFO: Loading: mwt\n",
      "2025-05-10 12:15:51 INFO: Loading: lemma\n",
      "2025-05-10 12:15:52 INFO: Done loading processors!\n"
     ]
    },
    {
     "name": "stdout",
     "output_type": "stream",
     "text": [
      "Stanza pipelines initialized.\n",
      "--------------------------------------------------\n",
      "\n",
      "Reading dataset...\n",
      "\n"
     ]
    },
    {
     "name": "stderr",
     "output_type": "stream",
     "text": [
      "124561it [00:00, 996202.98it/s]\n"
     ]
    },
    {
     "name": "stdout",
     "output_type": "stream",
     "text": [
      "Dataset read.\n",
      "\n",
      "--------------------------------------------------\n",
      "\n",
      "Encoding data...\n",
      "\n"
     ]
    },
    {
     "name": "stderr",
     "output_type": "stream",
     "text": [
      "100%|██████████| 11514/11514 [00:00<00:00, 23447.51it/s]\n"
     ]
    },
    {
     "name": "stdout",
     "output_type": "stream",
     "text": [
      "Data encoded.\n",
      "\n",
      "--------------------------------------------------\n",
      "\n",
      "Reading dataset...\n",
      "\n"
     ]
    },
    {
     "name": "stderr",
     "output_type": "stream",
     "text": [
      "15311it [00:00, 915191.51it/s]\n"
     ]
    },
    {
     "name": "stdout",
     "output_type": "stream",
     "text": [
      "Dataset read.\n",
      "\n",
      "--------------------------------------------------\n",
      "\n",
      "Encoding data...\n",
      "\n"
     ]
    },
    {
     "name": "stderr",
     "output_type": "stream",
     "text": [
      "100%|██████████| 1437/1437 [00:00<00:00, 48131.08it/s]\n"
     ]
    },
    {
     "name": "stdout",
     "output_type": "stream",
     "text": [
      "Data encoded.\n",
      "\n",
      "--------------------------------------------------\n",
      "\n",
      "train sentences: 11514\n",
      "dev sentences: 1437\n",
      "--------------------------------------------------\n",
      "\n",
      "length of train dataloader: 720\n",
      "length of dev dataloader: 90\n",
      "<hparams.HParams object at 0x000002A5C6213C40>\n",
      "BERT model parameters have been frozen.\n",
      "<hparams.HParams object at 0x000002A5C6213C40>\n",
      "BERT model parameters have been frozen.\n"
     ]
    }
   ],
   "source": [
    "from __init__ import *\n",
    "from dataset import IdiomDataset\n",
    "from collate import collate\n",
    "from model import IdiomExtractor\n",
    "from bert_embedder import BERTEmbedder\n",
    "from hparams import HParams\n",
    "from trainer import Trainer\n",
    "from utils import *\n",
    "\n",
    "SEED = 2\n",
    "# set seeds to get reproducible results\n",
    "random.seed(SEED)\n",
    "np.random.seed(SEED)\n",
    "torch.manual_seed(SEED)\n",
    "torch.cuda.manual_seed(SEED)\n",
    "# gpuda bazen randomluk olabiliyormuş onu kaldırmak için\n",
    "torch.backends.cudnn.deterministic = True\n",
    "\n",
    "# create bert\n",
    "it_model_name = 'bert-base-multilingual-cased'\n",
    "# output hidden states -> it helps to get hidden states from bert\n",
    "it_config = BertConfig.from_pretrained(it_model_name, output_hidden_states=True)\n",
    "it_tokenizer = BertTokenizer.from_pretrained(it_model_name)\n",
    "# get bert weights\n",
    "hf_it_model = BertModel.from_pretrained(it_model_name, config=it_config)\n",
    "\n",
    "\n",
    "# Türkçe BERT\n",
    "tr_model_name = \"dbmdz/bert-base-turkish-128k-cased\"\n",
    "tr_config = BertConfig.from_pretrained(tr_model_name, output_hidden_states=True)\n",
    "tr_tokenizer = BertTokenizer.from_pretrained(tr_model_name)\n",
    "hf_tr_model = BertModel.from_pretrained(tr_model_name, config=tr_config)\n",
    "\n",
    "# train, update or test mode selection\n",
    "#mode = input(\"Do you want to train or test the model? (train, update, test): \").strip().lower()\n",
    "mode = \"train\"\n",
    "assert mode in ['train', 'update', 'test'], \"Mode must be one of train, update, test\"\n",
    "# select the dataset\n",
    "#dataset_selection = input(\"Select the dataset (ID10M, ITU, PARSEME, ALL_COMBINED): \").strip().upper()\n",
    "dataset_selection = \"ITU\"\n",
    "assert dataset_selection in ['ID10M', 'ITU', 'PARSEME', 'COMBINED'], \"Dataset must be one of ID10M, ITU, PARSEME, COMBINED\"\n",
    "\n",
    "# check dataset path\n",
    "tr_path = r\"./src/checkpoints/tr/\"\n",
    "it_path = r\"./src/checkpoints/it/\"\n",
    "os.makedirs(tr_path, exist_ok=True)\n",
    "os.makedirs(it_path, exist_ok=True)\n",
    "\n",
    "if mode in [\"test\",\"update\"]:\n",
    "    # list available checkpoints\n",
    "    print(\"Available tr checkpoints:\")\n",
    "    checkpoints = os.listdir(tr_path)\n",
    "    for i, checkpoint in enumerate(checkpoints):\n",
    "        print(f\"{i+1}. {checkpoint}\")\n",
    "    print(\"none\")\n",
    "    # load the model\n",
    "    checkpoint = input(\"Enter the checkpoint (without .pt): \").strip()\n",
    "    if checkpoint == \"none\":\n",
    "        tr_path = None\n",
    "    else:\n",
    "        tr_path = tr_path + checkpoint + \".pt\"\n",
    "        assert os.path.exists(tr_path), \"Model path does not exist\"\n",
    "\n",
    "    print(\"\\n\")\n",
    "\n",
    "    print(\"Available it checkpoints:\")\n",
    "    checkpoints = os.listdir(it_path)\n",
    "    for i, checkpoint in enumerate(checkpoints):\n",
    "        print(f\"{i+1}. {checkpoint}\")\n",
    "    print(\"none\")\n",
    "    # load the model\n",
    "    checkpoint = input(\"Enter the checkpoint (without .pt): \").strip()\n",
    "    if checkpoint == \"none\":\n",
    "        it_path = None\n",
    "    else:\n",
    "        it_path = it_path + checkpoint + \".pt\"\n",
    "        assert os.path.exists(it_path), \"Model path does not exist\"\n",
    "\n",
    "model_name = None\n",
    "if mode in [\"train\", \"update\"]:\n",
    "    #model_name = input(\"Enter the model name (without .pt): \").strip()\n",
    "    model_name = \"deneme\"\n",
    "\n",
    "elif mode == \"test\":\n",
    "    model_name = checkpoint\n",
    "\n",
    "# get stanza tagger for both languages\n",
    "tagger_dict = initialize(use_gpu=True)\n",
    "\n",
    "# get the path for the dataset\n",
    "main_path = r\"../resources/\"+dataset_selection+\"/\"\n",
    "train_file = main_path + \"train.tsv\"\n",
    "dev_file = main_path + \"dev.tsv\"\n",
    "test_file = main_path + \"test.tsv\"\n",
    "\n",
    "labels_vocab = {\"<pad>\":0, \"B-IDIOM\":1, \"I-IDIOM\":2, \"O\":3}\n",
    "\n",
    "# initialize the dataset\n",
    "train_dataset, dev_dataset, test_dataset = None, None, None\n",
    "if mode in [\"train\", \"update\"]:\n",
    "    train_dataset = IdiomDataset(train_file, labels_vocab, tagger_dict)\n",
    "    dev_dataset = IdiomDataset(dev_file, labels_vocab, tagger_dict)\n",
    "    print(f\"train sentences: {len(train_dataset)}\")\n",
    "    print(f\"dev sentences: {len(dev_dataset)}\")\n",
    "    print(\"-\" * 50 + \"\\n\")\n",
    "else:\n",
    "    test_dataset = IdiomDataset(test_file, labels_vocab, tagger_dict) \n",
    "    print(f\"test sentences: {len(test_dataset)}\")\n",
    "    print(\"-\" * 50 + \"\\n\")\n",
    "\n",
    "#dataloader\n",
    "\n",
    "if mode in [\"train\", \"update\"]:\n",
    "    train_dataloader = DataLoader(train_dataset, batch_size=16, shuffle=True, collate_fn=collate)\n",
    "    dev_dataloader = DataLoader(dev_dataset, batch_size=16, collate_fn=collate)\n",
    "    print(f\"length of train dataloader: {len(train_dataloader)}\")\n",
    "    print(f\"length of dev dataloader: {len(dev_dataloader)}\")\n",
    "else:\n",
    "    test_dataloader = DataLoader(test_dataset, batch_size=1, collate_fn=collate)\n",
    "    print(f\"length of test dataloader: {len(test_dataloader)}\")\n",
    "\n",
    "\n",
    "#instantiate the hyperparameters\n",
    "params = HParams()\n",
    "\n",
    "DEVICE = torch.device(\"cuda\" if torch.cuda.is_available() else \"cpu\")\n",
    "\n",
    "#instantiate the model\n",
    "it_model = IdiomExtractor(hf_it_model,\n",
    "                    params).cuda()\n",
    "\n",
    "it_model.freeze_bert()\n",
    "\n",
    "tr_model = IdiomExtractor(hf_tr_model,\n",
    "                    params).cuda()\n",
    "\n",
    "tr_model.freeze_bert()\n",
    "\n",
    "device = torch.device(\"cuda\" if torch.cuda.is_available() else \"cpu\")\n",
    "\n",
    "it_embedder =  BERTEmbedder(hf_it_model, it_tokenizer, device)\n",
    "tr_embedder =  BERTEmbedder(hf_tr_model, tr_tokenizer, device)\n"
   ]
  },
  {
   "cell_type": "code",
   "execution_count": 2,
   "metadata": {},
   "outputs": [],
   "source": [
    "example_sentence = next(iter(train_dataloader))"
   ]
  },
  {
   "cell_type": "code",
   "execution_count": 3,
   "metadata": {},
   "outputs": [
    {
     "name": "stdout",
     "output_type": "stream",
     "text": [
      "shape of words: 16, example: ['Zaman', 'kazanmak', 'için', 'yaptığın', 'entrikalar', 'seni', 'kurtarmayacak', ',', 'eninde', 'sonunda', 'yakalayacak', 'seni', 'polis', '!']\n",
      "shape of labels: 16, example: tensor([3, 3, 3, 3, 3, 3, 3, 3, 3, 3, 3, 3, 3, 3], device='cuda:0')\n",
      "shape of langs: 16, example: tensor([0, 0, 1, 1, 1, 0, 1, 0, 1, 1, 0, 0, 0, 1, 1, 1], device='cuda:0')\n",
      "14\n"
     ]
    }
   ],
   "source": [
    "words, labels, langs = example_sentence\n",
    "\n",
    "# embedding'i aynı size a getirmek için lazım\n",
    "# labellar beraber padleniyor embeddingler ayrı\n",
    "# yani en uzun tr cümle 14, it cümle 12 uzunluğundaysa\n",
    "# it label 14, it embedding 12 boyutunda oluyor hata veriyor.\n",
    "global_max = labels.size(1)\n",
    "\n",
    "print(f\"shape of words: {len(words)}, example: {words[0]}\")\n",
    "print(f\"shape of labels: {len(labels)}, example: {labels[0]}\")\n",
    "print(f\"shape of langs: {len(langs)}, example: {langs}\")\n",
    "print(global_max)"
   ]
  },
  {
   "cell_type": "code",
   "execution_count": 4,
   "metadata": {},
   "outputs": [
    {
     "name": "stdout",
     "output_type": "stream",
     "text": [
      "tr_indices: tensor([ 0,  1,  5,  7, 10, 11, 12], device='cuda:0')\n",
      "it_indices: tensor([ 2,  3,  4,  6,  8,  9, 13, 14, 15], device='cuda:0')\n"
     ]
    }
   ],
   "source": [
    "tr_indices = (langs == 0).nonzero(as_tuple=True)[0]\n",
    "it_indices = (langs == 1).nonzero(as_tuple=True)[0]\n",
    "print(f\"tr_indices: {tr_indices}\")\n",
    "print(f\"it_indices: {it_indices}\")"
   ]
  },
  {
   "cell_type": "code",
   "execution_count": 5,
   "metadata": {},
   "outputs": [
    {
     "name": "stdout",
     "output_type": "stream",
     "text": [
      "labels: tensor([[3, 3, 3, 3, 3, 3, 3, 3, 3, 3, 3, 3, 3, 3],\n",
      "        [3, 3, 3, 3, 3, 3, 3, 3, 3, 3, 0, 0, 0, 0],\n",
      "        [1, 2, 2, 2, 3, 3, 3, 3, 3, 3, 3, 0, 0, 0],\n",
      "        [3, 3, 3, 3, 3, 3, 3, 3, 3, 0, 0, 0, 0, 0],\n",
      "        [3, 3, 3, 3, 3, 3, 3, 3, 3, 3, 3, 3, 0, 0],\n",
      "        [2, 3, 1, 3, 3, 0, 0, 0, 0, 0, 0, 0, 0, 0],\n",
      "        [3, 1, 2, 2, 3, 3, 3, 3, 3, 0, 0, 0, 0, 0],\n",
      "        [3, 3, 3, 3, 3, 1, 2, 3, 0, 0, 0, 0, 0, 0],\n",
      "        [3, 3, 3, 3, 3, 3, 3, 3, 3, 0, 0, 0, 0, 0],\n",
      "        [3, 3, 3, 3, 3, 3, 3, 3, 3, 3, 3, 3, 0, 0],\n",
      "        [3, 3, 3, 3, 3, 3, 0, 0, 0, 0, 0, 0, 0, 0],\n",
      "        [3, 3, 3, 3, 3, 3, 0, 0, 0, 0, 0, 0, 0, 0],\n",
      "        [3, 3, 3, 3, 3, 3, 3, 3, 3, 3, 3, 3, 3, 0],\n",
      "        [3, 3, 3, 1, 3, 2, 2, 2, 0, 0, 0, 0, 0, 0],\n",
      "        [3, 3, 3, 3, 3, 3, 3, 3, 3, 3, 3, 3, 0, 0],\n",
      "        [3, 3, 3, 3, 3, 3, 3, 3, 1, 2, 2, 0, 0, 0]], device='cuda:0')\n"
     ]
    }
   ],
   "source": [
    "print(f\"labels: {labels}\")"
   ]
  },
  {
   "cell_type": "code",
   "execution_count": 6,
   "metadata": {},
   "outputs": [
    {
     "name": "stdout",
     "output_type": "stream",
     "text": [
      "length of tr_words: 7, example: ['Zaman', 'kazanmak', 'için', 'yaptığın', 'entrikalar', 'seni', 'kurtarmayacak', ',', 'eninde', 'sonunda', 'yakalayacak', 'seni', 'polis', '!']\n",
      "shape of tr_labels: torch.Size([7, 14]), example: tensor([[3, 3, 3, 3, 3, 3, 3, 3, 3, 3, 3, 3, 3, 3],\n",
      "        [3, 3, 3, 3, 3, 3, 3, 3, 3, 3, 0, 0, 0, 0],\n",
      "        [2, 3, 1, 3, 3, 0, 0, 0, 0, 0, 0, 0, 0, 0],\n",
      "        [3, 3, 3, 3, 3, 1, 2, 3, 0, 0, 0, 0, 0, 0],\n",
      "        [3, 3, 3, 3, 3, 3, 0, 0, 0, 0, 0, 0, 0, 0],\n",
      "        [3, 3, 3, 3, 3, 3, 0, 0, 0, 0, 0, 0, 0, 0],\n",
      "        [3, 3, 3, 3, 3, 3, 3, 3, 3, 3, 3, 3, 3, 0]], device='cuda:0')\n"
     ]
    }
   ],
   "source": [
    "tr_words = [words[i] for i in tr_indices.cpu().numpy()]\n",
    "tr_labels = labels[tr_indices] # 0 1 5 7 10 11 12. labellar tr dilinin labelları\n",
    "\n",
    "print(f\"length of tr_words: {len(tr_words)}, example: {tr_words[0]}\")\n",
    "print(f\"shape of tr_labels: {tr_labels.shape}, example: {tr_labels}\")"
   ]
  },
  {
   "cell_type": "code",
   "execution_count": 7,
   "metadata": {},
   "outputs": [
    {
     "name": "stdout",
     "output_type": "stream",
     "text": [
      "shape of embedded_tr: 7, example: torch.Size([14, 768])\n",
      "shape of embedded_tr: 7, example: torch.Size([10, 768])\n"
     ]
    }
   ],
   "source": [
    "# embed tr list of embeddings herbirisi 10,seq_length,768 -> [tr_batch_size, seq_length, 768]\n",
    "tr_embedded = tr_embedder.embed_sentences(tr_words)\n",
    "print(f\"shape of embedded_tr: {len(tr_embedded)}, example: {tr_embedded[0].shape}\")\n",
    "print(f\"shape of embedded_tr: {len(tr_embedded)}, example: {tr_embedded[1].shape}\")"
   ]
  },
  {
   "cell_type": "code",
   "execution_count": 8,
   "metadata": {},
   "outputs": [
    {
     "name": "stdout",
     "output_type": "stream",
     "text": [
      "shape of tr_embs: torch.Size([7, 14, 768]), example: tensor([[ 0.3040, -1.6375,  0.9913,  ...,  0.6738,  1.7467,  0.5538],\n",
      "        [-0.4647,  0.5055, -0.9381,  ...,  3.0271,  3.8738, -0.3686],\n",
      "        [ 3.6571, -1.3875, -0.9558,  ...,  1.5002,  2.6590,  1.7305],\n",
      "        ...,\n",
      "        [-2.0102, -1.6403, -0.8219,  ..., -1.0591,  1.9849, -4.5420],\n",
      "        [-0.4976, -2.3514,  1.0389,  ...,  1.2063,  2.7370, -4.2313],\n",
      "        [ 0.6042, -0.8540,  0.2265,  ..., -1.0613,  1.4576, -5.0178]],\n",
      "       device='cuda:0')\n"
     ]
    }
   ],
   "source": [
    "# tr embedded'i -1le padleyerek seq_lengthi eşitliyoruz. -> [tr_batch_size, max_seq_length, 768]\n",
    "tr_embs = pad_sequence(tr_embedded, batch_first=True, padding_value=0).to(device)\n",
    "\n",
    "# check embedding size to match the labels\n",
    "if tr_embs.size(1) < global_max:\n",
    "    # ekstra pad lazım\n",
    "    pad_size = global_max - tr_embs.size(1)\n",
    "\n",
    "    tr_embs = F.pad(tr_embs, (0, 0, 0, pad_size), \"constant\", 0)\n",
    "\n",
    "\n",
    "print(f\"shape of tr_embs: {tr_embs.shape}, example: {tr_embs[0]}\")"
   ]
  },
  {
   "cell_type": "code",
   "execution_count": 9,
   "metadata": {},
   "outputs": [
    {
     "name": "stdout",
     "output_type": "stream",
     "text": [
      "shape of it_labels: torch.Size([9, 14]), example: tensor([[1, 2, 2, 2, 3, 3, 3, 3, 3, 3, 3, 0, 0, 0],\n",
      "        [3, 3, 3, 3, 3, 3, 3, 3, 3, 0, 0, 0, 0, 0],\n",
      "        [3, 3, 3, 3, 3, 3, 3, 3, 3, 3, 3, 3, 0, 0],\n",
      "        [3, 1, 2, 2, 3, 3, 3, 3, 3, 0, 0, 0, 0, 0],\n",
      "        [3, 3, 3, 3, 3, 3, 3, 3, 3, 0, 0, 0, 0, 0],\n",
      "        [3, 3, 3, 3, 3, 3, 3, 3, 3, 3, 3, 3, 0, 0],\n",
      "        [3, 3, 3, 1, 3, 2, 2, 2, 0, 0, 0, 0, 0, 0],\n",
      "        [3, 3, 3, 3, 3, 3, 3, 3, 3, 3, 3, 3, 0, 0],\n",
      "        [3, 3, 3, 3, 3, 3, 3, 3, 1, 2, 2, 0, 0, 0]], device='cuda:0')\n",
      "shape of it_words: 9, example: ['Prendi', 'con', 'le', 'pinze', 'quello', 'che', 'non', 'è', 'detto', 'da', 'esperti']\n"
     ]
    }
   ],
   "source": [
    "it_words = [words[i] for i in it_indices.cpu().numpy()]\n",
    "it_labels = labels[it_indices]\n",
    "\n",
    "print(f\"shape of it_labels: {it_labels.shape}, example: {it_labels}\")\n",
    "print(f\"shape of it_words: {len(it_words)}, example: {it_words[0]}\")"
   ]
  },
  {
   "cell_type": "code",
   "execution_count": 10,
   "metadata": {},
   "outputs": [
    {
     "name": "stdout",
     "output_type": "stream",
     "text": [
      "shape of embedded_it: 9, example: torch.Size([11, 768])\n",
      "shape of embedded_it: 9, example: torch.Size([9, 768])\n"
     ]
    }
   ],
   "source": [
    "# embed tr list of embeddings herbirisi 10,seq_length,768 -> [tr_batch_size, seq_length, 768]\n",
    "it_embedded = it_embedder.embed_sentences(it_words)\n",
    "print(f\"shape of embedded_it: {len(it_embedded)}, example: {it_embedded[0].shape}\")\n",
    "print(f\"shape of embedded_it: {len(it_embedded)}, example: {it_embedded[1].shape}\")"
   ]
  },
  {
   "cell_type": "code",
   "execution_count": 11,
   "metadata": {},
   "outputs": [
    {
     "name": "stdout",
     "output_type": "stream",
     "text": [
      "shape of it_embs: torch.Size([9, 14, 768]), example: tensor([[ 1.9155,  0.1461, -1.2802,  ...,  0.8907,  0.8552,  0.4204],\n",
      "        [ 1.1491,  3.5726,  0.6087,  ..., -0.1244,  2.5063,  1.2722],\n",
      "        [ 0.5323, -0.2845,  0.3650,  ..., -2.2384,  2.5075,  1.3367],\n",
      "        ...,\n",
      "        [ 0.0000,  0.0000,  0.0000,  ...,  0.0000,  0.0000,  0.0000],\n",
      "        [ 0.0000,  0.0000,  0.0000,  ...,  0.0000,  0.0000,  0.0000],\n",
      "        [ 0.0000,  0.0000,  0.0000,  ...,  0.0000,  0.0000,  0.0000]],\n",
      "       device='cuda:0')\n"
     ]
    }
   ],
   "source": [
    "it_embs = pad_sequence(it_embedded, batch_first=True, padding_value=0).to(device)\n",
    "\n",
    "# check embedding size to match the labels\n",
    "if it_embs.size(1) < global_max:\n",
    "    # ekstra pad lazım\n",
    "    pad_size = global_max - it_embs.size(1)\n",
    "\n",
    "    it_embs = F.pad(it_embs, (0, 0, 0, pad_size), \"constant\", 0)\n",
    "\n",
    "print(f\"shape of it_embs: {it_embs.shape}, example: {it_embs[0]}\")"
   ]
  },
  {
   "cell_type": "code",
   "execution_count": 12,
   "metadata": {},
   "outputs": [
    {
     "name": "stdout",
     "output_type": "stream",
     "text": [
      "tr_NLL: 102.74681854248047\n",
      "it_NLL: 157.33689880371094\n",
      "loss: 260.0837097167969\n"
     ]
    }
   ],
   "source": [
    "tr_LL, _ = tr_model(tr_embs, tr_labels)\n",
    "tr_NLL = -tr_LL\n",
    "\n",
    "it_LL,_ = it_model(it_embs, it_labels)\n",
    "it_NLL = -it_LL\n",
    "\n",
    "print(f\"tr_NLL: {tr_NLL}\")\n",
    "print(f\"it_NLL: {it_NLL}\")\n",
    "loss = tr_NLL + it_NLL\n",
    "print(f\"loss: {loss}\")\n",
    "\n",
    "tr_optimizer = optim.Adam(tr_model.parameters(), lr=0.0001)\n",
    "it_optimizer = optim.Adam(it_model.parameters(), lr=0.0001)\n",
    "\n",
    "# Optimizer step\n",
    "tr_optimizer.zero_grad()\n",
    "it_optimizer.zero_grad()\n",
    "loss.backward()\n",
    "torch.nn.utils.clip_grad_norm_(tr_model.parameters(), 1)\n",
    "torch.nn.utils.clip_grad_norm_(it_model.parameters(), 1)\n",
    "tr_optimizer.step()\n",
    "it_optimizer.step()\n"
   ]
  },
  {
   "cell_type": "code",
   "execution_count": 13,
   "metadata": {},
   "outputs": [
    {
     "name": "stdout",
     "output_type": "stream",
     "text": [
      "tr_decode: [[0, 1, 0, 0, 3, 3, 0, 0, 0, 1, 0, 2, 3, 2, 3, 2, 3, 3], [0, 0, 0, 0, 1, 0, 3, 2, 2, 2, 2, 3, 2, 3, 2, 3, 2, 0], [1, 3, 2, 0, 2, 0, 0, 3, 0, 2, 2, 3, 1, 2, 3, 0, 0, 0], [2, 2, 0, 3, 2, 3, 0, 1, 1, 0, 3, 1, 0, 0, 0, 0, 1, 0], [1, 0, 3, 0, 3, 2, 2, 3, 2, 0, 3, 3, 2, 0, 0, 1, 1, 2], [0, 3, 0, 3, 0, 0, 0, 0, 1, 2, 3, 1, 3, 2, 3, 0, 3, 0], [3, 0, 2, 0, 0, 0, 3, 3, 2, 3, 1, 1, 2, 2, 3, 0, 0, 3], [1, 1, 0, 1, 0, 1, 3, 3, 0, 2, 3, 0, 0, 1, 0, 2, 0, 2], [2, 2, 0, 3, 0, 0, 3, 0, 3, 2, 0, 3, 0, 3, 2, 3, 2, 0], [3, 0, 0, 0, 3, 2, 2, 3, 2, 3, 3, 0, 3, 2, 3, 2, 0, 0], [3, 1, 3, 2, 2, 3, 2, 1, 3, 0, 3, 0, 0, 1, 3, 0, 3, 2], [0, 0, 1, 3, 3, 2, 2, 1, 1, 0, 3, 0, 0, 2, 3, 0, 1, 1], [3, 3, 2, 3, 0, 3, 2, 0, 2, 0, 0, 0, 0, 1, 2, 3, 3, 3], [0, 0, 1, 2, 2, 1, 0, 2, 3, 0, 0, 3, 0, 3, 0, 1, 3, 3], [0, 2, 3, 0, 3, 3, 0, 2, 3, 0, 2, 0, 0, 0, 3, 3, 2, 0], [2, 0, 0, 3, 2, 2, 3, 1, 3, 2, 3, 3, 0, 0, 0, 3, 3, 0]]\n",
      "Token‐seviye accuracy: 0.3403\n",
      "Sentence‐seviye accuracy: 0.0000\n"
     ]
    }
   ],
   "source": [
    "# get one batch from dev set\n",
    "eval_data = next(iter(dev_dataloader))\n",
    "words, labels, langs = eval_data\n",
    "\n",
    "# tr ve it nin indexlerini ayıkla\n",
    "tr_indices = (langs == 0).nonzero(as_tuple=True)[0]\n",
    "it_indices = (langs == 1).nonzero(as_tuple=True)[0]\n",
    "\n",
    "batch_size, seq_len = labels.shape\n",
    "device = labels.device\n",
    "global_max = seq_len\n",
    "\n",
    "hidden_size = tr_embedder.bert_model.config.hidden_size\n",
    "\n",
    "# TR cümleleri ayıkla, embeddle ve petle\n",
    "tr_words  = [words[i] for i in tr_indices.cpu().numpy()]\n",
    "tr_labels = labels[tr_indices]\n",
    "# türkçe cümle gelmiş mi kontrolü\n",
    "if len(tr_words) > 0:\n",
    "    tr_embedded = tr_embedder.embed_sentences(tr_words)\n",
    "    tr_embs     = pad_sequence(tr_embedded, batch_first=True, padding_value=0).to(device)\n",
    "    if tr_embs.size(1) < global_max:\n",
    "        # ekstra pad lazım\n",
    "        pad_size = global_max - tr_embs.size(1)\n",
    "        tr_embs  = F.pad(tr_embs, (0, 0, 0, pad_size), \"constant\", 0)\n",
    "else:\n",
    "    # hiç TR cümlesi yoksa boş batch oluştur\n",
    "    tr_embs = torch.zeros((0, global_max, hidden_size), device=device)\n",
    "\n",
    "# IT cümleleri ayıkla, embeddle ve petle\n",
    "it_words    = [words[i] for i in it_indices.cpu().numpy()]\n",
    "it_labels   = labels[it_indices]\n",
    "if len(it_words) > 0:\n",
    "    it_embedded = it_embedder.embed_sentences(it_words)\n",
    "    it_embs     = pad_sequence(it_embedded, batch_first=True, padding_value=0).to(device)\n",
    "    if it_embs.size(1) < global_max:\n",
    "        # ekstra pad lazım\n",
    "        pad_size = global_max - it_embs.size(1)\n",
    "        it_embs  = F.pad(it_embs, (0, 0, 0, pad_size), \"constant\", 0)\n",
    "else:\n",
    "    # hiç IT cümlesi yoksa boş batch oluştur\n",
    "    it_embs = torch.zeros((0, global_max, hidden_size), device=device)\n",
    "\n",
    "# take predictions\n",
    "tr_decode = tr_model(tr_embs, None)\n",
    "print(f\"tr_decode: {tr_decode}\")\n",
    "it_decode = it_model(it_embs, None)\n",
    "\n",
    "# alt kısım GPT bakmak lazım \n",
    "\n",
    "def decode_to_tensor(decode_out, seq_len, device):\n",
    "    # 1) list of lists → list of 1D tensors\n",
    "    token_tensors = [torch.tensor(seq, dtype=torch.long, device=device)\n",
    "                     for seq in decode_out]\n",
    "    # 2) hiç prediction yoksa boş tensor\n",
    "    if not token_tensors:\n",
    "        return torch.zeros((0, seq_len), dtype=torch.long, device=device)\n",
    "    # 3) pad_sequence ile batch_first ve padding_value=-1\n",
    "    padded = pad_sequence(token_tensors, batch_first=True, padding_value=-1)\n",
    "    # 4) eğer hâlâ seq_len’den kısa ise sağa pad et\n",
    "    if padded.size(1) < seq_len:\n",
    "        pad_amt = seq_len - padded.size(1)\n",
    "        padded = F.pad(padded, (0, pad_amt), value=-1)\n",
    "    return padded\n",
    "\n",
    "# kullanım:\n",
    "tr_pred = decode_to_tensor(tr_decode, seq_len, device)\n",
    "it_pred = decode_to_tensor(it_decode, seq_len, device)\n",
    "\n",
    "\n",
    "# list of lists → tensor’a çevir\n",
    "if len(tr_decode) > 0:\n",
    "    tr_pred = torch.full((len(tr_decode), seq_len),\n",
    "                         fill_value=-1, dtype=torch.long, device=device)\n",
    "    for i, seq in enumerate(tr_decode):\n",
    "        tr_pred[i, :len(seq)] = torch.tensor(seq, device=device)\n",
    "else:\n",
    "    tr_pred = torch.zeros((0, seq_len), dtype=torch.long, device=device)\n",
    "\n",
    "if len(it_decode) > 0:\n",
    "    it_pred = torch.full((len(it_decode), seq_len),\n",
    "                         fill_value=-1, dtype=torch.long, device=device)\n",
    "    for i, seq in enumerate(it_decode):\n",
    "        it_pred[i, :len(seq)] = torch.tensor(seq, device=device)\n",
    "else:\n",
    "    it_pred = torch.zeros((0, seq_len), dtype=torch.long, device=device)\n",
    "\n",
    "# 1) Tam batch için pred tensor’ü oluştur\n",
    "all_pred = torch.full(\n",
    "    (batch_size, seq_len),\n",
    "    fill_value=-1,                # pad bölgelerde -1 kalsın\n",
    "    dtype=torch.long,\n",
    "    device=device\n",
    ")\n",
    "\n",
    "# 2) TR ve IT tahminlerini ilgili index’lere yerleştir\n",
    "all_pred[tr_indices] = tr_pred\n",
    "all_pred[it_indices] = it_pred\n",
    "\n",
    "# 3) Sadece gerçek token’lar üzerinde doğru/yanlış kontrolü\n",
    "valid_mask   = labels.ne(-1)        # True olan yerler gerçek token\n",
    "correct_mask = (all_pred == labels) & valid_mask\n",
    "\n",
    "# 4) İsterseniz token‐seviye accuracy\n",
    "token_accuracy = correct_mask.sum().float() / valid_mask.sum().float()\n",
    "print(f\"Token‐seviye accuracy: {token_accuracy:.4f}\")\n",
    "\n",
    "# 5) Veya örnek‐seviye (sentence‐seviye) doğru karar:\n",
    "#    her cümlenin tüm token’ları doğru mu?\n",
    "sent_correct     = correct_mask.all(dim=1) & valid_mask.any(dim=1)\n",
    "# valid_mask.any(dim=1) ile “tamamen pad’li” örnekleri atlıyoruz\n",
    "sentence_accuracy = sent_correct.sum().float() / sent_correct.numel()\n",
    "print(f\"Sentence‐seviye accuracy: {sentence_accuracy:.4f}\")\n",
    "\n",
    "# all_pred şimdi (batch_size, seq_len) shape’inde, \n",
    "# her satır orijinal sırasıyla tahminleri içeriyor.\n"
   ]
  },
  {
   "cell_type": "code",
   "execution_count": 14,
   "metadata": {},
   "outputs": [
    {
     "name": "stdout",
     "output_type": "stream",
     "text": [
      "\n",
      "Training...\n",
      " Epoch 001, patience: 20\n"
     ]
    },
    {
     "name": "stderr",
     "output_type": "stream",
     "text": [
      "Epoch 1: 100%|██████████| 720/720 [01:23<00:00,  8.63it/s]\n"
     ]
    },
    {
     "name": "stdout",
     "output_type": "stream",
     "text": [
      "[E:01] train tr_loss=30090.9453, it_loss=68.5010, total=30159.4473\n"
     ]
    },
    {
     "name": "stderr",
     "output_type": "stream",
     "text": [
      "Evaluating: 100%|██████████| 90/90 [00:05<00:00, 17.96it/s]\n"
     ]
    },
    {
     "name": "stdout",
     "output_type": "stream",
     "text": [
      "\n",
      "\n",
      "Full Accuracy: 0.8511, Full F1: 0.3065\n",
      "              precision    recall  f1-score   support\n",
      "\n",
      "           1     0.0000    0.0000    0.0000       319\n",
      "           2     0.0000    0.0000    0.0000       319\n",
      "           3     0.8849    1.0000    0.9389      4905\n",
      "\n",
      "    accuracy                         0.8849      5543\n",
      "   macro avg     0.2950    0.3333    0.3130      5543\n",
      "weighted avg     0.7830    0.8849    0.8309      5543\n",
      "\n",
      "\n",
      "\n",
      "TR Accuracy: 0.8849, TR F1: 0.3130\n",
      "              precision    recall  f1-score   support\n",
      "\n",
      "           1     0.0000    0.0000    0.0000       763\n",
      "           2     0.0000    0.0000    0.0000      1303\n",
      "           3     0.8511    1.0000    0.9196     11808\n",
      "\n",
      "    accuracy                         0.8511     13874\n",
      "   macro avg     0.2837    0.3333    0.3065     13874\n",
      "weighted avg     0.7244    0.8511    0.7826     13874\n",
      "\n",
      "\n",
      "\n",
      "IT Accuracy: 0.8286, IT F1: 0.3021\n",
      "              precision    recall  f1-score   support\n",
      "\n",
      "           1     0.0000    0.0000    0.0000       444\n",
      "           2     0.0000    0.0000    0.0000       984\n",
      "           3     0.8286    1.0000    0.9063      6903\n",
      "\n",
      "    accuracy                         0.8286      8331\n",
      "   macro avg     0.2762    0.3333    0.3021      8331\n",
      "weighted avg     0.6866    0.8286    0.7509      8331\n",
      "\n",
      "\n",
      "\n",
      " Epoch 002, patience: 20\n"
     ]
    },
    {
     "name": "stderr",
     "output_type": "stream",
     "text": [
      "Epoch 2: 100%|██████████| 720/720 [01:28<00:00,  8.12it/s]\n"
     ]
    },
    {
     "name": "stdout",
     "output_type": "stream",
     "text": [
      "[E:02] train tr_loss=10634.9053, it_loss=55.8368, total=10690.7422\n"
     ]
    },
    {
     "name": "stderr",
     "output_type": "stream",
     "text": [
      "Evaluating: 100%|██████████| 90/90 [00:05<00:00, 17.05it/s]\n"
     ]
    },
    {
     "name": "stdout",
     "output_type": "stream",
     "text": [
      "\n",
      "\n",
      "Full Accuracy: 0.8511, Full F1: 0.3065\n",
      "              precision    recall  f1-score   support\n",
      "\n",
      "           1     0.0000    0.0000    0.0000       319\n",
      "           2     0.0000    0.0000    0.0000       319\n",
      "           3     0.8849    1.0000    0.9389      4905\n",
      "\n",
      "    accuracy                         0.8849      5543\n",
      "   macro avg     0.2950    0.3333    0.3130      5543\n",
      "weighted avg     0.7830    0.8849    0.8309      5543\n",
      "\n",
      "\n",
      "\n",
      "TR Accuracy: 0.8849, TR F1: 0.3130\n",
      "              precision    recall  f1-score   support\n",
      "\n",
      "           1     0.0000    0.0000    0.0000       763\n",
      "           2     0.0000    0.0000    0.0000      1303\n",
      "           3     0.8511    1.0000    0.9196     11808\n",
      "\n",
      "    accuracy                         0.8511     13874\n",
      "   macro avg     0.2837    0.3333    0.3065     13874\n",
      "weighted avg     0.7244    0.8511    0.7826     13874\n",
      "\n",
      "\n",
      "\n",
      "IT Accuracy: 0.8286, IT F1: 0.3021\n",
      "              precision    recall  f1-score   support\n",
      "\n",
      "           1     0.0000    0.0000    0.0000       444\n",
      "           2     0.0000    0.0000    0.0000       984\n",
      "           3     0.8286    1.0000    0.9063      6903\n",
      "\n",
      "    accuracy                         0.8286      8331\n",
      "   macro avg     0.2762    0.3333    0.3021      8331\n",
      "weighted avg     0.6866    0.8286    0.7509      8331\n",
      "\n",
      "\n",
      "\n",
      " Epoch 003, patience: 19\n"
     ]
    },
    {
     "name": "stderr",
     "output_type": "stream",
     "text": [
      "Epoch 3: 100%|██████████| 720/720 [01:25<00:00,  8.38it/s]\n"
     ]
    },
    {
     "name": "stdout",
     "output_type": "stream",
     "text": [
      "[E:03] train tr_loss=6899.6147, it_loss=53.0221, total=6952.6367\n"
     ]
    },
    {
     "name": "stderr",
     "output_type": "stream",
     "text": [
      "Evaluating: 100%|██████████| 90/90 [00:05<00:00, 17.18it/s]\n"
     ]
    },
    {
     "name": "stdout",
     "output_type": "stream",
     "text": [
      "\n",
      "\n",
      "Full Accuracy: 0.8511, Full F1: 0.3065\n",
      "              precision    recall  f1-score   support\n",
      "\n",
      "           1     0.0000    0.0000    0.0000       319\n",
      "           2     0.0000    0.0000    0.0000       319\n",
      "           3     0.8849    1.0000    0.9389      4905\n",
      "\n",
      "    accuracy                         0.8849      5543\n",
      "   macro avg     0.2950    0.3333    0.3130      5543\n",
      "weighted avg     0.7830    0.8849    0.8309      5543\n",
      "\n",
      "\n",
      "\n",
      "TR Accuracy: 0.8849, TR F1: 0.3130\n",
      "              precision    recall  f1-score   support\n",
      "\n",
      "           1     0.0000    0.0000    0.0000       763\n",
      "           2     0.0000    0.0000    0.0000      1303\n",
      "           3     0.8511    1.0000    0.9196     11808\n",
      "\n",
      "    accuracy                         0.8511     13874\n",
      "   macro avg     0.2837    0.3333    0.3065     13874\n",
      "weighted avg     0.7244    0.8511    0.7826     13874\n",
      "\n",
      "\n",
      "\n",
      "IT Accuracy: 0.8286, IT F1: 0.3021\n",
      "              precision    recall  f1-score   support\n",
      "\n",
      "           1     0.0000    0.0000    0.0000       444\n",
      "           2     0.0000    0.0000    0.0000       984\n",
      "           3     0.8286    1.0000    0.9063      6903\n",
      "\n",
      "    accuracy                         0.8286      8331\n",
      "   macro avg     0.2762    0.3333    0.3021      8331\n",
      "weighted avg     0.6866    0.8286    0.7509      8331\n",
      "\n",
      "\n",
      "\n",
      " Epoch 004, patience: 18\n"
     ]
    },
    {
     "name": "stderr",
     "output_type": "stream",
     "text": [
      "Epoch 4: 100%|██████████| 720/720 [01:29<00:00,  8.04it/s]\n"
     ]
    },
    {
     "name": "stdout",
     "output_type": "stream",
     "text": [
      "[E:04] train tr_loss=5022.7036, it_loss=49.0228, total=5071.7266\n"
     ]
    },
    {
     "name": "stderr",
     "output_type": "stream",
     "text": [
      "Evaluating: 100%|██████████| 90/90 [00:05<00:00, 15.94it/s]\n"
     ]
    },
    {
     "name": "stdout",
     "output_type": "stream",
     "text": [
      "\n",
      "\n",
      "Full Accuracy: 0.8523, Full F1: 0.3197\n",
      "              precision    recall  f1-score   support\n",
      "\n",
      "           1     0.0000    0.0000    0.0000       319\n",
      "           2     0.0000    0.0000    0.0000       319\n",
      "           3     0.8849    1.0000    0.9389      4905\n",
      "\n",
      "    accuracy                         0.8849      5543\n",
      "   macro avg     0.2950    0.3333    0.3130      5543\n",
      "weighted avg     0.7830    0.8849    0.8309      5543\n",
      "\n",
      "\n",
      "\n",
      "TR Accuracy: 0.8849, TR F1: 0.3130\n",
      "              precision    recall  f1-score   support\n",
      "\n",
      "           1     0.0000    0.0000    0.0000       763\n",
      "           2     0.7429    0.0200    0.0389      1303\n",
      "           3     0.8526    0.9992    0.9201     11808\n",
      "\n",
      "    accuracy                         0.8523     13874\n",
      "   macro avg     0.5318    0.3397    0.3197     13874\n",
      "weighted avg     0.7954    0.8523    0.7867     13874\n",
      "\n",
      "\n",
      "\n",
      "IT Accuracy: 0.8306, IT F1: 0.3194\n",
      "              precision    recall  f1-score   support\n",
      "\n",
      "           1     0.0000    0.0000    0.0000       444\n",
      "           2     0.7429    0.0264    0.0510       984\n",
      "           3     0.8310    0.9987    0.9072      6903\n",
      "\n",
      "    accuracy                         0.8306      8331\n",
      "   macro avg     0.5246    0.3417    0.3194      8331\n",
      "weighted avg     0.7763    0.8306    0.7577      8331\n",
      "\n",
      "\n",
      "\n",
      " Epoch 005, patience: 20\n"
     ]
    },
    {
     "name": "stderr",
     "output_type": "stream",
     "text": [
      "Epoch 5: 100%|██████████| 720/720 [01:25<00:00,  8.46it/s]\n"
     ]
    },
    {
     "name": "stdout",
     "output_type": "stream",
     "text": [
      "[E:05] train tr_loss=3851.9333, it_loss=44.6410, total=3896.5745\n"
     ]
    },
    {
     "name": "stderr",
     "output_type": "stream",
     "text": [
      "Evaluating: 100%|██████████| 90/90 [00:05<00:00, 17.71it/s]\n"
     ]
    },
    {
     "name": "stdout",
     "output_type": "stream",
     "text": [
      "\n",
      "\n",
      "Full Accuracy: 0.8601, Full F1: 0.4704\n",
      "              precision    recall  f1-score   support\n",
      "\n",
      "           1     0.0000    0.0000    0.0000       319\n",
      "           2     0.0000    0.0000    0.0000       319\n",
      "           3     0.8849    1.0000    0.9389      4905\n",
      "\n",
      "    accuracy                         0.8849      5543\n",
      "   macro avg     0.2950    0.3333    0.3130      5543\n",
      "weighted avg     0.7830    0.8849    0.8309      5543\n",
      "\n",
      "\n",
      "\n",
      "TR Accuracy: 0.8849, TR F1: 0.3130\n",
      "              precision    recall  f1-score   support\n",
      "\n",
      "           1     0.0000    0.0000    0.0000       763\n",
      "           2     0.5556    0.4375    0.4895      1303\n",
      "           3     0.8844    0.9623    0.9217     11808\n",
      "\n",
      "    accuracy                         0.8601     13874\n",
      "   macro avg     0.4800    0.4666    0.4704     13874\n",
      "weighted avg     0.8049    0.8601    0.8304     13874\n",
      "\n",
      "\n",
      "\n",
      "IT Accuracy: 0.8436, IT F1: 0.4921\n",
      "              precision    recall  f1-score   support\n",
      "\n",
      "           1     0.0000    0.0000    0.0000       444\n",
      "           2     0.5556    0.5793    0.5672       984\n",
      "           3     0.8841    0.9355    0.9091      6903\n",
      "\n",
      "    accuracy                         0.8436      8331\n",
      "   macro avg     0.4799    0.5049    0.4921      8331\n",
      "weighted avg     0.7981    0.8436    0.8202      8331\n",
      "\n",
      "\n",
      "\n",
      " Epoch 006, patience: 20\n"
     ]
    },
    {
     "name": "stderr",
     "output_type": "stream",
     "text": [
      "Epoch 6: 100%|██████████| 720/720 [01:25<00:00,  8.47it/s]\n"
     ]
    },
    {
     "name": "stdout",
     "output_type": "stream",
     "text": [
      "[E:06] train tr_loss=3040.8682, it_loss=41.2140, total=3082.0820\n"
     ]
    },
    {
     "name": "stderr",
     "output_type": "stream",
     "text": [
      "Evaluating: 100%|██████████| 90/90 [00:05<00:00, 17.90it/s]\n"
     ]
    },
    {
     "name": "stdout",
     "output_type": "stream",
     "text": [
      "\n",
      "\n",
      "Full Accuracy: 0.8600, Full F1: 0.4957\n",
      "              precision    recall  f1-score   support\n",
      "\n",
      "           1     0.0000    0.0000    0.0000       319\n",
      "           2     0.0000    0.0000    0.0000       319\n",
      "           3     0.8849    1.0000    0.9389      4905\n",
      "\n",
      "    accuracy                         0.8849      5543\n",
      "   macro avg     0.2950    0.3333    0.3130      5543\n",
      "weighted avg     0.7830    0.8849    0.8309      5543\n",
      "\n",
      "\n",
      "\n",
      "TR Accuracy: 0.8849, TR F1: 0.3130\n",
      "              precision    recall  f1-score   support\n",
      "\n",
      "           1     0.0000    0.0000    0.0000       763\n",
      "           2     0.5355    0.6017    0.5667      1303\n",
      "           3     0.8982    0.9440    0.9206     11808\n",
      "\n",
      "    accuracy                         0.8600     13874\n",
      "   macro avg     0.4779    0.5152    0.4957     13874\n",
      "weighted avg     0.8148    0.8600    0.8367     13874\n",
      "\n",
      "\n",
      "\n",
      "IT Accuracy: 0.8434, IT F1: 0.5157\n",
      "              precision    recall  f1-score   support\n",
      "\n",
      "           1     0.0000    0.0000    0.0000       444\n",
      "           2     0.5355    0.7967    0.6405       984\n",
      "           3     0.9090    0.9042    0.9066      6903\n",
      "\n",
      "    accuracy                         0.8434      8331\n",
      "   macro avg     0.4815    0.5670    0.5157      8331\n",
      "weighted avg     0.8164    0.8434    0.8269      8331\n",
      "\n",
      "\n",
      "\n",
      " Epoch 007, patience: 20\n"
     ]
    },
    {
     "name": "stderr",
     "output_type": "stream",
     "text": [
      "Epoch 7: 100%|██████████| 720/720 [01:27<00:00,  8.22it/s]\n"
     ]
    },
    {
     "name": "stdout",
     "output_type": "stream",
     "text": [
      "[E:07] train tr_loss=2438.9250, it_loss=38.3698, total=2477.2949\n"
     ]
    },
    {
     "name": "stderr",
     "output_type": "stream",
     "text": [
      "Evaluating: 100%|██████████| 90/90 [00:06<00:00, 13.55it/s]\n"
     ]
    },
    {
     "name": "stdout",
     "output_type": "stream",
     "text": [
      "\n",
      "\n",
      "Full Accuracy: 0.8632, Full F1: 0.5546\n",
      "              precision    recall  f1-score   support\n",
      "\n",
      "           1     0.5738    0.1097    0.1842       319\n",
      "           2     0.7333    0.0345    0.0659       319\n",
      "           3     0.8941    0.9965    0.9425      4905\n",
      "\n",
      "    accuracy                         0.8901      5543\n",
      "   macro avg     0.7337    0.3802    0.3975      5543\n",
      "weighted avg     0.8664    0.8901    0.8484      5543\n",
      "\n",
      "\n",
      "\n",
      "TR Accuracy: 0.8901, TR F1: 0.3975\n",
      "              precision    recall  f1-score   support\n",
      "\n",
      "           1     0.6667    0.0865    0.1531       763\n",
      "           2     0.5305    0.6608    0.5885      1303\n",
      "           3     0.9092    0.9357    0.9223     11808\n",
      "\n",
      "    accuracy                         0.8632     13874\n",
      "   macro avg     0.7021    0.5610    0.5546     13874\n",
      "weighted avg     0.8603    0.8632    0.8486     13874\n",
      "\n",
      "\n",
      "\n",
      "IT Accuracy: 0.8453, IT F1: 0.5638\n",
      "              precision    recall  f1-score   support\n",
      "\n",
      "           1     0.8158    0.0698    0.1286       444\n",
      "           2     0.5286    0.8638    0.6559       984\n",
      "           3     0.9216    0.8925    0.9068      6903\n",
      "\n",
      "    accuracy                         0.8453      8331\n",
      "   macro avg     0.7553    0.6087    0.5638      8331\n",
      "weighted avg     0.8696    0.8453    0.8357      8331\n",
      "\n",
      "\n",
      "\n",
      " Epoch 008, patience: 20\n"
     ]
    },
    {
     "name": "stderr",
     "output_type": "stream",
     "text": [
      "Epoch 8: 100%|██████████| 720/720 [01:25<00:00,  8.45it/s]\n"
     ]
    },
    {
     "name": "stdout",
     "output_type": "stream",
     "text": [
      "[E:08] train tr_loss=2012.9678, it_loss=35.9340, total=2048.9019\n"
     ]
    },
    {
     "name": "stderr",
     "output_type": "stream",
     "text": [
      "Evaluating: 100%|██████████| 90/90 [00:05<00:00, 15.34it/s]\n"
     ]
    },
    {
     "name": "stdout",
     "output_type": "stream",
     "text": [
      "\n",
      "\n",
      "Full Accuracy: 0.8753, Full F1: 0.6914\n",
      "              precision    recall  f1-score   support\n",
      "\n",
      "           1     0.5546    0.3981    0.4635       319\n",
      "           2     0.6979    0.2100    0.3229       319\n",
      "           3     0.9216    0.9804    0.9501      4905\n",
      "\n",
      "    accuracy                         0.9026      5543\n",
      "   macro avg     0.7247    0.5295    0.5788      5543\n",
      "weighted avg     0.8876    0.9026    0.8860      5543\n",
      "\n",
      "\n",
      "\n",
      "TR Accuracy: 0.9026, TR F1: 0.5788\n",
      "              precision    recall  f1-score   support\n",
      "\n",
      "           1     0.5977    0.4692    0.5257       763\n",
      "           2     0.5480    0.7137    0.6200      1303\n",
      "           3     0.9376    0.9194    0.9284     11808\n",
      "\n",
      "    accuracy                         0.8753     13874\n",
      "   macro avg     0.6944    0.7008    0.6914     13874\n",
      "weighted avg     0.8824    0.8753    0.8773     13874\n",
      "\n",
      "\n",
      "\n",
      "IT Accuracy: 0.8572, IT F1: 0.7157\n",
      "              precision    recall  f1-score   support\n",
      "\n",
      "           1     0.6243    0.5203    0.5676       444\n",
      "           2     0.5390    0.8770    0.6677       984\n",
      "           3     0.9508    0.8760    0.9119      6903\n",
      "\n",
      "    accuracy                         0.8572      8331\n",
      "   macro avg     0.7047    0.7578    0.7157      8331\n",
      "weighted avg     0.8848    0.8572    0.8647      8331\n",
      "\n",
      "\n",
      "\n",
      " Epoch 009, patience: 20\n"
     ]
    },
    {
     "name": "stderr",
     "output_type": "stream",
     "text": [
      "Epoch 9: 100%|██████████| 720/720 [01:29<00:00,  8.02it/s]\n"
     ]
    },
    {
     "name": "stdout",
     "output_type": "stream",
     "text": [
      "[E:09] train tr_loss=1691.7306, it_loss=33.9286, total=1725.6592\n"
     ]
    },
    {
     "name": "stderr",
     "output_type": "stream",
     "text": [
      "Evaluating: 100%|██████████| 90/90 [00:05<00:00, 17.70it/s]\n"
     ]
    },
    {
     "name": "stdout",
     "output_type": "stream",
     "text": [
      "\n",
      "\n",
      "Full Accuracy: 0.8835, Full F1: 0.7238\n",
      "              precision    recall  f1-score   support\n",
      "\n",
      "           1     0.5460    0.5580    0.5519       319\n",
      "           2     0.6384    0.3542    0.4556       319\n",
      "           3     0.9401    0.9660    0.9528      4905\n",
      "\n",
      "    accuracy                         0.9073      5543\n",
      "   macro avg     0.7082    0.6261    0.6535      5543\n",
      "weighted avg     0.9000    0.9073    0.9012      5543\n",
      "\n",
      "\n",
      "\n",
      "TR Accuracy: 0.9073, TR F1: 0.6535\n",
      "              precision    recall  f1-score   support\n",
      "\n",
      "           1     0.5748    0.6042    0.5891       763\n",
      "           2     0.5813    0.7352    0.6493      1303\n",
      "           3     0.9488    0.9179    0.9331     11808\n",
      "\n",
      "    accuracy                         0.8835     13874\n",
      "   macro avg     0.7016    0.7525    0.7238     13874\n",
      "weighted avg     0.8937    0.8835    0.8875     13874\n",
      "\n",
      "\n",
      "\n",
      "IT Accuracy: 0.8677, IT F1: 0.7406\n",
      "              precision    recall  f1-score   support\n",
      "\n",
      "           1     0.5945    0.6374    0.6152       444\n",
      "           2     0.5744    0.8587    0.6884       984\n",
      "           3     0.9557    0.8838    0.9183      6903\n",
      "\n",
      "    accuracy                         0.8677      8331\n",
      "   macro avg     0.7082    0.7933    0.7406      8331\n",
      "weighted avg     0.8914    0.8677    0.8750      8331\n",
      "\n",
      "\n",
      "\n",
      " Epoch 010, patience: 20\n"
     ]
    },
    {
     "name": "stderr",
     "output_type": "stream",
     "text": [
      "Epoch 10: 100%|██████████| 720/720 [01:27<00:00,  8.20it/s]\n"
     ]
    },
    {
     "name": "stdout",
     "output_type": "stream",
     "text": [
      "[E:10] train tr_loss=1464.2998, it_loss=32.4128, total=1496.7126\n"
     ]
    },
    {
     "name": "stderr",
     "output_type": "stream",
     "text": [
      "Evaluating: 100%|██████████| 90/90 [00:05<00:00, 15.69it/s]\n"
     ]
    },
    {
     "name": "stdout",
     "output_type": "stream",
     "text": [
      "\n",
      "\n",
      "Full Accuracy: 0.8889, Full F1: 0.7452\n",
      "              precision    recall  f1-score   support\n",
      "\n",
      "           1     0.5622    0.6520    0.6038       319\n",
      "           2     0.6627    0.5172    0.5810       319\n",
      "           3     0.9541    0.9578    0.9559      4905\n",
      "\n",
      "    accuracy                         0.9148      5543\n",
      "   macro avg     0.7263    0.7090    0.7136      5543\n",
      "weighted avg     0.9148    0.9148    0.9141      5543\n",
      "\n",
      "\n",
      "\n",
      "TR Accuracy: 0.9148, TR F1: 0.7136\n",
      "              precision    recall  f1-score   support\n",
      "\n",
      "           1     0.5786    0.6802    0.6253       763\n",
      "           2     0.5968    0.7759    0.6747      1303\n",
      "           3     0.9575    0.9149    0.9357     11808\n",
      "\n",
      "    accuracy                         0.8889     13874\n",
      "   macro avg     0.7110    0.7903    0.7452     13874\n",
      "weighted avg     0.9028    0.8889    0.8941     13874\n",
      "\n",
      "\n",
      "\n",
      "IT Accuracy: 0.8717, IT F1: 0.7526\n",
      "              precision    recall  f1-score   support\n",
      "\n",
      "           1     0.5901    0.7005    0.6406       444\n",
      "           2     0.5855    0.8598    0.6966       984\n",
      "           3     0.9601    0.8844    0.9207      6903\n",
      "\n",
      "    accuracy                         0.8717      8331\n",
      "   macro avg     0.7119    0.8149    0.7526      8331\n",
      "weighted avg     0.8961    0.8717    0.8793      8331\n",
      "\n",
      "\n",
      "\n",
      " Epoch 011, patience: 20\n"
     ]
    },
    {
     "name": "stderr",
     "output_type": "stream",
     "text": [
      "Epoch 11: 100%|██████████| 720/720 [01:28<00:00,  8.09it/s]\n"
     ]
    },
    {
     "name": "stdout",
     "output_type": "stream",
     "text": [
      "[E:11] train tr_loss=1275.2549, it_loss=30.9303, total=1306.1852\n"
     ]
    },
    {
     "name": "stderr",
     "output_type": "stream",
     "text": [
      "Evaluating: 100%|██████████| 90/90 [00:05<00:00, 16.81it/s]\n"
     ]
    },
    {
     "name": "stdout",
     "output_type": "stream",
     "text": [
      "\n",
      "\n",
      "Full Accuracy: 0.8952, Full F1: 0.7667\n",
      "              precision    recall  f1-score   support\n",
      "\n",
      "           1     0.6067    0.7398    0.6667       319\n",
      "           2     0.6613    0.6426    0.6518       319\n",
      "           3     0.9649    0.9529    0.9589      4905\n",
      "\n",
      "    accuracy                         0.9228      5543\n",
      "   macro avg     0.7443    0.7785    0.7591      5543\n",
      "weighted avg     0.9268    0.9228    0.9244      5543\n",
      "\n",
      "\n",
      "\n",
      "TR Accuracy: 0.9228, TR F1: 0.7591\n",
      "              precision    recall  f1-score   support\n",
      "\n",
      "           1     0.6054    0.7379    0.6651       763\n",
      "           2     0.6079    0.8150    0.6964      1303\n",
      "           3     0.9641    0.9142    0.9385     11808\n",
      "\n",
      "    accuracy                         0.8952     13874\n",
      "   macro avg     0.7258    0.8224    0.7667     13874\n",
      "weighted avg     0.9109    0.8952    0.9007     13874\n",
      "\n",
      "\n",
      "\n",
      "IT Accuracy: 0.8768, IT F1: 0.7651\n",
      "              precision    recall  f1-score   support\n",
      "\n",
      "           1     0.6044    0.7365    0.6640       444\n",
      "           2     0.5964    0.8709    0.7080       984\n",
      "           3     0.9635    0.8867    0.9235      6903\n",
      "\n",
      "    accuracy                         0.8768      8331\n",
      "   macro avg     0.7214    0.8314    0.7651      8331\n",
      "weighted avg     0.9010    0.8768    0.8842      8331\n",
      "\n",
      "\n",
      "\n",
      " Epoch 012, patience: 20\n"
     ]
    },
    {
     "name": "stderr",
     "output_type": "stream",
     "text": [
      "Epoch 12: 100%|██████████| 720/720 [01:32<00:00,  7.83it/s]\n"
     ]
    },
    {
     "name": "stdout",
     "output_type": "stream",
     "text": [
      "[E:12] train tr_loss=1104.3186, it_loss=29.7560, total=1134.0746\n"
     ]
    },
    {
     "name": "stderr",
     "output_type": "stream",
     "text": [
      "Evaluating: 100%|██████████| 90/90 [00:06<00:00, 14.97it/s]\n"
     ]
    },
    {
     "name": "stdout",
     "output_type": "stream",
     "text": [
      "\n",
      "\n",
      "Full Accuracy: 0.8977, Full F1: 0.7764\n",
      "              precision    recall  f1-score   support\n",
      "\n",
      "           1     0.6052    0.8025    0.6900       319\n",
      "           2     0.6297    0.7304    0.6763       319\n",
      "           3     0.9728    0.9421    0.9572      4905\n",
      "\n",
      "    accuracy                         0.9219      5543\n",
      "   macro avg     0.7359    0.8250    0.7745      5543\n",
      "weighted avg     0.9319    0.9219    0.9257      5543\n",
      "\n",
      "\n",
      "\n",
      "TR Accuracy: 0.9219, TR F1: 0.7745\n",
      "              precision    recall  f1-score   support\n",
      "\n",
      "           1     0.6010    0.7837    0.6803       763\n",
      "           2     0.6189    0.8312    0.7095      1303\n",
      "           3     0.9681    0.9124    0.9394     11808\n",
      "\n",
      "    accuracy                         0.8977     13874\n",
      "   macro avg     0.7293    0.8424    0.7764     13874\n",
      "weighted avg     0.9151    0.8977    0.9036     13874\n",
      "\n",
      "\n",
      "\n",
      "IT Accuracy: 0.8816, IT F1: 0.7730\n",
      "              precision    recall  f1-score   support\n",
      "\n",
      "           1     0.5979    0.7703    0.6732       444\n",
      "           2     0.6159    0.8638    0.7191       984\n",
      "           3     0.9646    0.8914    0.9265      6903\n",
      "\n",
      "    accuracy                         0.8816      8331\n",
      "   macro avg     0.7261    0.8418    0.7730      8331\n",
      "weighted avg     0.9039    0.8816    0.8885      8331\n",
      "\n",
      "\n",
      "\n",
      " Epoch 013, patience: 20\n"
     ]
    },
    {
     "name": "stderr",
     "output_type": "stream",
     "text": [
      "Epoch 13: 100%|██████████| 720/720 [01:29<00:00,  8.01it/s]\n"
     ]
    },
    {
     "name": "stdout",
     "output_type": "stream",
     "text": [
      "[E:13] train tr_loss=979.3504, it_loss=28.6682, total=1008.0186\n"
     ]
    },
    {
     "name": "stderr",
     "output_type": "stream",
     "text": [
      "Evaluating: 100%|██████████| 90/90 [00:05<00:00, 15.46it/s]\n"
     ]
    },
    {
     "name": "stdout",
     "output_type": "stream",
     "text": [
      "\n",
      "\n",
      "Full Accuracy: 0.9029, Full F1: 0.7889\n",
      "              precision    recall  f1-score   support\n",
      "\n",
      "           1     0.6247    0.8245    0.7108       319\n",
      "           2     0.6256    0.7962    0.7007       319\n",
      "           3     0.9767    0.9390    0.9575      4905\n",
      "\n",
      "    accuracy                         0.9242      5543\n",
      "   macro avg     0.7423    0.8532    0.7897      5543\n",
      "weighted avg     0.9362    0.9242    0.9285      5543\n",
      "\n",
      "\n",
      "\n",
      "TR Accuracy: 0.9242, TR F1: 0.7897\n",
      "              precision    recall  f1-score   support\n",
      "\n",
      "           1     0.6201    0.8021    0.6994       763\n",
      "           2     0.6309    0.8526    0.7252      1303\n",
      "           3     0.9711    0.9150    0.9422     11808\n",
      "\n",
      "    accuracy                         0.9029     13874\n",
      "   macro avg     0.7407    0.8566    0.7889     13874\n",
      "weighted avg     0.9198    0.9029    0.9085     13874\n",
      "\n",
      "\n",
      "\n",
      "IT Accuracy: 0.8887, IT F1: 0.7850\n",
      "              precision    recall  f1-score   support\n",
      "\n",
      "           1     0.6166    0.7860    0.6911       444\n",
      "           2     0.6325    0.8709    0.7328       984\n",
      "           3     0.9669    0.8979    0.9311      6903\n",
      "\n",
      "    accuracy                         0.8887      8331\n",
      "   macro avg     0.7387    0.8516    0.7850      8331\n",
      "weighted avg     0.9088    0.8887    0.8949      8331\n",
      "\n",
      "\n",
      "\n",
      " Epoch 014, patience: 20\n"
     ]
    },
    {
     "name": "stderr",
     "output_type": "stream",
     "text": [
      "Epoch 14: 100%|██████████| 720/720 [01:29<00:00,  8.04it/s]\n"
     ]
    },
    {
     "name": "stdout",
     "output_type": "stream",
     "text": [
      "[E:14] train tr_loss=878.5490, it_loss=28.0120, total=906.5610\n"
     ]
    },
    {
     "name": "stderr",
     "output_type": "stream",
     "text": [
      "Evaluating: 100%|██████████| 90/90 [00:05<00:00, 15.07it/s]\n"
     ]
    },
    {
     "name": "stdout",
     "output_type": "stream",
     "text": [
      "\n",
      "\n",
      "Full Accuracy: 0.8995, Full F1: 0.7899\n",
      "              precision    recall  f1-score   support\n",
      "\n",
      "           1     0.6376    0.8495    0.7285       319\n",
      "           2     0.6195    0.8370    0.7120       319\n",
      "           3     0.9799    0.9364    0.9577      4905\n",
      "\n",
      "    accuracy                         0.9257      5543\n",
      "   macro avg     0.7457    0.8743    0.7994      5543\n",
      "weighted avg     0.9395    0.9257    0.9303      5543\n",
      "\n",
      "\n",
      "\n",
      "TR Accuracy: 0.9257, TR F1: 0.7994\n",
      "              precision    recall  f1-score   support\n",
      "\n",
      "           1     0.6132    0.8309    0.7056       763\n",
      "           2     0.6108    0.8903    0.7245      1303\n",
      "           3     0.9767    0.9050    0.9395     11808\n",
      "\n",
      "    accuracy                         0.8995     13874\n",
      "   macro avg     0.7336    0.8754    0.7899     13874\n",
      "weighted avg     0.9223    0.8995    0.9064     13874\n",
      "\n",
      "\n",
      "\n",
      "IT Accuracy: 0.8821, IT F1: 0.7813\n",
      "              precision    recall  f1-score   support\n",
      "\n",
      "           1     0.5961    0.8176    0.6895       444\n",
      "           2     0.6083    0.9075    0.7284       984\n",
      "           3     0.9743    0.8827    0.9262      6903\n",
      "\n",
      "    accuracy                         0.8821      8331\n",
      "   macro avg     0.7262    0.8692    0.7813      8331\n",
      "weighted avg     0.9109    0.8821    0.8902      8331\n",
      "\n",
      "\n",
      "\n",
      " Epoch 015, patience: 20\n"
     ]
    },
    {
     "name": "stderr",
     "output_type": "stream",
     "text": [
      "Epoch 15: 100%|██████████| 720/720 [01:33<00:00,  7.68it/s]\n"
     ]
    },
    {
     "name": "stdout",
     "output_type": "stream",
     "text": [
      "[E:15] train tr_loss=766.6603, it_loss=26.9842, total=793.6445\n"
     ]
    },
    {
     "name": "stderr",
     "output_type": "stream",
     "text": [
      "Evaluating: 100%|██████████| 90/90 [00:05<00:00, 17.07it/s]\n"
     ]
    },
    {
     "name": "stdout",
     "output_type": "stream",
     "text": [
      "\n",
      "\n",
      "Full Accuracy: 0.9088, Full F1: 0.8038\n",
      "              precision    recall  f1-score   support\n",
      "\n",
      "           1     0.6450    0.8715    0.7413       319\n",
      "           2     0.6044    0.8527    0.7074       319\n",
      "           3     0.9824    0.9337    0.9575      4905\n",
      "\n",
      "    accuracy                         0.9255      5543\n",
      "   macro avg     0.7440    0.8860    0.8021      5543\n",
      "weighted avg     0.9412    0.9255    0.9306      5543\n",
      "\n",
      "\n",
      "\n",
      "TR Accuracy: 0.9255, TR F1: 0.8021\n",
      "              precision    recall  f1-score   support\n",
      "\n",
      "           1     0.6419    0.8362    0.7262       763\n",
      "           2     0.6415    0.8734    0.7397      1303\n",
      "           3     0.9754    0.9174    0.9455     11808\n",
      "\n",
      "    accuracy                         0.9088     13874\n",
      "   macro avg     0.7529    0.8757    0.8038     13874\n",
      "weighted avg     0.9257    0.9088    0.9141     13874\n",
      "\n",
      "\n",
      "\n",
      "IT Accuracy: 0.8977, IT F1: 0.8008\n",
      "              precision    recall  f1-score   support\n",
      "\n",
      "           1     0.6394    0.8108    0.7150       444\n",
      "           2     0.6541    0.8801    0.7504       984\n",
      "           3     0.9704    0.9058    0.9370      6903\n",
      "\n",
      "    accuracy                         0.8977      8331\n",
      "   macro avg     0.7546    0.8656    0.8008      8331\n",
      "weighted avg     0.9154    0.8977    0.9031      8331\n",
      "\n",
      "\n",
      "\n",
      " Epoch 016, patience: 20\n"
     ]
    },
    {
     "name": "stderr",
     "output_type": "stream",
     "text": [
      "Epoch 16: 100%|██████████| 720/720 [01:28<00:00,  8.12it/s]\n"
     ]
    },
    {
     "name": "stdout",
     "output_type": "stream",
     "text": [
      "[E:16] train tr_loss=688.8933, it_loss=26.3805, total=715.2738\n"
     ]
    },
    {
     "name": "stderr",
     "output_type": "stream",
     "text": [
      "Evaluating: 100%|██████████| 90/90 [00:05<00:00, 15.98it/s]\n"
     ]
    },
    {
     "name": "stdout",
     "output_type": "stream",
     "text": [
      "\n",
      "\n",
      "Full Accuracy: 0.9100, Full F1: 0.8081\n",
      "              precision    recall  f1-score   support\n",
      "\n",
      "           1     0.6358    0.9028    0.7461       319\n",
      "           2     0.6047    0.8871    0.7192       319\n",
      "           3     0.9866    0.9297    0.9573      4905\n",
      "\n",
      "    accuracy                         0.9257      5543\n",
      "   macro avg     0.7423    0.9065    0.8075      5543\n",
      "weighted avg     0.9444    0.9257    0.9314      5543\n",
      "\n",
      "\n",
      "\n",
      "TR Accuracy: 0.9257, TR F1: 0.8075\n",
      "              precision    recall  f1-score   support\n",
      "\n",
      "           1     0.6405    0.8571    0.7332       763\n",
      "           2     0.6453    0.8810    0.7450      1303\n",
      "           3     0.9774    0.9167    0.9461     11808\n",
      "\n",
      "    accuracy                         0.9100     13874\n",
      "   macro avg     0.7544    0.8850    0.8081     13874\n",
      "weighted avg     0.9277    0.9100    0.9155     13874\n",
      "\n",
      "\n",
      "\n",
      "IT Accuracy: 0.8997, IT F1: 0.8051\n",
      "              precision    recall  f1-score   support\n",
      "\n",
      "           1     0.6444    0.8243    0.7233       444\n",
      "           2     0.6598    0.8791    0.7538       984\n",
      "           3     0.9709    0.9074    0.9381      6903\n",
      "\n",
      "    accuracy                         0.8997      8331\n",
      "   macro avg     0.7583    0.8703    0.8051      8331\n",
      "weighted avg     0.9167    0.8997    0.9049      8331\n",
      "\n",
      "\n",
      "\n",
      " Epoch 017, patience: 20\n"
     ]
    },
    {
     "name": "stderr",
     "output_type": "stream",
     "text": [
      "Epoch 17: 100%|██████████| 720/720 [01:23<00:00,  8.63it/s]\n"
     ]
    },
    {
     "name": "stdout",
     "output_type": "stream",
     "text": [
      "[E:17] train tr_loss=620.1098, it_loss=25.4637, total=645.5735\n"
     ]
    },
    {
     "name": "stderr",
     "output_type": "stream",
     "text": [
      "Evaluating: 100%|██████████| 90/90 [00:05<00:00, 17.15it/s]\n"
     ]
    },
    {
     "name": "stdout",
     "output_type": "stream",
     "text": [
      "\n",
      "\n",
      "Full Accuracy: 0.9136, Full F1: 0.8145\n",
      "              precision    recall  f1-score   support\n",
      "\n",
      "           1     0.6320    0.9154    0.7478       319\n",
      "           2     0.5833    0.8997    0.7078       319\n",
      "           3     0.9885    0.9248    0.9556      4905\n",
      "\n",
      "    accuracy                         0.9228      5543\n",
      "   macro avg     0.7346    0.9133    0.8037      5543\n",
      "weighted avg     0.9446    0.9228    0.9293      5543\n",
      "\n",
      "\n",
      "\n",
      "TR Accuracy: 0.9228, TR F1: 0.8037\n",
      "              precision    recall  f1-score   support\n",
      "\n",
      "           1     0.6603    0.8637    0.7484       763\n",
      "           2     0.6542    0.8695    0.7466      1303\n",
      "           3     0.9766    0.9217    0.9483     11808\n",
      "\n",
      "    accuracy                         0.9136     13874\n",
      "   macro avg     0.7637    0.8850    0.8145     13874\n",
      "weighted avg     0.9289    0.9136    0.9184     13874\n",
      "\n",
      "\n",
      "\n",
      "IT Accuracy: 0.9075, IT F1: 0.8177\n",
      "              precision    recall  f1-score   support\n",
      "\n",
      "           1     0.6847    0.8266    0.7490       444\n",
      "           2     0.6823    0.8598    0.7608       984\n",
      "           3     0.9683    0.9195    0.9432      6903\n",
      "\n",
      "    accuracy                         0.9075      8331\n",
      "   macro avg     0.7784    0.8686    0.8177      8331\n",
      "weighted avg     0.9194    0.9075    0.9113      8331\n",
      "\n",
      "\n",
      "\n",
      " Epoch 018, patience: 20\n"
     ]
    },
    {
     "name": "stderr",
     "output_type": "stream",
     "text": [
      "Epoch 18: 100%|██████████| 720/720 [01:26<00:00,  8.30it/s]\n"
     ]
    },
    {
     "name": "stdout",
     "output_type": "stream",
     "text": [
      "[E:18] train tr_loss=563.3561, it_loss=24.8432, total=588.1993\n"
     ]
    },
    {
     "name": "stderr",
     "output_type": "stream",
     "text": [
      "Evaluating: 100%|██████████| 90/90 [00:05<00:00, 16.47it/s]\n"
     ]
    },
    {
     "name": "stdout",
     "output_type": "stream",
     "text": [
      "\n",
      "\n",
      "Full Accuracy: 0.9178, Full F1: 0.8221\n",
      "              precision    recall  f1-score   support\n",
      "\n",
      "           1     0.6745    0.8966    0.7699       319\n",
      "           2     0.6461    0.8871    0.7477       319\n",
      "           3     0.9861    0.9411    0.9631      4905\n",
      "\n",
      "    accuracy                         0.9354      5543\n",
      "   macro avg     0.7689    0.9083    0.8269      5543\n",
      "weighted avg     0.9486    0.9354    0.9396      5543\n",
      "\n",
      "\n",
      "\n",
      "TR Accuracy: 0.9354, TR F1: 0.8269\n",
      "              precision    recall  f1-score   support\n",
      "\n",
      "           1     0.6749    0.8598    0.7562       763\n",
      "           2     0.6665    0.8818    0.7592      1303\n",
      "           3     0.9777    0.9256    0.9509     11808\n",
      "\n",
      "    accuracy                         0.9178     13874\n",
      "   macro avg     0.7730    0.8890    0.8221     13874\n",
      "weighted avg     0.9318    0.9178    0.9222     13874\n",
      "\n",
      "\n",
      "\n",
      "IT Accuracy: 0.9061, IT F1: 0.8171\n",
      "              precision    recall  f1-score   support\n",
      "\n",
      "           1     0.6752    0.8333    0.7460       444\n",
      "           2     0.6734    0.8801    0.7630       984\n",
      "           3     0.9717    0.9145    0.9422      6903\n",
      "\n",
      "    accuracy                         0.9061      8331\n",
      "   macro avg     0.7734    0.8760    0.8171      8331\n",
      "weighted avg     0.9206    0.9061    0.9106      8331\n",
      "\n",
      "\n",
      "\n",
      " Epoch 019, patience: 20\n"
     ]
    },
    {
     "name": "stderr",
     "output_type": "stream",
     "text": [
      "Epoch 19: 100%|██████████| 720/720 [01:27<00:00,  8.27it/s]\n"
     ]
    },
    {
     "name": "stdout",
     "output_type": "stream",
     "text": [
      "[E:19] train tr_loss=513.8196, it_loss=24.1008, total=537.9203\n"
     ]
    },
    {
     "name": "stderr",
     "output_type": "stream",
     "text": [
      "Evaluating: 100%|██████████| 90/90 [00:05<00:00, 15.13it/s]\n"
     ]
    },
    {
     "name": "stdout",
     "output_type": "stream",
     "text": [
      "\n",
      "\n",
      "Full Accuracy: 0.9181, Full F1: 0.8239\n",
      "              precision    recall  f1-score   support\n",
      "\n",
      "           1     0.6498    0.9248    0.7633       319\n",
      "           2     0.6012    0.9122    0.7248       319\n",
      "           3     0.9896    0.9291    0.9584      4905\n",
      "\n",
      "    accuracy                         0.9278      5543\n",
      "   macro avg     0.7469    0.9220    0.8155      5543\n",
      "weighted avg     0.9477    0.9278    0.9337      5543\n",
      "\n",
      "\n",
      "\n",
      "TR Accuracy: 0.9278, TR F1: 0.8155\n",
      "              precision    recall  f1-score   support\n",
      "\n",
      "           1     0.6734    0.8755    0.7613       763\n",
      "           2     0.6669    0.8818    0.7594      1303\n",
      "           3     0.9787    0.9249    0.9510     11808\n",
      "\n",
      "    accuracy                         0.9181     13874\n",
      "   macro avg     0.7730    0.8941    0.8239     13874\n",
      "weighted avg     0.9326    0.9181    0.9226     13874\n",
      "\n",
      "\n",
      "\n",
      "IT Accuracy: 0.9117, IT F1: 0.8258\n",
      "              precision    recall  f1-score   support\n",
      "\n",
      "           1     0.6933    0.8401    0.7597       444\n",
      "           2     0.6925    0.8720    0.7719       984\n",
      "           3     0.9710    0.9219    0.9458      6903\n",
      "\n",
      "    accuracy                         0.9117      8331\n",
      "   macro avg     0.7856    0.8780    0.8258      8331\n",
      "weighted avg     0.9233    0.9117    0.9154      8331\n",
      "\n",
      "\n",
      "\n",
      " Epoch 020, patience: 20\n"
     ]
    },
    {
     "name": "stderr",
     "output_type": "stream",
     "text": [
      "Epoch 20: 100%|██████████| 720/720 [01:24<00:00,  8.47it/s]\n"
     ]
    },
    {
     "name": "stdout",
     "output_type": "stream",
     "text": [
      "[E:20] train tr_loss=468.5211, it_loss=23.7144, total=492.2354\n"
     ]
    },
    {
     "name": "stderr",
     "output_type": "stream",
     "text": [
      "Evaluating: 100%|██████████| 90/90 [00:04<00:00, 18.06it/s]\n"
     ]
    },
    {
     "name": "stdout",
     "output_type": "stream",
     "text": [
      "\n",
      "\n",
      "Full Accuracy: 0.9209, Full F1: 0.8304\n",
      "              precision    recall  f1-score   support\n",
      "\n",
      "           1     0.6838    0.9154    0.7828       319\n",
      "           2     0.6388    0.9091    0.7503       319\n",
      "           3     0.9886    0.9397    0.9635      4905\n",
      "\n",
      "    accuracy                         0.9365      5543\n",
      "   macro avg     0.7704    0.9214    0.8322      5543\n",
      "weighted avg     0.9510    0.9365    0.9409      5543\n",
      "\n",
      "\n",
      "\n",
      "TR Accuracy: 0.9365, TR F1: 0.8322\n",
      "              precision    recall  f1-score   support\n",
      "\n",
      "           1     0.6812    0.8820    0.7687       763\n",
      "           2     0.6720    0.9010    0.7698      1303\n",
      "           3     0.9812    0.9256    0.9526     11808\n",
      "\n",
      "    accuracy                         0.9209     13874\n",
      "   macro avg     0.7781    0.9029    0.8304     13874\n",
      "weighted avg     0.9357    0.9209    0.9253     13874\n",
      "\n",
      "\n",
      "\n",
      "IT Accuracy: 0.9106, IT F1: 0.8265\n",
      "              precision    recall  f1-score   support\n",
      "\n",
      "           1     0.6791    0.8581    0.7582       444\n",
      "           2     0.6837    0.8984    0.7765       984\n",
      "           3     0.9759    0.9157    0.9448      6903\n",
      "\n",
      "    accuracy                         0.9106      8331\n",
      "   macro avg     0.7796    0.8907    0.8265      8331\n",
      "weighted avg     0.9256    0.9106    0.9150      8331\n",
      "\n",
      "\n",
      "\n",
      " Epoch 021, patience: 20\n"
     ]
    },
    {
     "name": "stderr",
     "output_type": "stream",
     "text": [
      "Epoch 21: 100%|██████████| 720/720 [01:27<00:00,  8.27it/s]\n"
     ]
    },
    {
     "name": "stdout",
     "output_type": "stream",
     "text": [
      "[E:21] train tr_loss=433.3737, it_loss=23.3494, total=456.7231\n"
     ]
    },
    {
     "name": "stderr",
     "output_type": "stream",
     "text": [
      "Evaluating: 100%|██████████| 90/90 [00:05<00:00, 17.63it/s]\n"
     ]
    },
    {
     "name": "stdout",
     "output_type": "stream",
     "text": [
      "\n",
      "\n",
      "Full Accuracy: 0.9236, Full F1: 0.8333\n",
      "              precision    recall  f1-score   support\n",
      "\n",
      "           1     0.6689    0.9310    0.7785       319\n",
      "           2     0.6152    0.9122    0.7348       319\n",
      "           3     0.9898    0.9335    0.9609      4905\n",
      "\n",
      "    accuracy                         0.9322      5543\n",
      "   macro avg     0.7580    0.9256    0.8247      5543\n",
      "weighted avg     0.9498    0.9322    0.9374      5543\n",
      "\n",
      "\n",
      "\n",
      "TR Accuracy: 0.9322, TR F1: 0.8247\n",
      "              precision    recall  f1-score   support\n",
      "\n",
      "           1     0.6927    0.8834    0.7765       763\n",
      "           2     0.6907    0.8672    0.7690      1303\n",
      "           3     0.9774    0.9324    0.9544     11808\n",
      "\n",
      "    accuracy                         0.9236     13874\n",
      "   macro avg     0.7869    0.8943    0.8333     13874\n",
      "weighted avg     0.9348    0.9236    0.9272     13874\n",
      "\n",
      "\n",
      "\n",
      "IT Accuracy: 0.9179, IT F1: 0.8354\n",
      "              precision    recall  f1-score   support\n",
      "\n",
      "           1     0.7127    0.8491    0.7749       444\n",
      "           2     0.7214    0.8526    0.7816       984\n",
      "           3     0.9687    0.9316    0.9498      6903\n",
      "\n",
      "    accuracy                         0.9179      8331\n",
      "   macro avg     0.8009    0.8778    0.8354      8331\n",
      "weighted avg     0.9258    0.9179    0.9206      8331\n",
      "\n",
      "\n",
      "\n",
      " Epoch 022, patience: 20\n"
     ]
    },
    {
     "name": "stderr",
     "output_type": "stream",
     "text": [
      "Epoch 22: 100%|██████████| 720/720 [01:23<00:00,  8.67it/s]\n"
     ]
    },
    {
     "name": "stdout",
     "output_type": "stream",
     "text": [
      "[E:22] train tr_loss=400.0211, it_loss=22.9643, total=422.9854\n"
     ]
    },
    {
     "name": "stderr",
     "output_type": "stream",
     "text": [
      "Evaluating: 100%|██████████| 90/90 [00:05<00:00, 17.00it/s]\n"
     ]
    },
    {
     "name": "stdout",
     "output_type": "stream",
     "text": [
      "\n",
      "\n",
      "Full Accuracy: 0.9272, Full F1: 0.8389\n",
      "              precision    recall  f1-score   support\n",
      "\n",
      "           1     0.6853    0.9216    0.7861       319\n",
      "           2     0.6410    0.9122    0.7529       319\n",
      "           3     0.9893    0.9399    0.9639      4905\n",
      "\n",
      "    accuracy                         0.9372      5543\n",
      "   macro avg     0.7719    0.9246    0.8343      5543\n",
      "weighted avg     0.9517    0.9372    0.9416      5543\n",
      "\n",
      "\n",
      "\n",
      "TR Accuracy: 0.9372, TR F1: 0.8343\n",
      "              precision    recall  f1-score   support\n",
      "\n",
      "           1     0.7038    0.8781    0.7813       763\n",
      "           2     0.7060    0.8680    0.7787      1303\n",
      "           3     0.9773    0.9369    0.9567     11808\n",
      "\n",
      "    accuracy                         0.9272     13874\n",
      "   macro avg     0.7957    0.8943    0.8389     13874\n",
      "weighted avg     0.9368    0.9272    0.9303     13874\n",
      "\n",
      "\n",
      "\n",
      "IT Accuracy: 0.9205, IT F1: 0.8391\n",
      "              precision    recall  f1-score   support\n",
      "\n",
      "           1     0.7189    0.8468    0.7777       444\n",
      "           2     0.7317    0.8537    0.7880       984\n",
      "           3     0.9689    0.9348    0.9516      6903\n",
      "\n",
      "    accuracy                         0.9205      8331\n",
      "   macro avg     0.8065    0.8784    0.8391      8331\n",
      "weighted avg     0.9276    0.9205    0.9230      8331\n",
      "\n",
      "\n",
      "\n",
      " Epoch 023, patience: 20\n"
     ]
    },
    {
     "name": "stderr",
     "output_type": "stream",
     "text": [
      "Epoch 23: 100%|██████████| 720/720 [01:25<00:00,  8.42it/s]\n"
     ]
    },
    {
     "name": "stdout",
     "output_type": "stream",
     "text": [
      "[E:23] train tr_loss=376.2035, it_loss=22.4608, total=398.6642\n"
     ]
    },
    {
     "name": "stderr",
     "output_type": "stream",
     "text": [
      "Evaluating: 100%|██████████| 90/90 [00:05<00:00, 17.49it/s]\n"
     ]
    },
    {
     "name": "stdout",
     "output_type": "stream",
     "text": [
      "\n",
      "\n",
      "Full Accuracy: 0.9286, Full F1: 0.8418\n",
      "              precision    recall  f1-score   support\n",
      "\n",
      "           1     0.6852    0.9279    0.7883       319\n",
      "           2     0.6334    0.9154    0.7487       319\n",
      "           3     0.9897    0.9382    0.9633      4905\n",
      "\n",
      "    accuracy                         0.9363      5543\n",
      "   macro avg     0.7694    0.9272    0.8334      5543\n",
      "weighted avg     0.9517    0.9363    0.9408      5543\n",
      "\n",
      "\n",
      "\n",
      "TR Accuracy: 0.9363, TR F1: 0.8334\n",
      "              precision    recall  f1-score   support\n",
      "\n",
      "           1     0.7086    0.8794    0.7848       763\n",
      "           2     0.7109    0.8718    0.7832      1303\n",
      "           3     0.9778    0.9381    0.9575     11808\n",
      "\n",
      "    accuracy                         0.9286     13874\n",
      "   macro avg     0.7991    0.8965    0.8418     13874\n",
      "weighted avg     0.9379    0.9286    0.9316     13874\n",
      "\n",
      "\n",
      "\n",
      "IT Accuracy: 0.9235, IT F1: 0.8438\n",
      "              precision    recall  f1-score   support\n",
      "\n",
      "           1     0.7282    0.8446    0.7821       444\n",
      "           2     0.7423    0.8577    0.7959       984\n",
      "           3     0.9695    0.9380    0.9535      6903\n",
      "\n",
      "    accuracy                         0.9235      8331\n",
      "   macro avg     0.8133    0.8801    0.8438      8331\n",
      "weighted avg     0.9298    0.9235    0.9257      8331\n",
      "\n",
      "\n",
      "\n",
      " Epoch 024, patience: 20\n"
     ]
    },
    {
     "name": "stderr",
     "output_type": "stream",
     "text": [
      "Epoch 24: 100%|██████████| 720/720 [01:25<00:00,  8.39it/s]\n"
     ]
    },
    {
     "name": "stdout",
     "output_type": "stream",
     "text": [
      "[E:24] train tr_loss=342.7868, it_loss=22.1340, total=364.9209\n"
     ]
    },
    {
     "name": "stderr",
     "output_type": "stream",
     "text": [
      "Evaluating: 100%|██████████| 90/90 [00:05<00:00, 17.70it/s]\n"
     ]
    },
    {
     "name": "stdout",
     "output_type": "stream",
     "text": [
      "\n",
      "\n",
      "Full Accuracy: 0.9297, Full F1: 0.8449\n",
      "              precision    recall  f1-score   support\n",
      "\n",
      "           1     0.6826    0.9373    0.7900       319\n",
      "           2     0.6242    0.9216    0.7443       319\n",
      "           3     0.9907    0.9360    0.9626      4905\n",
      "\n",
      "    accuracy                         0.9352      5543\n",
      "   macro avg     0.7659    0.9316    0.8323      5543\n",
      "weighted avg     0.9519    0.9352    0.9401      5543\n",
      "\n",
      "\n",
      "\n",
      "TR Accuracy: 0.9352, TR F1: 0.8323\n",
      "              precision    recall  f1-score   support\n",
      "\n",
      "           1     0.7190    0.8820    0.7922       763\n",
      "           2     0.7088    0.8780    0.7844      1303\n",
      "           3     0.9786    0.9385    0.9582     11808\n",
      "\n",
      "    accuracy                         0.9297     13874\n",
      "   macro avg     0.8021    0.8995    0.8449     13874\n",
      "weighted avg     0.9390    0.9297    0.9327     13874\n",
      "\n",
      "\n",
      "\n",
      "IT Accuracy: 0.9261, IT F1: 0.8495\n",
      "              precision    recall  f1-score   support\n",
      "\n",
      "           1     0.7510    0.8423    0.7941       444\n",
      "           2     0.7437    0.8638    0.7992       984\n",
      "           3     0.9703    0.9403    0.9551      6903\n",
      "\n",
      "    accuracy                         0.9261      8331\n",
      "   macro avg     0.8216    0.8822    0.8495      8331\n",
      "weighted avg     0.9318    0.9261    0.9281      8331\n",
      "\n",
      "\n",
      "\n",
      " Epoch 025, patience: 20\n"
     ]
    },
    {
     "name": "stderr",
     "output_type": "stream",
     "text": [
      "Epoch 25: 100%|██████████| 720/720 [01:21<00:00,  8.83it/s]\n"
     ]
    },
    {
     "name": "stdout",
     "output_type": "stream",
     "text": [
      "[E:25] train tr_loss=327.4608, it_loss=21.7791, total=349.2400\n"
     ]
    },
    {
     "name": "stderr",
     "output_type": "stream",
     "text": [
      "Evaluating: 100%|██████████| 90/90 [00:04<00:00, 18.18it/s]\n"
     ]
    },
    {
     "name": "stdout",
     "output_type": "stream",
     "text": [
      "\n",
      "\n",
      "Full Accuracy: 0.9278, Full F1: 0.8426\n",
      "              precision    recall  f1-score   support\n",
      "\n",
      "           1     0.6858    0.9373    0.7921       319\n",
      "           2     0.6277    0.9248    0.7478       319\n",
      "           3     0.9909    0.9368    0.9631      4905\n",
      "\n",
      "    accuracy                         0.9361      5543\n",
      "   macro avg     0.7681    0.9330    0.8343      5543\n",
      "weighted avg     0.9525    0.9361    0.9409      5543\n",
      "\n",
      "\n",
      "\n",
      "TR Accuracy: 0.9361, TR F1: 0.8343\n",
      "              precision    recall  f1-score   support\n",
      "\n",
      "           1     0.7054    0.8912    0.7875       763\n",
      "           2     0.6983    0.8918    0.7833      1303\n",
      "           3     0.9808    0.9341    0.9569     11808\n",
      "\n",
      "    accuracy                         0.9278     13874\n",
      "   macro avg     0.7948    0.9057    0.8426     13874\n",
      "weighted avg     0.9391    0.9278    0.9313     13874\n",
      "\n",
      "\n",
      "\n",
      "IT Accuracy: 0.9222, IT F1: 0.8442\n",
      "              precision    recall  f1-score   support\n",
      "\n",
      "           1     0.7216    0.8581    0.7840       444\n",
      "           2     0.7261    0.8811    0.7961       984\n",
      "           3     0.9737    0.9322    0.9525      6903\n",
      "\n",
      "    accuracy                         0.9222      8331\n",
      "   macro avg     0.8071    0.8905    0.8442      8331\n",
      "weighted avg     0.9310    0.9222    0.9250      8331\n",
      "\n",
      "\n",
      "\n",
      " Epoch 026, patience: 19\n"
     ]
    },
    {
     "name": "stderr",
     "output_type": "stream",
     "text": [
      "Epoch 26: 100%|██████████| 720/720 [01:21<00:00,  8.82it/s]\n"
     ]
    },
    {
     "name": "stdout",
     "output_type": "stream",
     "text": [
      "[E:26] train tr_loss=305.5926, it_loss=21.4878, total=327.0804\n"
     ]
    },
    {
     "name": "stderr",
     "output_type": "stream",
     "text": [
      "Evaluating: 100%|██████████| 90/90 [00:05<00:00, 17.78it/s]\n"
     ]
    },
    {
     "name": "stdout",
     "output_type": "stream",
     "text": [
      "\n",
      "\n",
      "Full Accuracy: 0.9320, Full F1: 0.8499\n",
      "              precision    recall  f1-score   support\n",
      "\n",
      "           1     0.6920    0.9436    0.7984       319\n",
      "           2     0.6399    0.9248    0.7564       319\n",
      "           3     0.9914    0.9392    0.9646      4905\n",
      "\n",
      "    accuracy                         0.9387      5543\n",
      "   macro avg     0.7744    0.9359    0.8398      5543\n",
      "weighted avg     0.9539    0.9387    0.9431      5543\n",
      "\n",
      "\n",
      "\n",
      "TR Accuracy: 0.9387, TR F1: 0.8398\n",
      "              precision    recall  f1-score   support\n",
      "\n",
      "           1     0.7255    0.8938    0.8009       763\n",
      "           2     0.7161    0.8787    0.7891      1303\n",
      "           3     0.9795    0.9403    0.9595     11808\n",
      "\n",
      "    accuracy                         0.9320     13874\n",
      "   macro avg     0.8070    0.9043    0.8499     13874\n",
      "weighted avg     0.9408    0.9320    0.9348     13874\n",
      "\n",
      "\n",
      "\n",
      "IT Accuracy: 0.9275, IT F1: 0.8533\n",
      "              precision    recall  f1-score   support\n",
      "\n",
      "           1     0.7545    0.8581    0.8030       444\n",
      "           2     0.7469    0.8638    0.8011       984\n",
      "           3     0.9713    0.9410    0.9559      6903\n",
      "\n",
      "    accuracy                         0.9275      8331\n",
      "   macro avg     0.8242    0.8877    0.8533      8331\n",
      "weighted avg     0.9332    0.9275    0.9295      8331\n",
      "\n",
      "\n",
      "\n",
      " Epoch 027, patience: 20\n"
     ]
    },
    {
     "name": "stderr",
     "output_type": "stream",
     "text": [
      "Epoch 27: 100%|██████████| 720/720 [01:24<00:00,  8.57it/s]\n"
     ]
    },
    {
     "name": "stdout",
     "output_type": "stream",
     "text": [
      "[E:27] train tr_loss=287.7498, it_loss=21.2673, total=309.0170\n"
     ]
    },
    {
     "name": "stderr",
     "output_type": "stream",
     "text": [
      "Evaluating: 100%|██████████| 90/90 [00:05<00:00, 16.52it/s]\n"
     ]
    },
    {
     "name": "stdout",
     "output_type": "stream",
     "text": [
      "\n",
      "\n",
      "Full Accuracy: 0.9297, Full F1: 0.8468\n",
      "              precision    recall  f1-score   support\n",
      "\n",
      "           1     0.7009    0.9404    0.8032       319\n",
      "           2     0.6498    0.9248    0.7633       319\n",
      "           3     0.9910    0.9417    0.9657      4905\n",
      "\n",
      "    accuracy                         0.9406      5543\n",
      "   macro avg     0.7806    0.9356    0.8441      5543\n",
      "weighted avg     0.9547    0.9406    0.9447      5543\n",
      "\n",
      "\n",
      "\n",
      "TR Accuracy: 0.9406, TR F1: 0.8441\n",
      "              precision    recall  f1-score   support\n",
      "\n",
      "           1     0.7023    0.9030    0.7901       763\n",
      "           2     0.7068    0.9010    0.7922      1303\n",
      "           3     0.9825    0.9346    0.9580     11808\n",
      "\n",
      "    accuracy                         0.9297     13874\n",
      "   macro avg     0.7972    0.9129    0.8468     13874\n",
      "weighted avg     0.9412    0.9297    0.9332     13874\n",
      "\n",
      "\n",
      "\n",
      "IT Accuracy: 0.9225, IT F1: 0.8451\n",
      "              precision    recall  f1-score   support\n",
      "\n",
      "           1     0.7034    0.8761    0.7803       444\n",
      "           2     0.7283    0.8933    0.8024       984\n",
      "           3     0.9766    0.9296    0.9525      6903\n",
      "\n",
      "    accuracy                         0.9225      8331\n",
      "   macro avg     0.8028    0.8997    0.8451      8331\n",
      "weighted avg     0.9327    0.9225    0.9256      8331\n",
      "\n",
      "\n",
      "\n",
      " Epoch 028, patience: 19\n"
     ]
    },
    {
     "name": "stderr",
     "output_type": "stream",
     "text": [
      "Epoch 28: 100%|██████████| 720/720 [01:24<00:00,  8.54it/s]\n"
     ]
    },
    {
     "name": "stdout",
     "output_type": "stream",
     "text": [
      "[E:28] train tr_loss=275.0002, it_loss=21.2402, total=296.2404\n"
     ]
    },
    {
     "name": "stderr",
     "output_type": "stream",
     "text": [
      "Evaluating: 100%|██████████| 90/90 [00:05<00:00, 17.75it/s]\n"
     ]
    },
    {
     "name": "stdout",
     "output_type": "stream",
     "text": [
      "\n",
      "\n",
      "Full Accuracy: 0.9324, Full F1: 0.8515\n",
      "              precision    recall  f1-score   support\n",
      "\n",
      "           1     0.6982    0.9498    0.8048       319\n",
      "           2     0.6311    0.9279    0.7513       319\n",
      "           3     0.9918    0.9382    0.9643      4905\n",
      "\n",
      "    accuracy                         0.9383      5543\n",
      "   macro avg     0.7737    0.9387    0.8401      5543\n",
      "weighted avg     0.9542    0.9383    0.9428      5543\n",
      "\n",
      "\n",
      "\n",
      "TR Accuracy: 0.9383, TR F1: 0.8401\n",
      "              precision    recall  f1-score   support\n",
      "\n",
      "           1     0.7254    0.9004    0.8035       763\n",
      "           2     0.7157    0.8849    0.7914      1303\n",
      "           3     0.9806    0.9397    0.9597     11808\n",
      "\n",
      "    accuracy                         0.9324     13874\n",
      "   macro avg     0.8072    0.9083    0.8515     13874\n",
      "weighted avg     0.9417    0.9324    0.9353     13874\n",
      "\n",
      "\n",
      "\n",
      "IT Accuracy: 0.9285, IT F1: 0.8551\n",
      "              precision    recall  f1-score   support\n",
      "\n",
      "           1     0.7485    0.8649    0.8025       444\n",
      "           2     0.7504    0.8709    0.8062       984\n",
      "           3     0.9727    0.9408    0.9565      6903\n",
      "\n",
      "    accuracy                         0.9285      8331\n",
      "   macro avg     0.8239    0.8922    0.8551      8331\n",
      "weighted avg     0.9345    0.9285    0.9305      8331\n",
      "\n",
      "\n",
      "\n",
      " Epoch 029, patience: 20\n"
     ]
    },
    {
     "name": "stderr",
     "output_type": "stream",
     "text": [
      "Epoch 29: 100%|██████████| 720/720 [01:25<00:00,  8.44it/s]\n"
     ]
    },
    {
     "name": "stdout",
     "output_type": "stream",
     "text": [
      "[E:29] train tr_loss=254.7711, it_loss=20.8165, total=275.5876\n"
     ]
    },
    {
     "name": "stderr",
     "output_type": "stream",
     "text": [
      "Evaluating: 100%|██████████| 90/90 [00:05<00:00, 17.27it/s]\n"
     ]
    },
    {
     "name": "stdout",
     "output_type": "stream",
     "text": [
      "\n",
      "\n",
      "Full Accuracy: 0.9338, Full F1: 0.8542\n",
      "              precision    recall  f1-score   support\n",
      "\n",
      "           1     0.7139    0.9467    0.8140       319\n",
      "           2     0.6600    0.9248    0.7702       319\n",
      "           3     0.9914    0.9445    0.9674      4905\n",
      "\n",
      "    accuracy                         0.9435      5543\n",
      "   macro avg     0.7884    0.9387    0.8506      5543\n",
      "weighted avg     0.9564    0.9435    0.9472      5543\n",
      "\n",
      "\n",
      "\n",
      "TR Accuracy: 0.9435, TR F1: 0.8506\n",
      "              precision    recall  f1-score   support\n",
      "\n",
      "           1     0.7301    0.9004    0.8063       763\n",
      "           2     0.7199    0.8895    0.7957      1303\n",
      "           3     0.9811    0.9408    0.9605     11808\n",
      "\n",
      "    accuracy                         0.9338     13874\n",
      "   macro avg     0.8104    0.9102    0.8542     13874\n",
      "weighted avg     0.9428    0.9338    0.9366     13874\n",
      "\n",
      "\n",
      "\n",
      "IT Accuracy: 0.9273, IT F1: 0.8536\n",
      "              precision    recall  f1-score   support\n",
      "\n",
      "           1     0.7432    0.8671    0.8004       444\n",
      "           2     0.7429    0.8780    0.8048       984\n",
      "           3     0.9738    0.9381    0.9557      6903\n",
      "\n",
      "    accuracy                         0.9273      8331\n",
      "   macro avg     0.8200    0.8944    0.8536      8331\n",
      "weighted avg     0.9343    0.9273    0.9296      8331\n",
      "\n",
      "\n",
      "\n",
      " Epoch 030, patience: 20\n"
     ]
    },
    {
     "name": "stderr",
     "output_type": "stream",
     "text": [
      "Epoch 30: 100%|██████████| 720/720 [01:26<00:00,  8.32it/s]\n"
     ]
    },
    {
     "name": "stdout",
     "output_type": "stream",
     "text": [
      "[E:30] train tr_loss=245.3492, it_loss=20.2987, total=265.6479\n"
     ]
    },
    {
     "name": "stderr",
     "output_type": "stream",
     "text": [
      "Evaluating: 100%|██████████| 90/90 [00:04<00:00, 18.26it/s]\n"
     ]
    },
    {
     "name": "stdout",
     "output_type": "stream",
     "text": [
      "\n",
      "\n",
      "Full Accuracy: 0.9381, Full F1: 0.8601\n",
      "              precision    recall  f1-score   support\n",
      "\n",
      "           1     0.7208    0.9467    0.8184       319\n",
      "           2     0.6697    0.9279    0.7779       319\n",
      "           3     0.9917    0.9466    0.9686      4905\n",
      "\n",
      "    accuracy                         0.9455      5543\n",
      "   macro avg     0.7940    0.9404    0.8550      5543\n",
      "weighted avg     0.9575    0.9455    0.9490      5543\n",
      "\n",
      "\n",
      "\n",
      "TR Accuracy: 0.9455, TR F1: 0.8550\n",
      "              precision    recall  f1-score   support\n",
      "\n",
      "           1     0.7567    0.8847    0.8157       763\n",
      "           2     0.7483    0.8626    0.8014      1303\n",
      "           3     0.9770    0.9499    0.9632     11808\n",
      "\n",
      "    accuracy                         0.9381     13874\n",
      "   macro avg     0.8274    0.8991    0.8601     13874\n",
      "weighted avg     0.9434    0.9381    0.9399     13874\n",
      "\n",
      "\n",
      "\n",
      "IT Accuracy: 0.9331, IT F1: 0.8611\n",
      "              precision    recall  f1-score   support\n",
      "\n",
      "           1     0.7886    0.8401    0.8135       444\n",
      "           2     0.7811    0.8415    0.8102       984\n",
      "           3     0.9669    0.9522    0.9595      6903\n",
      "\n",
      "    accuracy                         0.9331      8331\n",
      "   macro avg     0.8455    0.8779    0.8611      8331\n",
      "weighted avg     0.9355    0.9331    0.9341      8331\n",
      "\n",
      "\n",
      "\n",
      "...Done!\n"
     ]
    },
    {
     "data": {
      "text/plain": [
       "([tensor(30159.4473, device='cuda:0', grad_fn=<AddBackward0>),\n",
       "  tensor(10690.7422, device='cuda:0', grad_fn=<AddBackward0>),\n",
       "  tensor(6952.6367, device='cuda:0', grad_fn=<AddBackward0>),\n",
       "  tensor(5071.7266, device='cuda:0', grad_fn=<AddBackward0>),\n",
       "  tensor(3896.5745, device='cuda:0', grad_fn=<AddBackward0>),\n",
       "  tensor(3082.0820, device='cuda:0', grad_fn=<AddBackward0>),\n",
       "  tensor(2477.2949, device='cuda:0', grad_fn=<AddBackward0>),\n",
       "  tensor(2048.9019, device='cuda:0', grad_fn=<AddBackward0>),\n",
       "  tensor(1725.6592, device='cuda:0', grad_fn=<AddBackward0>),\n",
       "  tensor(1496.7126, device='cuda:0', grad_fn=<AddBackward0>),\n",
       "  tensor(1306.1852, device='cuda:0', grad_fn=<AddBackward0>),\n",
       "  tensor(1134.0746, device='cuda:0', grad_fn=<AddBackward0>),\n",
       "  tensor(1008.0186, device='cuda:0', grad_fn=<AddBackward0>),\n",
       "  tensor(906.5610, device='cuda:0', grad_fn=<AddBackward0>),\n",
       "  tensor(793.6445, device='cuda:0', grad_fn=<AddBackward0>),\n",
       "  tensor(715.2738, device='cuda:0', grad_fn=<AddBackward0>),\n",
       "  tensor(645.5735, device='cuda:0', grad_fn=<AddBackward0>),\n",
       "  tensor(588.1993, device='cuda:0', grad_fn=<AddBackward0>),\n",
       "  tensor(537.9203, device='cuda:0', grad_fn=<AddBackward0>),\n",
       "  tensor(492.2354, device='cuda:0', grad_fn=<AddBackward0>),\n",
       "  tensor(456.7231, device='cuda:0', grad_fn=<AddBackward0>),\n",
       "  tensor(422.9854, device='cuda:0', grad_fn=<AddBackward0>),\n",
       "  tensor(398.6642, device='cuda:0', grad_fn=<AddBackward0>),\n",
       "  tensor(364.9209, device='cuda:0', grad_fn=<AddBackward0>),\n",
       "  tensor(349.2400, device='cuda:0', grad_fn=<AddBackward0>),\n",
       "  tensor(327.0804, device='cuda:0', grad_fn=<AddBackward0>),\n",
       "  tensor(309.0170, device='cuda:0', grad_fn=<AddBackward0>),\n",
       "  tensor(296.2404, device='cuda:0', grad_fn=<AddBackward0>),\n",
       "  tensor(275.5876, device='cuda:0', grad_fn=<AddBackward0>),\n",
       "  tensor(265.6479, device='cuda:0', grad_fn=<AddBackward0>)],\n",
       " [0.8510883667291337,\n",
       "  0.8510883667291337,\n",
       "  0.8510883667291337,\n",
       "  0.8523136802652443,\n",
       "  0.8600980250828889,\n",
       "  0.8599538705492288,\n",
       "  0.8631973475565806,\n",
       "  0.8753063283840277,\n",
       "  0.8835231368026525,\n",
       "  0.8889289318149056,\n",
       "  0.8951996540291192,\n",
       "  0.8977223583681707,\n",
       "  0.9029119215799337,\n",
       "  0.8995242900389218,\n",
       "  0.9088222574599971,\n",
       "  0.9100475709961078,\n",
       "  0.9135793570707799,\n",
       "  0.9178319158137523,\n",
       "  0.9181202248810725,\n",
       "  0.9209312382874442,\n",
       "  0.9235980971601557,\n",
       "  0.9272019605016578,\n",
       "  0.9286435058382586,\n",
       "  0.9297246648407093,\n",
       "  0.9277785786362981,\n",
       "  0.9319590601124406,\n",
       "  0.9297246648407093,\n",
       "  0.9323915237134208,\n",
       "  0.9337609917831916,\n",
       "  0.9380856277929941],\n",
       " [0.3065181839420606,\n",
       "  0.3065181839420606,\n",
       "  0.3065181839420606,\n",
       "  0.31965719700314316,\n",
       "  0.470401123640483,\n",
       "  0.49574455750977925,\n",
       "  0.5546453807445332,\n",
       "  0.6913720719070054,\n",
       "  0.7238394392454425,\n",
       "  0.7452217030213047,\n",
       "  0.7666588761107377,\n",
       "  0.7764091547869191,\n",
       "  0.7889354357331176,\n",
       "  0.7898791678029898,\n",
       "  0.8038182979917835,\n",
       "  0.8080752674373987,\n",
       "  0.8144626884089513,\n",
       "  0.8220967029965749,\n",
       "  0.8238962038150875,\n",
       "  0.830389878978269,\n",
       "  0.8332763248403494,\n",
       "  0.8388914952194012,\n",
       "  0.841829158253045,\n",
       "  0.8449171441633295,\n",
       "  0.842553125725597,\n",
       "  0.8498543573526866,\n",
       "  0.8467654884437236,\n",
       "  0.8515188065582205,\n",
       "  0.854203469406268,\n",
       "  0.8601262888697648])"
      ]
     },
     "execution_count": 14,
     "metadata": {},
     "output_type": "execute_result"
    }
   ],
   "source": [
    "trainer = Trainer(tr_model = tr_model, it_model = it_model,\n",
    "                tr_optimizer = optim.Adam(tr_model.parameters(), lr=0.00001),\n",
    "                it_optimizer = optim.Adam(it_model.parameters(), lr=0.00001),\n",
    "                tr_embedder= tr_embedder,\n",
    "                it_embedder= it_embedder,\n",
    "                modelname = model_name,\n",
    "                labels_vocab=labels_vocab)\n",
    "\n",
    "trainer.train(train_dataloader, dev_dataloader, 30, patience=20)\n"
   ]
  }
 ],
 "metadata": {
  "kernelspec": {
   "display_name": "nlp",
   "language": "python",
   "name": "python3"
  },
  "language_info": {
   "codemirror_mode": {
    "name": "ipython",
    "version": 3
   },
   "file_extension": ".py",
   "mimetype": "text/x-python",
   "name": "python",
   "nbconvert_exporter": "python",
   "pygments_lexer": "ipython3",
   "version": "3.10.16"
  }
 },
 "nbformat": 4,
 "nbformat_minor": 2
}
