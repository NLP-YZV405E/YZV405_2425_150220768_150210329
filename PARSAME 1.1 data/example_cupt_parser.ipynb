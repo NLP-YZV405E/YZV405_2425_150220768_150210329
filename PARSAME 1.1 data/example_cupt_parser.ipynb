{
 "cells": [
  {
   "cell_type": "code",
   "execution_count": null,
   "metadata": {},
   "outputs": [],
   "source": [
    "def parse_cupt(file_path):\n",
    "    sentences = []\n",
    "    sentence = []\n",
    "    \n",
    "    with open(file_path, encoding=\"utf-8\") as f:\n",
    "        for line in f:\n",
    "            line = line.strip()\n",
    "            if line.startswith(\"#\") or line == \"\":\n",
    "                if line == \"\" and sentence:\n",
    "                    sentences.append(sentence)\n",
    "                    sentence = []\n",
    "                continue\n",
    "            columns = line.split('\\t')\n",
    "            sentence.append(columns)\n",
    "    \n",
    "    if sentence:\n",
    "        sentences.append(sentence)\n",
    "    \n",
    "    return sentences\n",
    "\n",
    "# Usage\n",
    "cupt_data = parse_cupt(r\"/sharedtask-1.1-TR/train.cupt\")\n",
    "for token in cupt_data[0]:\n",
    "    print(token)  # Each token is a list of columns\n"
   ]
  }
 ],
 "metadata": {
  "language_info": {
   "name": "python"
  }
 },
 "nbformat": 4,
 "nbformat_minor": 2
}
